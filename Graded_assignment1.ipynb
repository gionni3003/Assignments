{
 "cells": [
  {
   "cell_type": "markdown",
   "metadata": {},
   "source": [
    "# Graded assignment 1\n",
    "\n",
    "Mark Klik & Misja Mikkers\n",
    "\n",
    "\n",
    "# Packages\n",
    "\n",
    "We need the package `tidyverse`"
   ]
  },
  {
   "cell_type": "code",
   "execution_count": 2,
   "metadata": {},
   "outputs": [
    {
     "name": "stderr",
     "output_type": "stream",
     "text": [
      "-- Attaching packages --------------------------------------- tidyverse 1.2.1 --\n",
      "v ggplot2 2.2.1     v purrr   0.2.4\n",
      "v tibble  1.4.1     v dplyr   0.7.4\n",
      "v tidyr   0.7.2     v stringr 1.2.0\n",
      "v readr   1.1.1     v forcats 0.2.0\n",
      "-- Conflicts ------------------------------------------ tidyverse_conflicts() --\n",
      "x dplyr::filter() masks stats::filter()\n",
      "x dplyr::lag()    masks stats::lag()\n"
     ]
    }
   ],
   "source": [
    "library(tidyverse) "
   ]
  },
  {
   "cell_type": "markdown",
   "metadata": {},
   "source": [
    "# Assignment 1\n",
    "\n",
    "First, we generate some random data:"
   ]
  },
  {
   "cell_type": "code",
   "execution_count": 3,
   "metadata": {},
   "outputs": [
    {
     "data": {
      "text/html": [
       "<table>\n",
       "<thead><tr><th scope=col>V1</th><th scope=col>V2</th><th scope=col>V3</th><th scope=col>V4</th><th scope=col>V5</th><th scope=col>V6</th><th scope=col>V7</th><th scope=col>V8</th><th scope=col>V9</th><th scope=col>V10</th><th scope=col>V11</th><th scope=col>V12</th><th scope=col>V13</th><th scope=col>V14</th><th scope=col>V15</th><th scope=col>V16</th><th scope=col>V17</th><th scope=col>V18</th><th scope=col>V19</th><th scope=col>V20</th></tr></thead>\n",
       "<tbody>\n",
       "\t<tr><td>0.2104386 </td><td>0.2149240 </td><td>0.7355342 </td><td>0.0416948 </td><td>0.40167533</td><td>0.8214154 </td><td>0.3381176 </td><td>0.1199284 </td><td>0.04770329</td><td>0.7584277 </td><td>0.8339797 </td><td>0.6488373 </td><td>0.1267607 </td><td>0.6620410 </td><td>0.4648615 </td><td>0.6842528 </td><td>0.7944802 </td><td>0.5558623 </td><td>0.2341258 </td><td>0.7375514 </td></tr>\n",
       "\t<tr><td>0.6270375 </td><td>0.3331451 </td><td>0.5081493 </td><td>0.5310858 </td><td>0.01631411</td><td>0.1195610 </td><td>0.8071350 </td><td>0.2211875 </td><td>0.69341795</td><td>0.6723132 </td><td>0.1966158 </td><td>0.2559117 </td><td>0.3739714 </td><td>0.1842019 </td><td>0.4686692 </td><td>0.7568435 </td><td>0.6295896 </td><td>0.9769579 </td><td>0.1908679 </td><td>0.3030074 </td></tr>\n",
       "</tbody>\n",
       "</table>\n"
      ],
      "text/latex": [
       "\\begin{tabular}{r|llllllllllllllllllll}\n",
       " V1 & V2 & V3 & V4 & V5 & V6 & V7 & V8 & V9 & V10 & V11 & V12 & V13 & V14 & V15 & V16 & V17 & V18 & V19 & V20\\\\\n",
       "\\hline\n",
       "\t 0.2104386  & 0.2149240  & 0.7355342  & 0.0416948  & 0.40167533 & 0.8214154  & 0.3381176  & 0.1199284  & 0.04770329 & 0.7584277  & 0.8339797  & 0.6488373  & 0.1267607  & 0.6620410  & 0.4648615  & 0.6842528  & 0.7944802  & 0.5558623  & 0.2341258  & 0.7375514 \\\\\n",
       "\t 0.6270375  & 0.3331451  & 0.5081493  & 0.5310858  & 0.01631411 & 0.1195610  & 0.8071350  & 0.2211875  & 0.69341795 & 0.6723132  & 0.1966158  & 0.2559117  & 0.3739714  & 0.1842019  & 0.4686692  & 0.7568435  & 0.6295896  & 0.9769579  & 0.1908679  & 0.3030074 \\\\\n",
       "\\end{tabular}\n"
      ],
      "text/markdown": [
       "\n",
       "V1 | V2 | V3 | V4 | V5 | V6 | V7 | V8 | V9 | V10 | V11 | V12 | V13 | V14 | V15 | V16 | V17 | V18 | V19 | V20 | \n",
       "|---|---|\n",
       "| 0.2104386  | 0.2149240  | 0.7355342  | 0.0416948  | 0.40167533 | 0.8214154  | 0.3381176  | 0.1199284  | 0.04770329 | 0.7584277  | 0.8339797  | 0.6488373  | 0.1267607  | 0.6620410  | 0.4648615  | 0.6842528  | 0.7944802  | 0.5558623  | 0.2341258  | 0.7375514  | \n",
       "| 0.6270375  | 0.3331451  | 0.5081493  | 0.5310858  | 0.01631411 | 0.1195610  | 0.8071350  | 0.2211875  | 0.69341795 | 0.6723132  | 0.1966158  | 0.2559117  | 0.3739714  | 0.1842019  | 0.4686692  | 0.7568435  | 0.6295896  | 0.9769579  | 0.1908679  | 0.3030074  | \n",
       "\n",
       "\n"
      ],
      "text/plain": [
       "  V1        V2        V3        V4        V5         V6        V7       \n",
       "1 0.2104386 0.2149240 0.7355342 0.0416948 0.40167533 0.8214154 0.3381176\n",
       "2 0.6270375 0.3331451 0.5081493 0.5310858 0.01631411 0.1195610 0.8071350\n",
       "  V8        V9         V10       V11       V12       V13       V14      \n",
       "1 0.1199284 0.04770329 0.7584277 0.8339797 0.6488373 0.1267607 0.6620410\n",
       "2 0.2211875 0.69341795 0.6723132 0.1966158 0.2559117 0.3739714 0.1842019\n",
       "  V15       V16       V17       V18       V19       V20      \n",
       "1 0.4648615 0.6842528 0.7944802 0.5558623 0.2341258 0.7375514\n",
       "2 0.4686692 0.7568435 0.6295896 0.9769579 0.1908679 0.3030074"
      ]
     },
     "metadata": {},
     "output_type": "display_data"
    }
   ],
   "source": [
    "df1 <- as.data.frame(matrix(runif(20*2), ncol=20) )\n",
    "head(df1)"
   ]
  },
  {
   "cell_type": "markdown",
   "metadata": {},
   "source": [
    "_df1_ is a wide dataframe. The goal of the assignment is to change _df1_ into a long dataframe _df2_. And show the first rows of the dataframe using `head(df2)`\n",
    "\n",
    "The dataframe _df2_ should look like this:\n",
    "\n",
    "| Key | Value      |\n",
    "|-----|------------|\n",
    "| V1  | 0.09413864 |\n",
    "| V1  | 0.69782526 |\n",
    "| V2  | 0.23460454 |\n",
    "| V2  | 0.51520514 |\n",
    "| V3  | 0.63181844 |\n",
    "| V3  | 0.22807211 |"
   ]
  },
  {
   "cell_type": "code",
   "execution_count": 5,
   "metadata": {},
   "outputs": [
    {
     "data": {
      "text/html": [
       "<table>\n",
       "<thead><tr><th scope=col>key</th><th scope=col>value</th></tr></thead>\n",
       "<tbody>\n",
       "\t<tr><td>V1       </td><td>0.2104386</td></tr>\n",
       "\t<tr><td>V1       </td><td>0.6270375</td></tr>\n",
       "\t<tr><td>V2       </td><td>0.2149240</td></tr>\n",
       "\t<tr><td>V2       </td><td>0.3331451</td></tr>\n",
       "\t<tr><td>V3       </td><td>0.7355342</td></tr>\n",
       "\t<tr><td>V3       </td><td>0.5081493</td></tr>\n",
       "</tbody>\n",
       "</table>\n"
      ],
      "text/latex": [
       "\\begin{tabular}{r|ll}\n",
       " key & value\\\\\n",
       "\\hline\n",
       "\t V1        & 0.2104386\\\\\n",
       "\t V1        & 0.6270375\\\\\n",
       "\t V2        & 0.2149240\\\\\n",
       "\t V2        & 0.3331451\\\\\n",
       "\t V3        & 0.7355342\\\\\n",
       "\t V3        & 0.5081493\\\\\n",
       "\\end{tabular}\n"
      ],
      "text/markdown": [
       "\n",
       "key | value | \n",
       "|---|---|---|---|---|---|\n",
       "| V1        | 0.2104386 | \n",
       "| V1        | 0.6270375 | \n",
       "| V2        | 0.2149240 | \n",
       "| V2        | 0.3331451 | \n",
       "| V3        | 0.7355342 | \n",
       "| V3        | 0.5081493 | \n",
       "\n",
       "\n"
      ],
      "text/plain": [
       "  key value    \n",
       "1 V1  0.2104386\n",
       "2 V1  0.6270375\n",
       "3 V2  0.2149240\n",
       "4 V2  0.3331451\n",
       "5 V3  0.7355342\n",
       "6 V3  0.5081493"
      ]
     },
     "metadata": {},
     "output_type": "display_data"
    }
   ],
   "source": [
    "df2 <- df1 %>% \n",
    "gather(key,value,V1:V20)\n",
    "  \n",
    "\n",
    "head(df2)"
   ]
  },
  {
   "cell_type": "markdown",
   "metadata": {},
   "source": [
    "## Assignment 2\n",
    "\n",
    "We will generate some data:"
   ]
  },
  {
   "cell_type": "code",
   "execution_count": 6,
   "metadata": {},
   "outputs": [
    {
     "data": {
      "text/html": [
       "<table>\n",
       "<thead><tr><th scope=col>id</th><th scope=col>V_1</th><th scope=col>V_2</th></tr></thead>\n",
       "<tbody>\n",
       "\t<tr><td>1        </td><td>42.46757 </td><td>-87.81005</td></tr>\n",
       "\t<tr><td>2        </td><td>42.04915 </td><td>-88.27303</td></tr>\n",
       "\t<tr><td>3        </td><td>39.11054 </td><td>-90.32408</td></tr>\n",
       "</tbody>\n",
       "</table>\n"
      ],
      "text/latex": [
       "\\begin{tabular}{r|lll}\n",
       " id & V\\_1 & V\\_2\\\\\n",
       "\\hline\n",
       "\t 1         & 42.46757  & -87.81005\\\\\n",
       "\t 2         & 42.04915  & -88.27303\\\\\n",
       "\t 3         & 39.11054  & -90.32408\\\\\n",
       "\\end{tabular}\n"
      ],
      "text/markdown": [
       "\n",
       "id | V_1 | V_2 | \n",
       "|---|---|---|\n",
       "| 1         | 42.46757  | -87.81005 | \n",
       "| 2         | 42.04915  | -88.27303 | \n",
       "| 3         | 39.11054  | -90.32408 | \n",
       "\n",
       "\n"
      ],
      "text/plain": [
       "  id V_1      V_2      \n",
       "1 1  42.46757 -87.81005\n",
       "2 2  42.04915 -88.27303\n",
       "3 3  39.11054 -90.32408"
      ]
     },
     "metadata": {},
     "output_type": "display_data"
    }
   ],
   "source": [
    "df3 <- as.data.frame(read.table(header=TRUE, text='\n",
    "      id        V_1       V_2                \n",
    "          1  42.467573  -87.810047     \n",
    "          2  42.049148  -88.273029\n",
    "          3  39.110539  -90.324080\n",
    "                       '))\n",
    "\n",
    "head(df3)"
   ]
  },
  {
   "cell_type": "code",
   "execution_count": 7,
   "metadata": {},
   "outputs": [
    {
     "data": {
      "text/html": [
       "<table>\n",
       "<thead><tr><th scope=col>V_3</th><th scope=col>V_4</th><th scope=col>id</th></tr></thead>\n",
       "<tbody>\n",
       "\t<tr><td>one  </td><td>1h   </td><td>1    </td></tr>\n",
       "\t<tr><td>two  </td><td>1h   </td><td>1    </td></tr>\n",
       "\t<tr><td>three</td><td>8h   </td><td>2    </td></tr>\n",
       "\t<tr><td>four </td><td>1h   </td><td>4    </td></tr>\n",
       "</tbody>\n",
       "</table>\n"
      ],
      "text/latex": [
       "\\begin{tabular}{r|lll}\n",
       " V\\_3 & V\\_4 & id\\\\\n",
       "\\hline\n",
       "\t one   & 1h    & 1    \\\\\n",
       "\t two   & 1h    & 1    \\\\\n",
       "\t three & 8h    & 2    \\\\\n",
       "\t four  & 1h    & 4    \\\\\n",
       "\\end{tabular}\n"
      ],
      "text/markdown": [
       "\n",
       "V_3 | V_4 | id | \n",
       "|---|---|---|---|\n",
       "| one   | 1h    | 1     | \n",
       "| two   | 1h    | 1     | \n",
       "| three | 8h    | 2     | \n",
       "| four  | 1h    | 4     | \n",
       "\n",
       "\n"
      ],
      "text/plain": [
       "  V_3   V_4 id\n",
       "1 one   1h  1 \n",
       "2 two   1h  1 \n",
       "3 three 8h  2 \n",
       "4 four  1h  4 "
      ]
     },
     "metadata": {},
     "output_type": "display_data"
    }
   ],
   "source": [
    "df4 <- as.data.frame(read.table(header=TRUE, text='\n",
    "     V_3            V_4         id                 \n",
    "      one         1h            1\n",
    "      two         1h            1\n",
    "      three       8h            2\n",
    "      four        1h            4\n",
    "'))\n",
    "\n",
    "head(df4)"
   ]
  },
  {
   "cell_type": "markdown",
   "metadata": {},
   "source": [
    "\n",
    "You will have to merge these files, returning all rows and all columns from both _df3_ and _df5_. Where there are not matching values, return _NA_ for the missings. \n",
    "\n",
    "This should be the end result:\n",
    "\n",
    "| id | V_1      | V_2       | V_3   | V_4 |\n",
    "|----|----------|-----------|-------|-----|\n",
    "| 1  | 42.46757 | -87.81005 | one   | 1h  |\n",
    "| 1  | 42.46757 | -87.81005 | two   | 1h  |\n",
    "| 2  | 42.04915 | -88.27303 | three | 8h  |\n",
    "| 3  | 39.11054 | -90.32408 | NA    | NA  |\n",
    "| 4  | NA       | NA        | four  | 1h  |\n",
    "\n"
   ]
  },
  {
   "cell_type": "code",
   "execution_count": 8,
   "metadata": {},
   "outputs": [
    {
     "data": {
      "text/html": [
       "<table>\n",
       "<thead><tr><th scope=col>id</th><th scope=col>V_1</th><th scope=col>V_2</th><th scope=col>V_3</th><th scope=col>V_4</th></tr></thead>\n",
       "<tbody>\n",
       "\t<tr><td>1        </td><td>42.46757 </td><td>-87.81005</td><td>one      </td><td>1h       </td></tr>\n",
       "\t<tr><td>1        </td><td>42.46757 </td><td>-87.81005</td><td>two      </td><td>1h       </td></tr>\n",
       "\t<tr><td>2        </td><td>42.04915 </td><td>-88.27303</td><td>three    </td><td>8h       </td></tr>\n",
       "\t<tr><td>3        </td><td>39.11054 </td><td>-90.32408</td><td>NA       </td><td>NA       </td></tr>\n",
       "\t<tr><td>4        </td><td>      NA </td><td>       NA</td><td>four     </td><td>1h       </td></tr>\n",
       "</tbody>\n",
       "</table>\n"
      ],
      "text/latex": [
       "\\begin{tabular}{r|lllll}\n",
       " id & V\\_1 & V\\_2 & V\\_3 & V\\_4\\\\\n",
       "\\hline\n",
       "\t 1         & 42.46757  & -87.81005 & one       & 1h       \\\\\n",
       "\t 1         & 42.46757  & -87.81005 & two       & 1h       \\\\\n",
       "\t 2         & 42.04915  & -88.27303 & three     & 8h       \\\\\n",
       "\t 3         & 39.11054  & -90.32408 & NA        & NA       \\\\\n",
       "\t 4         &       NA  &        NA & four      & 1h       \\\\\n",
       "\\end{tabular}\n"
      ],
      "text/markdown": [
       "\n",
       "id | V_1 | V_2 | V_3 | V_4 | \n",
       "|---|---|---|---|---|\n",
       "| 1         | 42.46757  | -87.81005 | one       | 1h        | \n",
       "| 1         | 42.46757  | -87.81005 | two       | 1h        | \n",
       "| 2         | 42.04915  | -88.27303 | three     | 8h        | \n",
       "| 3         | 39.11054  | -90.32408 | NA        | NA        | \n",
       "| 4         |       NA  |        NA | four      | 1h        | \n",
       "\n",
       "\n"
      ],
      "text/plain": [
       "  id V_1      V_2       V_3   V_4\n",
       "1 1  42.46757 -87.81005 one   1h \n",
       "2 1  42.46757 -87.81005 two   1h \n",
       "3 2  42.04915 -88.27303 three 8h \n",
       "4 3  39.11054 -90.32408 NA    NA \n",
       "5 4        NA        NA four  1h "
      ]
     },
     "metadata": {},
     "output_type": "display_data"
    }
   ],
   "source": [
    "df5 <- full_join(df3, df4, by = \"id\")\n",
    "df5"
   ]
  },
  {
   "cell_type": "markdown",
   "metadata": {},
   "source": [
    "End of notebook"
   ]
  }
 ],
 "metadata": {
  "anaconda-cloud": {},
  "kernelspec": {
   "display_name": "R",
   "language": "R",
   "name": "ir"
  },
  "language_info": {
   "codemirror_mode": "r",
   "file_extension": ".r",
   "mimetype": "text/x-r-source",
   "name": "R",
   "pygments_lexer": "r",
   "version": "3.4.3"
  }
 },
 "nbformat": 4,
 "nbformat_minor": 1
}

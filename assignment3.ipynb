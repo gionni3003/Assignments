{
 "cells": [
  {
   "cell_type": "markdown",
   "metadata": {
    "deletable": false,
    "editable": false,
    "nbgrader": {
     "checksum": "e23c836eb38e5c02edcae436fa673de7",
     "grade": false,
     "grade_id": "cell-31131899ff445ad1",
     "locked": true,
     "schema_version": 1,
     "solution": false
    }
   },
   "source": [
    "# Doing math and statistics with python"
   ]
  },
  {
   "cell_type": "markdown",
   "metadata": {
    "deletable": false,
    "editable": false,
    "nbgrader": {
     "checksum": "70101f0308a5fbfde08a78611318faee",
     "grade": false,
     "grade_id": "cell-5ec381f2be38bcb2",
     "locked": true,
     "schema_version": 1,
     "solution": false
    }
   },
   "source": [
    "In this assignment, we practice and extend our use of mathematics and statistics in python. As in datacamp, we will focus on hacker statistics."
   ]
  },
  {
   "cell_type": "markdown",
   "metadata": {
    "deletable": false,
    "editable": false,
    "nbgrader": {
     "checksum": "d5b3ab9d1c0802adde2f75b1bfc4e029",
     "grade": false,
     "grade_id": "cell-3594aaae2c9a1978",
     "locked": true,
     "schema_version": 1,
     "solution": false
    }
   },
   "source": [
    "# Import libraries"
   ]
  },
  {
   "cell_type": "markdown",
   "metadata": {
    "deletable": false,
    "editable": false,
    "nbgrader": {
     "checksum": "9762908d9f162b3d8fed8e8500d63c56",
     "grade": false,
     "grade_id": "cell-9dd1ce7860f8f7ec",
     "locked": true,
     "schema_version": 1,
     "solution": false
    }
   },
   "source": [
    "First, we need to import some libraries:"
   ]
  },
  {
   "cell_type": "code",
   "execution_count": 8,
   "metadata": {
    "deletable": false,
    "editable": false,
    "nbgrader": {
     "checksum": "921bdc086c45f89b1d1b5c2156b56eeb",
     "grade": false,
     "grade_id": "cell-66cd613887ea9b6a",
     "locked": true,
     "schema_version": 1,
     "solution": false
    }
   },
   "outputs": [],
   "source": [
    "from scipy import optimize\n",
    "import numpy as np\n",
    "import matplotlib.pyplot as plt\n",
    "%matplotlib inline"
   ]
  },
  {
   "cell_type": "markdown",
   "metadata": {
    "deletable": false,
    "editable": false,
    "nbgrader": {
     "checksum": "3eeee14d5c4ae88dc99586f7af9283a4",
     "grade": false,
     "grade_id": "cell-d7e64240ee7d5391",
     "locked": true,
     "schema_version": 1,
     "solution": false
    }
   },
   "source": [
    "# Math\n",
    "\n",
    "## real valued function\n",
    "\n",
    "We start simple with the function $x^2 - 8x +15$.\n",
    "\n",
    "**a) [1 point]:** Define the python function `objective` as $x^2 - 8x +15$."
   ]
  },
  {
   "cell_type": "code",
   "execution_count": 9,
   "metadata": {
    "deletable": false,
    "nbgrader": {
     "checksum": "f63107e7cc80b485c778ef3e3466531e",
     "grade": true,
     "grade_id": "cell-53f008f1377b78dd",
     "locked": false,
     "points": 1,
     "schema_version": 1,
     "solution": true
    }
   },
   "outputs": [],
   "source": [
    "def objective(x):\n",
    "    return x**2 - 8*x + 15"
   ]
  },
  {
   "cell_type": "markdown",
   "metadata": {},
   "source": [
    "We want to know what the zeros/roots are of this function; that is, the points $x$ where the function equals 0 (or, crosses the $x$-axis).\n",
    "\n",
    "**b) [1 point]:** Use `fsolve` from `scipy.optimize` to find **both** roots of this functions."
   ]
  },
  {
   "cell_type": "code",
   "execution_count": 10,
   "metadata": {
    "deletable": false,
    "nbgrader": {
     "checksum": "bc2fb596f9db039448f29c1ad8f76d7a",
     "grade": true,
     "grade_id": "cell-d8981beefc03e4df",
     "locked": false,
     "points": 1,
     "schema_version": 1,
     "solution": true
    }
   },
   "outputs": [
    {
     "name": "stdout",
     "output_type": "stream",
     "text": [
      "[3.]\n",
      "[5.]\n"
     ]
    }
   ],
   "source": [
    "root1 = optimize.fsolve(objective,3) \n",
    "root2 = optimize.fsolve(objective,8) \n",
    "print(root1)\n",
    "print(root2)"
   ]
  },
  {
   "cell_type": "markdown",
   "metadata": {
    "deletable": false,
    "editable": false,
    "nbgrader": {
     "checksum": "7529304cb24bd4dd8dc1132acf858ff2",
     "grade": false,
     "grade_id": "cell-9936079c12a55c6c",
     "locked": true,
     "schema_version": 1,
     "solution": false
    }
   },
   "source": [
    "**c) [1 point]:** Use `matplotlib` to plot both the function `objective` and the function $1.5 x$. Make sure that the horizontal axis is labeled $x$ and the vertical axis $y$."
   ]
  },
  {
   "cell_type": "code",
   "execution_count": 18,
   "metadata": {
    "deletable": false,
    "nbgrader": {
     "checksum": "79db0c50f787e14a225f3f4143bd6f1a",
     "grade": true,
     "grade_id": "cell-4b9fcf110eead15d",
     "locked": false,
     "points": 1,
     "schema_version": 1,
     "solution": true
    }
   },
   "outputs": [
    {
     "data": {
      "text/plain": [
       "<function matplotlib.pyplot.show>"
      ]
     },
     "execution_count": 18,
     "metadata": {},
     "output_type": "execute_result"
    },
    {
     "data": {
      "image/png": "[encoded data removed]",
      "text/plain": [
       "<matplotlib.figure.Figure at 0x7fd889b25e80>"
      ]
     },
     "metadata": {},
     "output_type": "display_data"
    }
   ],
   "source": [
    "range_x = np.arange(0,8.1,0.1)\n",
    "range_y = [objective(x) for x in range_x]\n",
    "range_y2 = [1.5*x for x in range_x]\n",
    "plt.plot(range_x, range_y)\n",
    "plt.plot(range_x, range_y2)\n",
    "plt.xlabel('$x$')\n",
    "plt.ylabel('$y$')\n",
    "plt.show"
   ]
  },
  {
   "cell_type": "markdown",
   "metadata": {
    "deletable": false,
    "editable": false,
    "nbgrader": {
     "checksum": "f1a51c6b53209443ff7894c81e663d17",
     "grade": false,
     "grade_id": "cell-1a88c3871e1f6b9e",
     "locked": true,
     "schema_version": 1,
     "solution": false
    }
   },
   "source": [
    "**d) [1 point]:** Find the points of intersection between the function `objective` above and the function $f(x)=1.5 x$."
   ]
  },
  {
   "cell_type": "code",
   "execution_count": 19,
   "metadata": {
    "deletable": false,
    "nbgrader": {
     "checksum": "b7a58cdc98fdaba0e3f596fb8bb9e89d",
     "grade": true,
     "grade_id": "cell-f96bbae5c5cc29f1",
     "locked": false,
     "points": 1,
     "schema_version": 1,
     "solution": true
    }
   },
   "outputs": [
    {
     "name": "stdout",
     "output_type": "stream",
     "text": [
      "[2.]\n",
      "[7.5]\n"
     ]
    }
   ],
   "source": [
    "root3= optimize.fsolve(lambda x:objective(x)-1.5*x,0) \n",
    "root4 = optimize.fsolve(lambda x:objective(x)-1.5*x,10) \n",
    "print(root3)\n",
    "print(root4)"
   ]
  },
  {
   "cell_type": "markdown",
   "metadata": {
    "collapsed": true,
    "deletable": false,
    "editable": false,
    "nbgrader": {
     "checksum": "29f164c5f0013290236e7e737dc50ec8",
     "grade": false,
     "grade_id": "cell-318ec8b4881484a5",
     "locked": true,
     "schema_version": 1,
     "solution": false
    }
   },
   "source": [
    "**e) [1 point]** Find the minimum of the function `objective`."
   ]
  },
  {
   "cell_type": "code",
   "execution_count": 20,
   "metadata": {
    "deletable": false,
    "nbgrader": {
     "checksum": "bff419a26809a360a8f4913acb61a958",
     "grade": true,
     "grade_id": "cell-297c1daf1dde972f",
     "locked": false,
     "points": 1,
     "schema_version": 1,
     "solution": true
    }
   },
   "outputs": [
    {
     "name": "stdout",
     "output_type": "stream",
     "text": [
      "Optimization terminated successfully.\n",
      "         Current function value: -1.000000\n",
      "         Iterations: 29\n",
      "         Function evaluations: 58\n"
     ]
    },
    {
     "data": {
      "text/plain": [
       "array([4.])"
      ]
     },
     "execution_count": 20,
     "metadata": {},
     "output_type": "execute_result"
    }
   ],
   "source": [
    "optimize.fmin(objective,0)"
   ]
  },
  {
   "cell_type": "markdown",
   "metadata": {
    "deletable": false,
    "editable": false,
    "nbgrader": {
     "checksum": "c58ed02bb6a5b89eaa97e0932a9b533c",
     "grade": false,
     "grade_id": "cell-627ed7f013432d3f",
     "locked": true,
     "schema_version": 1,
     "solution": false
    }
   },
   "source": [
    "## vector valued function\n",
    "\n",
    "Now we consider a system of three linear equations in three unknowns:\n",
    "\n",
    "\\begin{align}\n",
    "x_0 + 3x_1+6x_2 &= 10 \\\\\n",
    "2x_0 + 9x_1+2x_2 &= 15 \\\\\n",
    "8x_0 + 3x_1+9x_2 &= 11\n",
    "\\end{align}\n",
    "\n",
    "where we have adjusted the indices on $x$ to facilitate the \"translation\" to python. The function $f$ below captures this system."
   ]
  },
  {
   "cell_type": "code",
   "execution_count": 21,
   "metadata": {
    "deletable": false,
    "editable": false,
    "nbgrader": {
     "checksum": "747eb1c224dd9ebfc5e1d383f094124d",
     "grade": false,
     "grade_id": "cell-67e2c5f42fd7cd67",
     "locked": true,
     "schema_version": 1,
     "solution": false
    }
   },
   "outputs": [],
   "source": [
    "def f(x):\n",
    "    return [x[0]+3*x[1]+6*x[2]-10,2*x[0]+9*x[1]+2*x[2]-15,8*x[0]+3*x[1]+9*x[2]-11]"
   ]
  },
  {
   "cell_type": "markdown",
   "metadata": {
    "deletable": false,
    "editable": false,
    "nbgrader": {
     "checksum": "0d063b7a8ac0a44e8e7fd5a540e6e9c4",
     "grade": false,
     "grade_id": "cell-e9e6a2918f132e02",
     "locked": true,
     "schema_version": 1,
     "solution": false
    }
   },
   "source": [
    "Although we often use `fsolve` to solve one (non-linear) equation in one unknown; it can also solve systems of equations.\n",
    "\n",
    "**f) [1 point]** Use `fsolve` to solve $f(x)=0$."
   ]
  },
  {
   "cell_type": "code",
   "execution_count": 22,
   "metadata": {
    "deletable": false,
    "nbgrader": {
     "checksum": "9dac18f29b98d905c38b26a38a07418a",
     "grade": true,
     "grade_id": "cell-e9ede69344561f9c",
     "locked": false,
     "points": 1,
     "schema_version": 1,
     "solution": true
    }
   },
   "outputs": [
    {
     "data": {
      "text/plain": [
       "array([-0.26605505,  1.51376147,  0.95412844])"
      ]
     },
     "execution_count": 22,
     "metadata": {},
     "output_type": "execute_result"
    }
   ],
   "source": [
    "optimize.fsolve(f,[0,0,0])"
   ]
  },
  {
   "cell_type": "markdown",
   "metadata": {},
   "source": [
    "Because we have a linear system here, we can also use matrices to solve this problem. So we write the equations above as \n",
    "\n",
    "\\begin{equation}\n",
    "Ax = b\n",
    "\\end{equation}\n",
    "\n",
    "where $A$ and $b$ are defined as follows:"
   ]
  },
  {
   "cell_type": "code",
   "execution_count": 23,
   "metadata": {},
   "outputs": [],
   "source": [
    "A = np.matrix([[1,3,6],[2,9,2],[8,3,9]])\n",
    "b = np.matrix([[10],[15],[11]])"
   ]
  },
  {
   "cell_type": "markdown",
   "metadata": {},
   "source": [
    "**g) [1 point]** Why didn't we write `b = np.matrix([10,15,11])`?"
   ]
  },
  {
   "cell_type": "markdown",
   "metadata": {
    "deletable": false,
    "nbgrader": {
     "checksum": "0122e065bb19111088fdc9947b5d0e77",
     "grade": true,
     "grade_id": "cell-c21a257cfac811ac",
     "locked": false,
     "points": 1,
     "schema_version": 1,
     "solution": true
    }
   },
   "source": [
    "YOUR ANSWER HERE"
   ]
  },
  {
   "cell_type": "markdown",
   "metadata": {
    "deletable": false,
    "editable": false,
    "nbgrader": {
     "checksum": "8f9b14dd645888fc5fd0369a2253fd3a",
     "grade": false,
     "grade_id": "cell-7e1b1338d36aafcb",
     "locked": true,
     "schema_version": 1,
     "solution": false
    }
   },
   "source": [
    "**h) [1 point]** Use $A^{-1}$ to solve this system of linear equations."
   ]
  },
  {
   "cell_type": "code",
   "execution_count": 24,
   "metadata": {
    "deletable": false,
    "nbgrader": {
     "checksum": "fe9f8de9a0f44527d648ef752bb74d5a",
     "grade": true,
     "grade_id": "cell-44ddc631bccd81f9",
     "locked": false,
     "points": 1,
     "schema_version": 1,
     "solution": true
    }
   },
   "outputs": [
    {
     "data": {
      "text/plain": [
       "matrix([[-0.26605505],\n",
       "        [ 1.51376147],\n",
       "        [ 0.95412844]])"
      ]
     },
     "execution_count": 24,
     "metadata": {},
     "output_type": "execute_result"
    }
   ],
   "source": [
    "A.I*b"
   ]
  },
  {
   "cell_type": "markdown",
   "metadata": {
    "deletable": false,
    "editable": false,
    "nbgrader": {
     "checksum": "7f51799a952e2c7050fab2ce7beb1428",
     "grade": false,
     "grade_id": "cell-ab90e4b3f418de70",
     "locked": true,
     "schema_version": 1,
     "solution": false
    }
   },
   "source": [
    "# Hacker statistics\n",
    "\n",
    "To illustrate how to use statistical distributions in python, we will revisit two well known statisticals results. Instead of deriving these, we will simulate them. Then we ask you to recognize what they are.\n",
    "\n",
    "We start with a [Poisson distribution](https://en.wikipedia.org/wiki/Poisson_distribution).\n",
    "\n",
    "To draw one sample out of a Poisson distribution with parameter $\\lambda = 4$, you can do the following:"
   ]
  },
  {
   "cell_type": "code",
   "execution_count": 25,
   "metadata": {
    "deletable": false,
    "editable": false,
    "nbgrader": {
     "checksum": "afcafc508d32f8deec1e9d130e425426",
     "grade": false,
     "grade_id": "cell-1f471e7910d7004e",
     "locked": true,
     "schema_version": 1,
     "solution": false
    }
   },
   "outputs": [
    {
     "data": {
      "text/plain": [
       "array([6])"
      ]
     },
     "execution_count": 25,
     "metadata": {},
     "output_type": "execute_result"
    }
   ],
   "source": [
    "np.random.poisson(4,1)"
   ]
  },
  {
   "cell_type": "markdown",
   "metadata": {
    "deletable": false,
    "editable": false,
    "nbgrader": {
     "checksum": "063ecd02ee255891c1fbdad1875e42ce",
     "grade": false,
     "grade_id": "cell-4df570dc2d07c675",
     "locked": true,
     "schema_version": 1,
     "solution": false
    }
   },
   "source": [
    "Note that these numbers are random. Hence, you see a different number, each time you do this.\n",
    "\n",
    "We can also draw 5 samples from this distribution:"
   ]
  },
  {
   "cell_type": "code",
   "execution_count": 26,
   "metadata": {},
   "outputs": [
    {
     "data": {
      "text/plain": [
       "array([4, 6, 4, 3, 5])"
      ]
     },
     "execution_count": 26,
     "metadata": {},
     "output_type": "execute_result"
    }
   ],
   "source": [
    "np.random.poisson(4,5)"
   ]
  },
  {
   "cell_type": "markdown",
   "metadata": {
    "deletable": false,
    "editable": false,
    "nbgrader": {
     "checksum": "5e8e9409ea642fd5b5a15d6805679eb9",
     "grade": false,
     "grade_id": "cell-f7db2ec9188f5f44",
     "locked": true,
     "schema_version": 1,
     "solution": false
    }
   },
   "source": [
    "To get an idea of what the distribution looks like, we can plot the mathematical equation for this distribution. \n",
    "\n",
    "But another way to do this, is to draw, say, 2000 samples from it and then plot the histogram of these samples. As long as you draw enough samples, this histogram will be reasonable accurate.\n",
    "\n",
    "**i) [1 point]** Plot the histogram of 2000 draws from this Poisson distribution with $\\lambda=4$."
   ]
  },
  {
   "cell_type": "code",
   "execution_count": 30,
   "metadata": {
    "deletable": false,
    "nbgrader": {
     "checksum": "b5b24507276d0d57e1f3b787ab8d4e84",
     "grade": true,
     "grade_id": "cell-623d6f6301e4a793",
     "locked": false,
     "points": 1,
     "schema_version": 1,
     "solution": true
    }
   },
   "outputs": [
    {
     "data": {
      "image/png": "[encoded data removed]",
      "text/plain": [
       "<matplotlib.figure.Figure at 0x7fd8879bbef0>"
      ]
     },
     "metadata": {},
     "output_type": "display_data"
    }
   ],
   "source": [
    "plt.hist(np.random.poisson(4,2000))\n",
    "plt.show()"
   ]
  },
  {
   "cell_type": "markdown",
   "metadata": {
    "deletable": false,
    "editable": false,
    "nbgrader": {
     "checksum": "3dc35e2aca19506a2cf15cda141650c9",
     "grade": false,
     "grade_id": "cell-c52c4443d26e08c3",
     "locked": true,
     "schema_version": 1,
     "solution": false
    }
   },
   "source": [
    "Now we are going to use this same idea to generate the distribution of the mean. The function `mean(n)` below does the following. We draw `n` samples out of the Poisson distribution with $\\lambda =4$ and we calculate the average (mean) of these `n` draws. This experiment --of calculating the mean of `n` draws-- we do 2000 times."
   ]
  },
  {
   "cell_type": "code",
   "execution_count": 36,
   "metadata": {
    "deletable": false,
    "editable": false,
    "nbgrader": {
     "checksum": "2156fa552ab01739d69a4951adae0e28",
     "grade": false,
     "grade_id": "cell-97b5c8e2323d201e",
     "locked": true,
     "schema_version": 1,
     "solution": false
    }
   },
   "outputs": [],
   "source": [
    "number_of_iterations = 2000\n",
    "\n",
    "def mean(n):\n",
    "    averages = []\n",
    "    for i in range(number_of_iterations):\n",
    "        x = np.random.poisson(4,n)\n",
    "        averages.append(np.mean(x))\n",
    "    return averages"
   ]
  },
  {
   "cell_type": "markdown",
   "metadata": {
    "deletable": false,
    "editable": false,
    "nbgrader": {
     "checksum": "503087644850f80d8858439b38840917",
     "grade": false,
     "grade_id": "cell-a0f9574a49fb8bb0",
     "locked": true,
     "schema_version": 1,
     "solution": false
    }
   },
   "source": [
    "**j) [1 point]** Plot the distribution of the average of 100 draws from a Poisson distribution with $\\lambda=4$."
   ]
  },
  {
   "cell_type": "code",
   "execution_count": 37,
   "metadata": {
    "deletable": false,
    "nbgrader": {
     "checksum": "123a076a96710ecad3fe2a6c04e0280d",
     "grade": true,
     "grade_id": "cell-35f793cabf07b0c5",
     "locked": false,
     "points": 1,
     "schema_version": 1,
     "solution": true
    }
   },
   "outputs": [
    {
     "data": {
      "text/plain": [
       "(array([  6.,  23., 118., 305., 417., 516., 356., 184.,  64.,  11.]),\n",
       " array([3.33 , 3.458, 3.586, 3.714, 3.842, 3.97 , 4.098, 4.226, 4.354,\n",
       "        4.482, 4.61 ]),\n",
       " <a list of 10 Patch objects>)"
      ]
     },
     "execution_count": 37,
     "metadata": {},
     "output_type": "execute_result"
    },
    {
     "data": {
      "image/png": "[encoded data removed]",
      "text/plain": [
       "<matplotlib.figure.Figure at 0x7fd889a0f860>"
      ]
     },
     "metadata": {},
     "output_type": "display_data"
    }
   ],
   "source": [
    "plt.hist(mean(100))"
   ]
  },
  {
   "cell_type": "markdown",
   "metadata": {
    "deletable": false,
    "editable": false,
    "nbgrader": {
     "checksum": "f48e7e5a11a2f820e2a600e989c80d26",
     "grade": false,
     "grade_id": "cell-7fc89a780251b2f2",
     "locked": true,
     "schema_version": 1,
     "solution": false
    }
   },
   "source": [
    "**k) [1 point]** What shape does this distribution have and why?"
   ]
  },
  {
   "cell_type": "markdown",
   "metadata": {
    "deletable": false,
    "nbgrader": {
     "checksum": "8a147efcd133e6d21eb61d3751ea2926",
     "grade": true,
     "grade_id": "cell-40ed820548c57349",
     "locked": false,
     "points": 1,
     "schema_version": 1,
     "solution": true
    }
   },
   "source": [
    "bell shaped/normal distribution. because of the central limit theorem "
   ]
  },
  {
   "cell_type": "markdown",
   "metadata": {
    "deletable": false,
    "editable": false,
    "nbgrader": {
     "checksum": "902a35db1203e6ee1a8ab39d26d0b66d",
     "grade": false,
     "grade_id": "cell-5852cf28bbcad9c6",
     "locked": true,
     "schema_version": 1,
     "solution": false
    }
   },
   "source": [
    "**l) [1 point]** Calculate the average of this distribution. Does this coincide with the theoretical prediction of this average?"
   ]
  },
  {
   "cell_type": "code",
   "execution_count": 38,
   "metadata": {
    "deletable": false,
    "nbgrader": {
     "checksum": "d8a48f5153f48022775c1ce8b639be7d",
     "grade": true,
     "grade_id": "cell-c1dac50a4dfe57f4",
     "locked": false,
     "points": 1,
     "schema_version": 1,
     "solution": true
    }
   },
   "outputs": [
    {
     "data": {
      "text/plain": [
       "3.9939400000000007"
      ]
     },
     "execution_count": 38,
     "metadata": {},
     "output_type": "execute_result"
    }
   ],
   "source": [
    "np.mean(mean(100))"
   ]
  },
  {
   "cell_type": "markdown",
   "metadata": {
    "deletable": false,
    "nbgrader": {
     "checksum": "9de942699896f6873b48dd12f2004bc1",
     "grade": true,
     "grade_id": "cell-f3efeab2cb9464e8",
     "locked": false,
     "points": 0,
     "schema_version": 1,
     "solution": true
    }
   },
   "source": [
    "YOUR ANSWER HERE"
   ]
  },
  {
   "cell_type": "markdown",
   "metadata": {
    "deletable": false,
    "editable": false,
    "nbgrader": {
     "checksum": "1fb4aed975eb3c2ddd09465dbcae8986",
     "grade": false,
     "grade_id": "cell-991fc9ad10bf8545",
     "locked": true,
     "schema_version": 1,
     "solution": false
    }
   },
   "source": [
    "**m [1 point]** Calculate the standard deviation of this average. What is this standard deviation called? What is the theoretical expression for this standard deviation?"
   ]
  },
  {
   "cell_type": "code",
   "execution_count": 39,
   "metadata": {
    "deletable": false,
    "nbgrader": {
     "checksum": "7ceb898ce2233650dca6d620eb77810a",
     "grade": true,
     "grade_id": "cell-99a53ca3a005a1e2",
     "locked": false,
     "points": 1,
     "schema_version": 1,
     "solution": true
    }
   },
   "outputs": [
    {
     "data": {
      "text/plain": [
       "0.19678193413014317"
      ]
     },
     "execution_count": 39,
     "metadata": {},
     "output_type": "execute_result"
    }
   ],
   "source": [
    "np.std(mean(100))"
   ]
  },
  {
   "cell_type": "markdown",
   "metadata": {
    "deletable": false,
    "nbgrader": {
     "checksum": "68a68eb24d644c945d82e22875296347",
     "grade": true,
     "grade_id": "cell-a28c020415972949",
     "locked": false,
     "points": 0,
     "schema_version": 1,
     "solution": true
    }
   },
   "source": [
    "standard error "
   ]
  },
  {
   "cell_type": "code",
   "execution_count": null,
   "metadata": {},
   "outputs": [],
   "source": []
  }
 ],
 "metadata": {
  "kernelspec": {
   "display_name": "Python 3",
   "language": "python",
   "name": "python3"
  },
  "language_info": {
   "codemirror_mode": {
    "name": "ipython",
    "version": 3
   },
   "file_extension": ".py",
   "mimetype": "text/x-python",
   "name": "python",
   "nbconvert_exporter": "python",
   "pygments_lexer": "ipython3",
   "version": "3.5.3"
  },
  "org": null,
  "toc": {
   "base_numbering": 1,
   "nav_menu": {},
   "number_sections": true,
   "sideBar": true,
   "skip_h1_title": false,
   "title_cell": "Table of Contents",
   "title_sidebar": "Contents",
   "toc_cell": false,
   "toc_position": {},
   "toc_section_display": true,
   "toc_window_display": false
  }
 },
 "nbformat": 4,
 "nbformat_minor": 1
}

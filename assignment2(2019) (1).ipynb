{
 "cells": [
  {
   "cell_type": "markdown",
   "metadata": {
    "deletable": false,
    "editable": false,
    "nbgrader": {
     "checksum": "f97b05a37bd583a0651c29b51346f7f1",
     "grade": false,
     "grade_id": "cell-50be09b55831e38d",
     "locked": true,
     "schema_version": 1,
     "solution": false
    },
    "slideshow": {
     "slide_type": "slide"
    }
   },
   "source": [
    "# Bargaining continued\n",
    "\n",
    "In this notebook we continue the bargaining model introduced in the `class1.ipynb` notebook.\n",
    "\n",
    "From last week, we have the following.\n",
    "\n",
    "First, we import our libraries."
   ]
  },
  {
   "cell_type": "code",
   "execution_count": 1,
   "metadata": {
    "deletable": false,
    "editable": false,
    "nbgrader": {
     "checksum": "fd5e8c67ba4042ed800874fe6f0a0b6b",
     "grade": false,
     "grade_id": "cell-b0b4230ace697425",
     "locked": true,
     "schema_version": 1,
     "solution": false
    }
   },
   "outputs": [],
   "source": [
    "import matplotlib.pyplot as plt\n",
    "import pandas as pd\n",
    "import numpy as np\n",
    "from scipy import optimize\n",
    "%matplotlib inline"
   ]
  },
  {
   "cell_type": "markdown",
   "metadata": {
    "deletable": false,
    "editable": false,
    "nbgrader": {
     "checksum": "9b7c9d21dbae921defb9152e7963dbaa",
     "grade": false,
     "grade_id": "cell-fe448364f68531ff",
     "locked": true,
     "schema_version": 1,
     "solution": false
    },
    "slideshow": {
     "slide_type": "slide"
    }
   },
   "source": [
    "We look at a bargaining model where two players can divide a \"pie\" of size $\\bar x =10$. One player makes an offer $x \\in [0,\\bar x]$ and the other player can either accept or reject. If the other player accepts the offer, she gets $x$ and the player making the offer gets the rest of the pie $\\bar x -x$."
   ]
  },
  {
   "cell_type": "code",
   "execution_count": 2,
   "metadata": {
    "deletable": false,
    "editable": false,
    "nbgrader": {
     "checksum": "0b2e3cf557e8883e2de26cc04e006226",
     "grade": false,
     "grade_id": "cell-04c1c90f77f3e31f",
     "locked": true,
     "schema_version": 1,
     "solution": false
    },
    "slideshow": {
     "slide_type": "fragment"
    }
   },
   "outputs": [],
   "source": [
    "min_offer = 0.0\n",
    "max_offer = 10.0\n",
    "offers = np.arange(min_offer,max_offer+1,1)"
   ]
  },
  {
   "cell_type": "markdown",
   "metadata": {
    "deletable": false,
    "editable": false,
    "nbgrader": {
     "checksum": "add4e1fc9eac07102f50de6b3c8ed681",
     "grade": false,
     "grade_id": "cell-1cd5c6e957f4de80",
     "locked": true,
     "schema_version": 1,
     "solution": false
    }
   },
   "source": [
    "We use the following function which determines whether or not a player accepts an offer or not by comparing the offer with her outside option."
   ]
  },
  {
   "cell_type": "code",
   "execution_count": 3,
   "metadata": {
    "deletable": false,
    "editable": false,
    "nbgrader": {
     "checksum": "f50ca03896933b7b4c571dd0c1f33be9",
     "grade": false,
     "grade_id": "cell-ad2d955c2bf4e597",
     "locked": true,
     "schema_version": 1,
     "solution": false
    }
   },
   "outputs": [],
   "source": [
    "def accept_offer(offer,your_outside_option):\n",
    "    accept = (offer >= your_outside_option)\n",
    "    return accept"
   ]
  },
  {
   "cell_type": "markdown",
   "metadata": {
    "deletable": false,
    "editable": false,
    "nbgrader": {
     "checksum": "b03006b4d71eecc3ba9ba833b8122cd3",
     "grade": false,
     "grade_id": "cell-ea9352670acaf2d0",
     "locked": true,
     "schema_version": 1,
     "solution": false
    }
   },
   "source": [
    "Finally, we need the function `max_offer`. If you do not quite understand these functions, go back to the notebook `class1.ipynb`.\n",
    "\n",
    "Note that the function returns three values, in this order: the offer made, the payoff of the person making the offer, the payoff of the person receiving the offer."
   ]
  },
  {
   "cell_type": "code",
   "execution_count": 4,
   "metadata": {
    "deletable": false,
    "editable": false,
    "nbgrader": {
     "checksum": "fca304cf3a6cf6613d4c4a2f6ce720f1",
     "grade": false,
     "grade_id": "cell-ededaeefd9c633a1",
     "locked": true,
     "schema_version": 1,
     "solution": false
    }
   },
   "outputs": [],
   "source": [
    "def make_offer(your_outside_option,other_outside_option):\n",
    "    profits = [(max_offer-offer)*accept_offer(offer,other_outside_option) for offer in offers]\n",
    "    max_profit = max(profits)\n",
    "    max_index = profits.index(max_profit)\n",
    "    if max_profit >= your_outside_option:\n",
    "        your_offer = offers[max_index]\n",
    "        your_profit = max_offer-offers[max_index]\n",
    "        other_profit = offers[max_index]\n",
    "    else:\n",
    "        your_offer = -1 # no offer is made\n",
    "        your_profit = your_outside_option\n",
    "        other_profit = other_outside_option\n",
    "    return your_offer, your_profit, other_profit"
   ]
  },
  {
   "cell_type": "markdown",
   "metadata": {
    "deletable": false,
    "editable": false,
    "nbgrader": {
     "checksum": "5de056c1841ff4e66103449d59f20430",
     "grade": false,
     "grade_id": "cell-a8f55dafd714b0ae",
     "locked": true,
     "schema_version": 1,
     "solution": false
    }
   },
   "source": [
    "## two period model\n",
    "\n",
    "Consider a two period version of the bargaining model we analysed before. Player 1 can make an offer $x_1$ in the first period. If this offer is accepted by player 2, the game is finished. If player 2 rejects the offer, then we move to the second stage in which player 2 is allowed to make an offer $x_2$ to player 1. Player 1 can accept or reject this offer. If player 1 accepts, her payoff equals $x_2$ and player 2's payoff equals $\\bar x - x_2$.\n",
    "\n",
    "Payoffs are discounted with discount factor $\\delta \\in \\langle 0,1 \\rangle$. Hence, if player 1's offer in the first period is rejected, while player 2's offer in the second period is accepted, players 1 and 2's payoffs equal $\\delta x_2, \\delta (\\bar x - x_2)$ resp.\n",
    "\n",
    "Assume that the (exogenous) outside option for both players equals 0. Hence, if both offers are rejected at the end of period 2, each player gets the outside option 0.\n",
    "\n",
    "Player 1 makes an offer $x$ to player 2 in the first period. If this offer is accepted, 2 gets $x$ and 1 receives $\\bar x - x$ and the game is over.\n",
    "\n",
    "If player 2 rejects 1's offer, the game moves to the second (and last) period. In this period, player 2 can make the offer. What offer will player 2 make?\n",
    "\n",
    "That is, to solve the model we actually start in the last period. This is called [backward induction](https://en.wikipedia.org/wiki/Backward_induction) and used a lot in game theory.\n",
    "\n",
    "To keep track of the outside options in period 2 (and then in period 1) we create a dictionary in python. You have seen dictionaries in datacamp. Dictionaries are of the form:\n",
    "\n",
    "`my_dict = {\n",
    "   \"key1\":\"value1\",\n",
    "   \"key2\":\"value2\",\n",
    "}`\n",
    "\n",
    "Hence, below we create the dictionary `outside_options = { 2:[0,0]}`. That is, the value associated with the key `2` is the list `[0,0]`.\n"
   ]
  },
  {
   "cell_type": "code",
   "execution_count": 5,
   "metadata": {
    "deletable": false,
    "editable": false,
    "nbgrader": {
     "checksum": "d2abb51d2f62cf06cb7e139be5b04059",
     "grade": false,
     "grade_id": "cell-42cb0b62cfe4f384",
     "locked": true,
     "schema_version": 1,
     "solution": false
    }
   },
   "outputs": [],
   "source": [
    "delta = 0.9\n",
    "outside_options = {} # dictionary of outside options as a function (key) of period\n",
    "outside_options[2]= [0,0] # first element in the list is 1's outside option, \n",
    "                          # second element 2's outside option in period 2\n",
    "\n",
    "\n",
    "\n"
   ]
  },
  {
   "cell_type": "markdown",
   "metadata": {},
   "source": [
    "In period 2, player 2 makes the offer. To calculate the offer, we use the function `make_offer` that we defined above.\n",
    "\n",
    "The outside options for both players are given by $[0,0]$ but now we use our dictionary to keep track of the outside options. \n",
    "\n",
    "Once we know the payoff for each player in the game of period 2, we can determine the (endogenous) outside offers of the game played in period 1.\n",
    "\n",
    "In particular, `make_offer(outside_options[2][1],outside_options[2][0])` returns three values: the offer itself, the payoff of the player making the offer and the payoff of the player receiving the offer. In period 2, player 2 makes the offer and player 1 receives it. "
   ]
  },
  {
   "cell_type": "code",
   "execution_count": 10,
   "metadata": {},
   "outputs": [
    {
     "name": "stdout",
     "output_type": "stream",
     "text": [
      "{2: [0, 0]}\n"
     ]
    },
    {
     "data": {
      "text/plain": [
       "(0.0, 10.0, 0.0)"
      ]
     },
     "execution_count": 10,
     "metadata": {},
     "output_type": "execute_result"
    }
   ],
   "source": [
    "print(outside_options)\n",
    "offer2 = make_offer(outside_options[2][1],outside_options[2][0])\n",
    "offer2"
   ]
  },
  {
   "cell_type": "markdown",
   "metadata": {},
   "source": [
    "**a) [1 point]** Use indexing to add the list of outside options for the two players to the dictionary `outside_options`. That is, replace the ??? in the expression:\n",
    "\n",
    "`outside_options[1] = [delta*???,delta*???]`\n",
    "\n",
    "and paste this result in the next cell.\n",
    "\n",
    "As a check: if you evaluate the dictionary `outside_options`, the result should be (do not worry about the order of the keys 1 and 2):\n",
    "\n",
    "`{2: [0, 0], 1: [0.0, 9.0]}`."
   ]
  },
  {
   "cell_type": "code",
   "execution_count": 11,
   "metadata": {
    "deletable": false,
    "nbgrader": {
     "checksum": "b67bab974021c3a12b667b744a99ae3e",
     "grade": true,
     "grade_id": "cell-f16d19aac3488340",
     "locked": false,
     "points": 1,
     "schema_version": 1,
     "solution": true
    }
   },
   "outputs": [
    {
     "data": {
      "text/plain": [
       "{1: [0.0, 9.0], 2: [0, 0]}"
      ]
     },
     "execution_count": 11,
     "metadata": {},
     "output_type": "execute_result"
    }
   ],
   "source": [
    "outside_options[1] = [delta*offer2[2],delta*offer2[1]]\n",
    "outside_options"
   ]
  },
  {
   "cell_type": "markdown",
   "metadata": {
    "deletable": false,
    "editable": false,
    "nbgrader": {
     "checksum": "baa5178a1b48448e0e271208584e1b0e",
     "grade": false,
     "grade_id": "cell-183d99bc558572b7",
     "locked": true,
     "schema_version": 1,
     "solution": false
    }
   },
   "source": [
    "Now we move back one period, to the first period where player 1 makes the offer.\n",
    "\n",
    "---------\n",
    "\n",
    "**b) [1 point]** Use the function `make_offer` to determine the offer that player 1 makes in the first period. [hint: which element of `outside_options[1]` is player 1's outside option and which element player 2's outside option?]\n"
   ]
  },
  {
   "cell_type": "code",
   "execution_count": 16,
   "metadata": {
    "deletable": false,
    "nbgrader": {
     "checksum": "2734c8c0eb3c9eae606f6ff60ecfbeca",
     "grade": true,
     "grade_id": "cell-f8a6b3d58916da29",
     "locked": false,
     "points": 1,
     "schema_version": 1,
     "solution": true
    }
   },
   "outputs": [
    {
     "data": {
      "text/plain": [
       "(9.0, 1.0, 9.0)"
      ]
     },
     "execution_count": 16,
     "metadata": {},
     "output_type": "execute_result"
    }
   ],
   "source": [
    "make_offer( outside_options[1][0],outside_options[1][1]) #first 9 is offer, the 1 is pl.1 payoff and the second nine is pl.2 payoff"
   ]
  },
  {
   "cell_type": "markdown",
   "metadata": {
    "deletable": false,
    "editable": false,
    "nbgrader": {
     "checksum": "56499c472cd128d62c08984a196ce922",
     "grade": false,
     "grade_id": "cell-f9d82320b3cfc14f",
     "locked": true,
     "schema_version": 1,
     "solution": false
    }
   },
   "source": [
    "**c) [1 point]** What is player 1's payoff in this two period game? Explain why this is different from the one period game.\n"
   ]
  },
  {
   "cell_type": "markdown",
   "metadata": {
    "deletable": false,
    "nbgrader": {
     "checksum": "cb606c3cd8f951c9f7a2a58ff76bbef8",
     "grade": true,
     "grade_id": "cell-2355691bb905e927",
     "locked": false,
     "points": 1,
     "schema_version": 1,
     "solution": true
    }
   },
   "source": []
  },
  {
   "cell_type": "markdown",
   "metadata": {
    "collapsed": true,
    "deletable": false,
    "editable": false,
    "nbgrader": {
     "checksum": "ebbd73f00ad78ab6fa7ec1200b21b798",
     "grade": false,
     "grade_id": "cell-a14f1cb6e2797125",
     "locked": true,
     "schema_version": 1,
     "solution": false
    }
   },
   "source": [
    "## three periods"
   ]
  },
  {
   "cell_type": "markdown",
   "metadata": {
    "deletable": false,
    "editable": false,
    "nbgrader": {
     "checksum": "b861a534773d6f6780bf234a082f2a17",
     "grade": false,
     "grade_id": "cell-14e2ebd46d7ee2be",
     "locked": true,
     "schema_version": 1,
     "solution": false
    }
   },
   "source": [
    "Now we extend the model above to a three period bargaining problem. We want to use the function `make_offer` to keep track of the outside options without defining a new dictionary `outside_options` (as we did above).\n",
    "\n",
    "As above, we use backward induction to solve the game. That is, we first consider what happens in period 3 --in case the offers made in periods 1 and 2 are rejected. Once we know what will happen in period 3, we can move back to period 2 and then to period 1.\n",
    "\n",
    "To be able to see what happens, we need a finer grid on `offers`:"
   ]
  },
  {
   "cell_type": "code",
   "execution_count": 17,
   "metadata": {},
   "outputs": [],
   "source": [
    "offers = np.arange(min_offer,max_offer+0.1,0.1)"
   ]
  },
  {
   "cell_type": "markdown",
   "metadata": {},
   "source": [
    "To do this, we create a dictionary `offer`. \n",
    "\n",
    "----------\n",
    "\n",
    "**d) [1 point]** Explain what the following code does (e.g. what is `offer[4]`?).\n"
   ]
  },
  {
   "cell_type": "code",
   "execution_count": 19,
   "metadata": {},
   "outputs": [
    {
     "data": {
      "text/plain": [
       "{3: (0.0, 10.0, 0.0), 4: [0, 0, 0]}"
      ]
     },
     "execution_count": 19,
     "metadata": {},
     "output_type": "execute_result"
    }
   ],
   "source": [
    "delta = 0.9\n",
    "offer = {}\n",
    "offer[4] = [0,0,0]\n",
    "offer[3] = make_offer(delta*offer[4][2],delta*offer[4][1])\n",
    "offer\n"
   ]
  },
  {
   "cell_type": "markdown",
   "metadata": {
    "deletable": false,
    "nbgrader": {
     "checksum": "4ba9483ede4df756b628a49b759f116d",
     "grade": true,
     "grade_id": "cell-3e82380eae72ee3c",
     "locked": false,
     "points": 1,
     "schema_version": 1,
     "solution": true
    }
   },
   "source": [
    "YOUR ANSWER HERE"
   ]
  },
  {
   "cell_type": "markdown",
   "metadata": {
    "collapsed": true
   },
   "source": [
    "**e) [1 point]** Using the logic above, define `offer[2]` and `offer[1]`."
   ]
  },
  {
   "cell_type": "code",
   "execution_count": 22,
   "metadata": {
    "deletable": false,
    "nbgrader": {
     "checksum": "724cc295c043becb129dd6ce8febb382",
     "grade": true,
     "grade_id": "cell-597d9e0d68ae02ea",
     "locked": false,
     "points": 1,
     "schema_version": 1,
     "solution": true
    }
   },
   "outputs": [
    {
     "data": {
      "text/plain": [
       "{2: (0.9, 9.1, 0.9), 3: (0.0, 10.0, 0.0), 4: [0, 0, 0]}"
      ]
     },
     "execution_count": 22,
     "metadata": {},
     "output_type": "execute_result"
    }
   ],
   "source": [
    "offer[2] = make_offer(delta*offer[3][2],delta*offer[3][1])\n",
    "offer[2] = make_offer(delta*offer[2][2],delta*offer[2][1])\n",
    "offer"
   ]
  },
  {
   "cell_type": "markdown",
   "metadata": {
    "deletable": false,
    "editable": false,
    "nbgrader": {
     "checksum": "46a77a325718510f083380f17bbcd0ba",
     "grade": false,
     "grade_id": "cell-e2bfd13702950a77",
     "locked": true,
     "schema_version": 1,
     "solution": false
    }
   },
   "source": [
    "**f) [1 point]** What are the payoffs for players 1 and 2 in a three period version of the bargaining model in the lecture? Explain this outcome."
   ]
  },
  {
   "cell_type": "code",
   "execution_count": 23,
   "metadata": {
    "deletable": false,
    "nbgrader": {
     "checksum": "79edaef724615370886b4e091b0d80f8",
     "grade": true,
     "grade_id": "cell-264848c6597d098b",
     "locked": false,
     "points": 1,
     "schema_version": 1,
     "solution": true
    }
   },
   "outputs": [
    {
     "data": {
      "text/plain": [
       "{2: (0.9, 9.1, 0.9), 3: (0.0, 10.0, 0.0), 4: [0, 0, 0]}"
      ]
     },
     "execution_count": 23,
     "metadata": {},
     "output_type": "execute_result"
    }
   ],
   "source": [
    "offer"
   ]
  },
  {
   "cell_type": "markdown",
   "metadata": {
    "deletable": false,
    "nbgrader": {
     "checksum": "be28ba3ef21dac7ce0717b59d9f74396",
     "grade": true,
     "grade_id": "cell-e3bf322e63789528",
     "locked": false,
     "points": 0,
     "schema_version": 1,
     "solution": true
    }
   },
   "source": [
    "YOUR ANSWER HERE"
   ]
  },
  {
   "cell_type": "markdown",
   "metadata": {
    "collapsed": true
   },
   "source": [
    "**g) [1 point]** In which period will the players reach an agreement?"
   ]
  },
  {
   "cell_type": "markdown",
   "metadata": {
    "deletable": false,
    "nbgrader": {
     "checksum": "1fdb97b3a93da36e7059041f5ed6e897",
     "grade": true,
     "grade_id": "cell-bd44348dcd11f04e",
     "locked": false,
     "points": 1,
     "schema_version": 1,
     "solution": true
    }
   },
   "source": [
    "period 1"
   ]
  },
  {
   "cell_type": "markdown",
   "metadata": {},
   "source": [
    "# OPTIONAL: variable number of periods\n",
    "\n",
    "This section is optional. You can use the analysis below as extra practice material. But do not panick if you cannot quite figure out how it works. Getting the indices right is a bit \"subtle\".\n",
    "\n",
    "We initialize the dictionary `offer`.\n"
   ]
  },
  {
   "cell_type": "code",
   "execution_count": 24,
   "metadata": {},
   "outputs": [],
   "source": [
    "offer = {}"
   ]
  },
  {
   "cell_type": "markdown",
   "metadata": {
    "deletable": false,
    "editable": false,
    "nbgrader": {
     "checksum": "16b41ca6ae8308ccff7d0dc61db63b0d",
     "grade": false,
     "grade_id": "cell-3a3c379880030b25",
     "locked": true,
     "schema_version": 1,
     "solution": false
    }
   },
   "source": [
    "**h) [0.5 point]** Complete the following function (i.e. replace \"???\") such that it returns the payoffs to players 1 and 2 for a game of length $n$ periods when the discount factor is given by $\\delta$:\n",
    "\n",
    "`def outcome(n,delta):\n",
    "    offer[n+1]=[0,0,0]\n",
    "    for i in range(n):\n",
    "        offer[n-i]=make_offer(delta*???,delta*???)\n",
    "    return offer[1][1], offer[1][2]`"
   ]
  },
  {
   "cell_type": "code",
   "execution_count": 25,
   "metadata": {
    "deletable": false,
    "nbgrader": {
     "checksum": "7767b3ca3b60ec5ea3e129d7734c761c",
     "grade": true,
     "grade_id": "cell-495bdf188774afdb",
     "locked": false,
     "points": 1,
     "schema_version": 1,
     "solution": true
    }
   },
   "outputs": [
    {
     "ename": "NotImplementedError",
     "evalue": "",
     "output_type": "error",
     "traceback": [
      "\u001b[0;31m---------------------------------------------------------------------------\u001b[0m",
      "\u001b[0;31mNotImplementedError\u001b[0m                       Traceback (most recent call last)",
      "\u001b[0;32m<ipython-input-25-15b94d1fa268>\u001b[0m in \u001b[0;36m<module>\u001b[0;34m()\u001b[0m\n\u001b[1;32m      1\u001b[0m \u001b[0;31m# YOUR CODE HERE\u001b[0m\u001b[0;34m\u001b[0m\u001b[0;34m\u001b[0m\u001b[0m\n\u001b[0;32m----> 2\u001b[0;31m \u001b[0;32mraise\u001b[0m \u001b[0mNotImplementedError\u001b[0m\u001b[0;34m(\u001b[0m\u001b[0;34m)\u001b[0m\u001b[0;34m\u001b[0m\u001b[0m\n\u001b[0m",
      "\u001b[0;31mNotImplementedError\u001b[0m: "
     ]
    }
   ],
   "source": [
    "# YOUR CODE HERE\n",
    "raise NotImplementedError()"
   ]
  },
  {
   "cell_type": "markdown",
   "metadata": {
    "deletable": false,
    "editable": false,
    "nbgrader": {
     "checksum": "95652a0c4bc273cb12e0e55086e3ec5d",
     "grade": false,
     "grade_id": "cell-5e418394722fa2b5",
     "locked": true,
     "schema_version": 1,
     "solution": false
    }
   },
   "source": [
    "**i) [1 point]** Check the outcomes for the case where $n=1, 2$ and $n=3$ (these are outcomes that you have seen before)."
   ]
  },
  {
   "cell_type": "code",
   "execution_count": 26,
   "metadata": {
    "deletable": false,
    "nbgrader": {
     "checksum": "5bc5981c8de4bd4ce1c409fc35a266fa",
     "grade": true,
     "grade_id": "cell-ed676467538a3504",
     "locked": false,
     "points": 1,
     "schema_version": 1,
     "solution": true
    }
   },
   "outputs": [
    {
     "ename": "NotImplementedError",
     "evalue": "",
     "output_type": "error",
     "traceback": [
      "\u001b[0;31m---------------------------------------------------------------------------\u001b[0m",
      "\u001b[0;31mNotImplementedError\u001b[0m                       Traceback (most recent call last)",
      "\u001b[0;32m<ipython-input-26-15b94d1fa268>\u001b[0m in \u001b[0;36m<module>\u001b[0;34m()\u001b[0m\n\u001b[1;32m      1\u001b[0m \u001b[0;31m# YOUR CODE HERE\u001b[0m\u001b[0;34m\u001b[0m\u001b[0;34m\u001b[0m\u001b[0m\n\u001b[0;32m----> 2\u001b[0;31m \u001b[0;32mraise\u001b[0m \u001b[0mNotImplementedError\u001b[0m\u001b[0;34m(\u001b[0m\u001b[0;34m)\u001b[0m\u001b[0;34m\u001b[0m\u001b[0m\n\u001b[0m",
      "\u001b[0;31mNotImplementedError\u001b[0m: "
     ]
    }
   ],
   "source": [
    "# YOUR CODE HERE\n",
    "raise NotImplementedError()"
   ]
  },
  {
   "cell_type": "markdown",
   "metadata": {},
   "source": [
    "**j) [2 points]** Plot for the case with $\\delta =0.9$, the payoff for player 1 of a game that lasts for 1 round, a game that lasts for 2 rounds, up till a game that lasts 30 rounds. On the horizontal axis, we have the length of the game; on the vertical axis the payoff to player 1."
   ]
  },
  {
   "cell_type": "code",
   "execution_count": 27,
   "metadata": {
    "deletable": false,
    "nbgrader": {
     "checksum": "af143f149237bbc7ebff31e023ce35c1",
     "grade": true,
     "grade_id": "cell-4a05e592ee666f57",
     "locked": false,
     "points": 2,
     "schema_version": 1,
     "solution": true
    }
   },
   "outputs": [
    {
     "ename": "NotImplementedError",
     "evalue": "",
     "output_type": "error",
     "traceback": [
      "\u001b[0;31m---------------------------------------------------------------------------\u001b[0m",
      "\u001b[0;31mNotImplementedError\u001b[0m                       Traceback (most recent call last)",
      "\u001b[0;32m<ipython-input-27-15b94d1fa268>\u001b[0m in \u001b[0;36m<module>\u001b[0;34m()\u001b[0m\n\u001b[1;32m      1\u001b[0m \u001b[0;31m# YOUR CODE HERE\u001b[0m\u001b[0;34m\u001b[0m\u001b[0;34m\u001b[0m\u001b[0m\n\u001b[0;32m----> 2\u001b[0;31m \u001b[0;32mraise\u001b[0m \u001b[0mNotImplementedError\u001b[0m\u001b[0;34m(\u001b[0m\u001b[0;34m)\u001b[0m\u001b[0;34m\u001b[0m\u001b[0m\n\u001b[0m",
      "\u001b[0;31mNotImplementedError\u001b[0m: "
     ]
    }
   ],
   "source": [
    "# YOUR CODE HERE\n",
    "raise NotImplementedError()"
   ]
  },
  {
   "cell_type": "markdown",
   "metadata": {},
   "source": [
    "**k) [0.5 point]** What pattern do you see in the graph? What is the intuition/explanation for this?"
   ]
  },
  {
   "cell_type": "markdown",
   "metadata": {
    "deletable": false,
    "nbgrader": {
     "checksum": "dacbd45865856c9123f7078e91ff505a",
     "grade": true,
     "grade_id": "cell-89ecf7a68f9dafc4",
     "locked": false,
     "points": 1,
     "schema_version": 1,
     "solution": true
    }
   },
   "source": [
    "YOUR ANSWER HERE"
   ]
  },
  {
   "cell_type": "code",
   "execution_count": null,
   "metadata": {},
   "outputs": [],
   "source": []
  }
 ],
 "metadata": {
  "anaconda-cloud": {},
  "kernelspec": {
   "display_name": "Python 3",
   "language": "python",
   "name": "python3"
  },
  "language_info": {
   "codemirror_mode": {
    "name": "ipython",
    "version": 3
   },
   "file_extension": ".py",
   "mimetype": "text/x-python",
   "name": "python",
   "nbconvert_exporter": "python",
   "pygments_lexer": "ipython3",
   "version": "3.5.3"
  },
  "toc": {
   "base_numbering": 1,
   "nav_menu": {},
   "number_sections": true,
   "sideBar": true,
   "skip_h1_title": false,
   "title_cell": "Table of Contents",
   "title_sidebar": "Contents",
   "toc_cell": false,
   "toc_position": {},
   "toc_section_display": true,
   "toc_window_display": false
  }
 },
 "nbformat": 4,
 "nbformat_minor": 1
}

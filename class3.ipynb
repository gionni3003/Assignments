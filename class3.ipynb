{
 "cells": [
  {
   "cell_type": "markdown",
   "metadata": {},
   "source": [
    "# Predicting the number of your customers\n",
    "\n",
    "In this notebook, we are going to use the `pandas` library to do a simple time series analysis.\n",
    "\n",
    "## Introduction\n",
    "\n",
    "Suppose you have a shop. Every month you count the total number of your customers who bought from your shop. To simplify, we think of people buying one unit from your shop or nothing. \n",
    "\n",
    "Your customers are of two types:\n",
    "* some are \"returning\" customers (i.e. they also bought last month) and \n",
    "* the others are new (did not buy last month)\n",
    "\n",
    "So we will not worry about customers who, say, bought two months ago but not last month.\n",
    "\n",
    "In this notebook, we first generate the data ourselves (so that you fully understand the structure of the data) and then we analyze this data.\n",
    "\n",
    "## Importing libraries\n",
    "\n",
    "We first import the libraries that we need."
   ]
  },
  {
   "cell_type": "code",
   "execution_count": 22,
   "metadata": {},
   "outputs": [],
   "source": [
    "import datetime\n",
    "import matplotlib.pyplot as plt\n",
    "import pandas as pd\n",
    "import numpy as np\n",
    "%matplotlib inline"
   ]
  },
  {
   "cell_type": "markdown",
   "metadata": {},
   "source": [
    "## Model\n",
    "\n",
    "We will generate the data with the following model.\n",
    "\n",
    "Let $x_t$ denote the logarithm of the number of customers in period $t$. We assume that $x_t$ evolves over time as follows:\n",
    "\n",
    "$$\n",
    "x_t = \\rho x_{t-1} + u_t\n",
    "$$\n",
    "\n",
    "where $u_t$ is normally distributed with mean $\\mu_u \\geq 0$ and standard deviation $\\sigma_u \\geq 0$ and $\\rho \\in [0,1]$. Hence, there is a fraction $\\rho$ of previous period customers that return to buy this period and there is an inflow $u_t$ of new customers in period $t$.\n",
    "\n",
    "\n",
    "**a) [1 point]** What is an advantage of defining $x_t$ as the logarithm of the number of customers? [hint: what would you need to \"worry\" about if $x_t$ denotes the number of customers?]\n"
   ]
  },
  {
   "cell_type": "markdown",
   "metadata": {
    "deletable": false,
    "nbgrader": {
     "checksum": "cd11805efea6b24da5e9f080fad161db",
     "grade": true,
     "grade_id": "cell-ced668bb411a762f",
     "locked": false,
     "points": 1,
     "schema_version": 1,
     "solution": true
    }
   },
   "source": [
    "allows xt to be negative, no need to impose xt higher or equal to zero"
   ]
  },
  {
   "cell_type": "markdown",
   "metadata": {},
   "source": [
    "We assume that both $\\mu$ and $\\rho$ are a function of the price that is charged. If you charge a high price, fewer customers will return and also the inflow of new customers will be lower.\n",
    "\n",
    "We generate data for 24 months. The code below starts from today and generates dates with a Monthly frequency back into the past years. We define how $\\rho$ and $\\mu$ depend on the price $p$ that the shop charges in a period.\n",
    "\n",
    "Finally, we create a pandas dataframe `df_customers` with this data. "
   ]
  },
  {
   "cell_type": "code",
   "execution_count": 23,
   "metadata": {},
   "outputs": [],
   "source": [
    "number_of_periods = 24\n",
    "todays_date = datetime.datetime.now().date()\n",
    "index = pd.date_range(end = todays_date, periods=number_of_periods, freq='M')\n",
    "columns = ['log_number_of_customers']\n",
    "\n",
    "def mu(m,p):\n",
    "    return m*(1-p)\n",
    "\n",
    "def rho(r,p):\n",
    "    return r*(1-p)\n",
    "\n",
    "sigma = 0.7\n",
    "\n",
    "p_0 = [0.2]\n",
    "p_1 = [0.6]\n",
    "period_0 = 12\n",
    "period_1 = number_of_periods+1-period_0\n",
    "vector_p = period_0*p_0 + period_1*p_1\n",
    "\n",
    "x_0 = 10\n",
    "x = []\n",
    "x.append(x_0)\n",
    "for t in range(1,number_of_periods+1):\n",
    "    u = np.random.normal(mu(2,vector_p[t]), sigma)\n",
    "    x.append(rho(0.5,vector_p[t])*x[t-1]+u)\n",
    "    \n",
    "df_customers = pd.DataFrame(x[1:], index=index, columns=columns)"
   ]
  },
  {
   "cell_type": "markdown",
   "metadata": {},
   "source": [
    "**b) [3 points]** Explain what the code above does:\n",
    "\n",
    "* what is `vector_p` and how is it generated?\n",
    "* what is the type of `x`? How is this vector generated?\n",
    "* show what the first couple of rows of the `df_customers` look like."
   ]
  },
  {
   "cell_type": "markdown",
   "metadata": {
    "deletable": false,
    "nbgrader": {
     "checksum": "1459c1de09e8116dafeead6468357eef",
     "grade": true,
     "grade_id": "cell-a388b5a1c992c338",
     "locked": false,
     "points": 3,
     "schema_version": 1,
     "solution": true
    }
   },
   "source": [
    "1) vector_p is a list \n",
    "2) x is also a list for each period t we draw a random number from a normal distributionand add this to rho times the value of previous x\n"
   ]
  },
  {
   "cell_type": "code",
   "execution_count": 24,
   "metadata": {
    "deletable": false,
    "nbgrader": {
     "checksum": "f560ce97ea303d0dab2185f5c33e6386",
     "grade": true,
     "grade_id": "cell-dc2b3e78322f18bd",
     "locked": false,
     "points": 0,
     "schema_version": 1,
     "solution": true
    }
   },
   "outputs": [
    {
     "data": {
      "text/html": [
       "<div>\n",
       "<style scoped>\n",
       "    .dataframe tbody tr th:only-of-type {\n",
       "        vertical-align: middle;\n",
       "    }\n",
       "\n",
       "    .dataframe tbody tr th {\n",
       "        vertical-align: top;\n",
       "    }\n",
       "\n",
       "    .dataframe thead th {\n",
       "        text-align: right;\n",
       "    }\n",
       "</style>\n",
       "<table border=\"1\" class=\"dataframe\">\n",
       "  <thead>\n",
       "    <tr style=\"text-align: right;\">\n",
       "      <th></th>\n",
       "      <th>log_number_of_customers</th>\n",
       "    </tr>\n",
       "  </thead>\n",
       "  <tbody>\n",
       "    <tr>\n",
       "      <th>2017-03-31</th>\n",
       "      <td>5.068170</td>\n",
       "    </tr>\n",
       "    <tr>\n",
       "      <th>2017-04-30</th>\n",
       "      <td>3.000167</td>\n",
       "    </tr>\n",
       "    <tr>\n",
       "      <th>2017-05-31</th>\n",
       "      <td>1.173365</td>\n",
       "    </tr>\n",
       "    <tr>\n",
       "      <th>2017-06-30</th>\n",
       "      <td>1.715199</td>\n",
       "    </tr>\n",
       "    <tr>\n",
       "      <th>2017-07-31</th>\n",
       "      <td>2.186583</td>\n",
       "    </tr>\n",
       "  </tbody>\n",
       "</table>\n",
       "</div>"
      ],
      "text/plain": [
       "            log_number_of_customers\n",
       "2017-03-31                 5.068170\n",
       "2017-04-30                 3.000167\n",
       "2017-05-31                 1.173365\n",
       "2017-06-30                 1.715199\n",
       "2017-07-31                 2.186583"
      ]
     },
     "execution_count": 24,
     "metadata": {},
     "output_type": "execute_result"
    }
   ],
   "source": [
    "df_customers.head()"
   ]
  },
  {
   "cell_type": "markdown",
   "metadata": {},
   "source": [
    "**c) [1 point]** Calculate the number of customers in each of the periods and add the column `number_of_customers` to the dataframe `df_customers`. [hint: you may want to check numpy's `exp` function]\n"
   ]
  },
  {
   "cell_type": "code",
   "execution_count": 25,
   "metadata": {
    "deletable": false,
    "nbgrader": {
     "checksum": "ac8cfd70829fd4531ece1591303188a2",
     "grade": true,
     "grade_id": "cell-af1fc254099c0651",
     "locked": false,
     "points": 1,
     "schema_version": 1,
     "solution": true
    }
   },
   "outputs": [
    {
     "data": {
      "text/html": [
       "<div>\n",
       "<style scoped>\n",
       "    .dataframe tbody tr th:only-of-type {\n",
       "        vertical-align: middle;\n",
       "    }\n",
       "\n",
       "    .dataframe tbody tr th {\n",
       "        vertical-align: top;\n",
       "    }\n",
       "\n",
       "    .dataframe thead th {\n",
       "        text-align: right;\n",
       "    }\n",
       "</style>\n",
       "<table border=\"1\" class=\"dataframe\">\n",
       "  <thead>\n",
       "    <tr style=\"text-align: right;\">\n",
       "      <th></th>\n",
       "      <th>log_number_of_customers</th>\n",
       "      <th>number_of_customers</th>\n",
       "    </tr>\n",
       "  </thead>\n",
       "  <tbody>\n",
       "    <tr>\n",
       "      <th>2017-03-31</th>\n",
       "      <td>5.068170</td>\n",
       "      <td>158.883370</td>\n",
       "    </tr>\n",
       "    <tr>\n",
       "      <th>2017-04-30</th>\n",
       "      <td>3.000167</td>\n",
       "      <td>20.088882</td>\n",
       "    </tr>\n",
       "    <tr>\n",
       "      <th>2017-05-31</th>\n",
       "      <td>1.173365</td>\n",
       "      <td>3.232854</td>\n",
       "    </tr>\n",
       "    <tr>\n",
       "      <th>2017-06-30</th>\n",
       "      <td>1.715199</td>\n",
       "      <td>5.557781</td>\n",
       "    </tr>\n",
       "    <tr>\n",
       "      <th>2017-07-31</th>\n",
       "      <td>2.186583</td>\n",
       "      <td>8.904735</td>\n",
       "    </tr>\n",
       "  </tbody>\n",
       "</table>\n",
       "</div>"
      ],
      "text/plain": [
       "            log_number_of_customers  number_of_customers\n",
       "2017-03-31                 5.068170           158.883370\n",
       "2017-04-30                 3.000167            20.088882\n",
       "2017-05-31                 1.173365             3.232854\n",
       "2017-06-30                 1.715199             5.557781\n",
       "2017-07-31                 2.186583             8.904735"
      ]
     },
     "execution_count": 25,
     "metadata": {},
     "output_type": "execute_result"
    }
   ],
   "source": [
    "df_customers['number_of_customers'] = np.exp(df_customers['log_number_of_customers'])\n",
    "df_customers.head()"
   ]
  },
  {
   "cell_type": "markdown",
   "metadata": {},
   "source": [
    "**d) [1 point]** Calculate the average number of customers over the period of 24 months. [hint: check the datacamp course on pandas, google \"python pandas average\", or type `df_customers.` and the TAB key to see how to calculate an average in a dataframe]\n"
   ]
  },
  {
   "cell_type": "code",
   "execution_count": 26,
   "metadata": {
    "deletable": false,
    "nbgrader": {
     "checksum": "46e92fad56a59dd2960e28e13b47a15f",
     "grade": true,
     "grade_id": "cell-c38250295485b1e5",
     "locked": false,
     "points": 1,
     "schema_version": 1,
     "solution": true
    }
   },
   "outputs": [
    {
     "data": {
      "text/plain": [
       "20.553345165046107"
      ]
     },
     "execution_count": 26,
     "metadata": {},
     "output_type": "execute_result"
    }
   ],
   "source": [
    "df_customers['number_of_customers'].mean()"
   ]
  },
  {
   "cell_type": "markdown",
   "metadata": {},
   "source": [
    "On the basis of the mean, you might conclude that you should expect around 25 customers on average (this can be different in your notebook as we are using random numbers here).\n",
    "\n",
    "**e) [1 point]** To get an idea on whether this is realistic, also calculate the median number of customers. What do you learn from this?"
   ]
  },
  {
   "cell_type": "code",
   "execution_count": 27,
   "metadata": {
    "deletable": false,
    "nbgrader": {
     "checksum": "ccea7a8c63b8825bfde1982bf320e409",
     "grade": true,
     "grade_id": "cell-2fd0754f1d9bebf4",
     "locked": false,
     "points": 1,
     "schema_version": 1,
     "solution": true
    }
   },
   "outputs": [
    {
     "data": {
      "text/plain": [
       "4.813124915138233"
      ]
     },
     "execution_count": 27,
     "metadata": {},
     "output_type": "execute_result"
    }
   ],
   "source": [
    "df_customers['number_of_customers'].median()"
   ]
  },
  {
   "cell_type": "markdown",
   "metadata": {
    "deletable": false,
    "nbgrader": {
     "checksum": "5a46593b51ee22ba4f9b86c6a4da72b7",
     "grade": true,
     "grade_id": "cell-58ed63fcfd3670e4",
     "locked": false,
     "points": 0,
     "schema_version": 1,
     "solution": true
    }
   },
   "source": [
    "the distribution is skeved coz mean and median are very different .some months theres a lot of customers and some theres little"
   ]
  },
  {
   "cell_type": "markdown",
   "metadata": {},
   "source": [
    "To get some idea on how the number of customers varies over time, we will plot the number of customers together with two moving averages: one moving average over 3 months, the other over 6 months."
   ]
  },
  {
   "cell_type": "code",
   "execution_count": 28,
   "metadata": {},
   "outputs": [],
   "source": [
    "df_customers['MA_3'] = df_customers['number_of_customers'].rolling(window=3).mean()\n",
    "df_customers['MA_6'] = df_customers['number_of_customers'].rolling(window=6).mean()"
   ]
  },
  {
   "cell_type": "markdown",
   "metadata": {},
   "source": [
    "**f) [1 point]** Plot the number of customers and the moving averages defined above. [hint: you can use `matplotlib` for this, but `pandas` also allows you to plot from the dataframe directly. Typing `df_customers.` and the TAB key may help here]\n"
   ]
  },
  {
   "cell_type": "code",
   "execution_count": 29,
   "metadata": {
    "deletable": false,
    "nbgrader": {
     "checksum": "ac3b196cb9cbc964d42efce9bcf4d467",
     "grade": true,
     "grade_id": "cell-523159b30875c8a2",
     "locked": false,
     "points": 1,
     "schema_version": 1,
     "solution": true
    }
   },
   "outputs": [
    {
     "data": {
      "text/plain": [
       "<matplotlib.axes._subplots.AxesSubplot at 0x7f904ed56080>"
      ]
     },
     "execution_count": 29,
     "metadata": {},
     "output_type": "execute_result"
    },
    {
     "data": {
      "image/png": "[encoded data removed]",
      "text/plain": [
       "<matplotlib.figure.Figure at 0x7f904e72a550>"
      ]
     },
     "metadata": {},
     "output_type": "display_data"
    }
   ],
   "source": [
    "df_customers.plot()"
   ]
  },
  {
   "cell_type": "markdown",
   "metadata": {},
   "source": [
    "Consider the first couple of rows of the dataframe `df_customers`.\n",
    "\n",
    "----------\n",
    "\n",
    "**g) [1 point]** Why does \"NaN\" mean and why do they appear? Hint: use google if you do not know what \"NaN\" stands for.\n"
   ]
  },
  {
   "cell_type": "code",
   "execution_count": 30,
   "metadata": {
    "deletable": false,
    "nbgrader": {
     "checksum": "51c08b112c01e49d2564474c7d4b0c16",
     "grade": true,
     "grade_id": "cell-17ee63c79a495cc6",
     "locked": false,
     "points": 1,
     "schema_version": 1,
     "solution": true
    }
   },
   "outputs": [
    {
     "data": {
      "text/html": [
       "<div>\n",
       "<style scoped>\n",
       "    .dataframe tbody tr th:only-of-type {\n",
       "        vertical-align: middle;\n",
       "    }\n",
       "\n",
       "    .dataframe tbody tr th {\n",
       "        vertical-align: top;\n",
       "    }\n",
       "\n",
       "    .dataframe thead th {\n",
       "        text-align: right;\n",
       "    }\n",
       "</style>\n",
       "<table border=\"1\" class=\"dataframe\">\n",
       "  <thead>\n",
       "    <tr style=\"text-align: right;\">\n",
       "      <th></th>\n",
       "      <th>log_number_of_customers</th>\n",
       "      <th>number_of_customers</th>\n",
       "      <th>MA_3</th>\n",
       "      <th>MA_6</th>\n",
       "    </tr>\n",
       "  </thead>\n",
       "  <tbody>\n",
       "    <tr>\n",
       "      <th>2017-03-31</th>\n",
       "      <td>5.068170</td>\n",
       "      <td>158.883370</td>\n",
       "      <td>NaN</td>\n",
       "      <td>NaN</td>\n",
       "    </tr>\n",
       "    <tr>\n",
       "      <th>2017-04-30</th>\n",
       "      <td>3.000167</td>\n",
       "      <td>20.088882</td>\n",
       "      <td>NaN</td>\n",
       "      <td>NaN</td>\n",
       "    </tr>\n",
       "    <tr>\n",
       "      <th>2017-05-31</th>\n",
       "      <td>1.173365</td>\n",
       "      <td>3.232854</td>\n",
       "      <td>60.735035</td>\n",
       "      <td>NaN</td>\n",
       "    </tr>\n",
       "    <tr>\n",
       "      <th>2017-06-30</th>\n",
       "      <td>1.715199</td>\n",
       "      <td>5.557781</td>\n",
       "      <td>9.626506</td>\n",
       "      <td>NaN</td>\n",
       "    </tr>\n",
       "    <tr>\n",
       "      <th>2017-07-31</th>\n",
       "      <td>2.186583</td>\n",
       "      <td>8.904735</td>\n",
       "      <td>5.898457</td>\n",
       "      <td>NaN</td>\n",
       "    </tr>\n",
       "    <tr>\n",
       "      <th>2017-08-31</th>\n",
       "      <td>3.062570</td>\n",
       "      <td>21.382435</td>\n",
       "      <td>11.948317</td>\n",
       "      <td>36.341676</td>\n",
       "    </tr>\n",
       "    <tr>\n",
       "      <th>2017-09-30</th>\n",
       "      <td>3.675249</td>\n",
       "      <td>39.458499</td>\n",
       "      <td>23.248556</td>\n",
       "      <td>16.437531</td>\n",
       "    </tr>\n",
       "    <tr>\n",
       "      <th>2017-10-31</th>\n",
       "      <td>3.889090</td>\n",
       "      <td>48.866418</td>\n",
       "      <td>36.569117</td>\n",
       "      <td>21.233787</td>\n",
       "    </tr>\n",
       "    <tr>\n",
       "      <th>2017-11-30</th>\n",
       "      <td>3.785344</td>\n",
       "      <td>44.050824</td>\n",
       "      <td>44.125247</td>\n",
       "      <td>28.036782</td>\n",
       "    </tr>\n",
       "    <tr>\n",
       "      <th>2017-12-31</th>\n",
       "      <td>4.124036</td>\n",
       "      <td>61.808197</td>\n",
       "      <td>51.575147</td>\n",
       "      <td>37.411851</td>\n",
       "    </tr>\n",
       "  </tbody>\n",
       "</table>\n",
       "</div>"
      ],
      "text/plain": [
       "            log_number_of_customers  number_of_customers       MA_3       MA_6\n",
       "2017-03-31                 5.068170           158.883370        NaN        NaN\n",
       "2017-04-30                 3.000167            20.088882        NaN        NaN\n",
       "2017-05-31                 1.173365             3.232854  60.735035        NaN\n",
       "2017-06-30                 1.715199             5.557781   9.626506        NaN\n",
       "2017-07-31                 2.186583             8.904735   5.898457        NaN\n",
       "2017-08-31                 3.062570            21.382435  11.948317  36.341676\n",
       "2017-09-30                 3.675249            39.458499  23.248556  16.437531\n",
       "2017-10-31                 3.889090            48.866418  36.569117  21.233787\n",
       "2017-11-30                 3.785344            44.050824  44.125247  28.036782\n",
       "2017-12-31                 4.124036            61.808197  51.575147  37.411851"
      ]
     },
     "execution_count": 30,
     "metadata": {},
     "output_type": "execute_result"
    }
   ],
   "source": [
    "df_customers.head(10)"
   ]
  },
  {
   "cell_type": "markdown",
   "metadata": {
    "deletable": false,
    "nbgrader": {
     "checksum": "746eed0551f565a588d72c6b80bf6cf2",
     "grade": true,
     "grade_id": "cell-3f494180ff999367",
     "locked": false,
     "points": 0,
     "schema_version": 1,
     "solution": true
    }
   },
   "source": [
    "NaN is not a number"
   ]
  },
  {
   "cell_type": "markdown",
   "metadata": {},
   "source": [
    "**h) [1 point]** Add a column to `df_customers` with the price per period.\n"
   ]
  },
  {
   "cell_type": "code",
   "execution_count": 31,
   "metadata": {
    "deletable": false,
    "nbgrader": {
     "checksum": "46203979eeb8db0cae069effc4a58601",
     "grade": true,
     "grade_id": "cell-ff7618acb286f561",
     "locked": false,
     "points": 1,
     "schema_version": 1,
     "solution": true
    }
   },
   "outputs": [],
   "source": [
    "df_customers['price'] = vector_p[1:]\n"
   ]
  },
  {
   "cell_type": "markdown",
   "metadata": {},
   "source": [
    "Assume that your costs per sale equal 0.1.\n",
    "\n",
    "-----------\n",
    "\n",
    "**i) [1 point]** Add a column `profits` to the dataframe.\n"
   ]
  },
  {
   "cell_type": "code",
   "execution_count": 33,
   "metadata": {
    "deletable": false,
    "nbgrader": {
     "checksum": "c83a19fc848725edfca4aa6cb1da2428",
     "grade": true,
     "grade_id": "cell-a7a24b8981a8cfa6",
     "locked": false,
     "points": 1,
     "schema_version": 1,
     "solution": true
    }
   },
   "outputs": [],
   "source": [
    "costs = 0.1\n",
    "df_customers['profits'] = (df_customers['price']- costs)*df_customers['number_of_customers']"
   ]
  },
  {
   "cell_type": "markdown",
   "metadata": {},
   "source": [
    "**j) [1 point]** Plot the number of customers against profit. Explain the shape of curve that you see.\n"
   ]
  },
  {
   "cell_type": "code",
   "execution_count": 34,
   "metadata": {
    "deletable": false,
    "nbgrader": {
     "checksum": "d48298d691550deefadb50474ebc14fb",
     "grade": true,
     "grade_id": "cell-6d673ecd80bbe5dd",
     "locked": false,
     "points": 1,
     "schema_version": 1,
     "solution": true
    }
   },
   "outputs": [
    {
     "data": {
      "image/png": "[encoded data removed]",
      "text/plain": [
       "<matplotlib.figure.Figure at 0x7f904ea2bd68>"
      ]
     },
     "metadata": {},
     "output_type": "display_data"
    }
   ],
   "source": [
    "plt.scatter(df_customers['number_of_customers'],df_customers['profits'])\n",
    "plt.xlabel('# of customers')\n",
    "plt.ylabel('profits')\n",
    "plt.show()"
   ]
  },
  {
   "cell_type": "markdown",
   "metadata": {
    "deletable": false,
    "nbgrader": {
     "checksum": "0a3481c6ef04d3d61f898981b13b5fab",
     "grade": true,
     "grade_id": "cell-0b335802f8a0b3d2",
     "locked": false,
     "points": 0,
     "schema_version": 1,
     "solution": true
    }
   },
   "source": []
  },
  {
   "cell_type": "code",
   "execution_count": null,
   "metadata": {},
   "outputs": [],
   "source": []
  }
 ],
 "metadata": {
  "kernelspec": {
   "display_name": "Python 3",
   "language": "python",
   "name": "python3"
  },
  "language_info": {
   "codemirror_mode": {
    "name": "ipython",
    "version": 3
   },
   "file_extension": ".py",
   "mimetype": "text/x-python",
   "name": "python",
   "nbconvert_exporter": "python",
   "pygments_lexer": "ipython3",
   "version": "3.5.3"
  },
  "toc": {
   "base_numbering": 1,
   "nav_menu": {},
   "number_sections": true,
   "sideBar": true,
   "skip_h1_title": false,
   "title_cell": "Table of Contents",
   "title_sidebar": "Contents",
   "toc_cell": false,
   "toc_position": {},
   "toc_section_display": true,
   "toc_window_display": false
  }
 },
 "nbformat": 4,
 "nbformat_minor": 2
}

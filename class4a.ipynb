{
 "cells": [
  {
   "cell_type": "markdown",
   "metadata": {},
   "source": [
    "## Packages\n",
    "\n",
    "We need a package to read in the excel files. I tend to make a Package section in each notebook, where I load all necessary packages. In this case we need the package readxl. Load the package:"
   ]
  },
  {
   "cell_type": "code",
   "execution_count": 1,
   "metadata": {},
   "outputs": [],
   "source": [
    "library(readxl)"
   ]
  },
  {
   "cell_type": "markdown",
   "metadata": {},
   "source": [
    "# Read data\n",
    "### Mark Klik and Misja Mikkers\n",
    "\n",
    "## Introduction\n",
    "\n",
    "We will work with data in this course. In general the data will be supplied to you in the form of excel files (with extensions such as .xls or .xlsx) or as csv-file (with extension .csv). CSV (Comma Separate Values) are -loosely said- excel files without layout. It is possible to open csv files in excel and to save an excel sheet as .csv file.\n",
    "\n",
    "In this course, we will focus on reading in excel and csv files. It is possible to read in other formats as well (e.g. SPSS and Stata). \n",
    "\n",
    "\n",
    "## Folder structure\n",
    "\n",
    "We advise you to do your analysis within a organized folder structure, e.g.:\n",
    "\n",
    "![folder structure](mappenstructuur.png)\n",
    "\n",
    "This structure allows you to keep code, data and 'views' on the data (such as reports and slides) separate. The code we will use now is stored in the folder \"code\".\n",
    "\n",
    "\n",
    "\n",
    "# Read csv-files\n",
    "\n",
    "We saved our data in the folder 'sourcedata'. \n",
    "\n",
    "We will start with reading the contents of the _csv_ file _voetbal.csv_. This file contains data on the ranking of Dutch football teams.\n",
    "\n",
    "We will use the command `your_dataframe <- read.csv2(\"file_name.csv\")`.\n",
    "\n",
    "_yourdataframe_ is the name that you give to the dataframe. In this example we will call the dataframe _football_.\n",
    "\n",
    "However, this only works if the data file is located in the same folder as the notebook. In this case we have saved our data in the folder _Sourcedata_ and the code in the folder _Code_. Therefore, we need to tell `R` where to find the datafile. \n",
    "\n",
    "We can include the path in parameter *file_name*. In this example we tell `R` to go 1 folder up ('..') and then go to the correct folder _Sourcedata_:\n",
    "\n",
    "\n"
   ]
  },
  {
   "cell_type": "code",
   "execution_count": 4,
   "metadata": {},
   "outputs": [],
   "source": [
    "football  read.csv2(\"../sourcedata/voetbal.csv\")\n",
    "\n"
   ]
  },
  {
   "cell_type": "markdown",
   "metadata": {},
   "source": [
    "By typing `football` we can view the data. Try to view the data.\n"
   ]
  },
  {
   "cell_type": "code",
   "execution_count": 5,
   "metadata": {},
   "outputs": [
    {
     "data": {
      "text/html": [
       "<table>\n",
       "<thead><tr><th scope=col>Club</th><th scope=col>Points</th></tr></thead>\n",
       "<tbody>\n",
       "\t<tr><td>PSV          </td><td>84           </td></tr>\n",
       "\t<tr><td>Ajax         </td><td>82           </td></tr>\n",
       "\t<tr><td>Feyenoord    </td><td>63           </td></tr>\n",
       "\t<tr><td>AZ           </td><td>59           </td></tr>\n",
       "\t<tr><td>Utrecht      </td><td>53           </td></tr>\n",
       "\t<tr><td>Heracles     </td><td>51           </td></tr>\n",
       "\t<tr><td>Groningen    </td><td>50           </td></tr>\n",
       "\t<tr><td>PEC          </td><td>48           </td></tr>\n",
       "\t<tr><td>Vitesse      </td><td>46           </td></tr>\n",
       "\t<tr><td>NEC          </td><td>46           </td></tr>\n",
       "\t<tr><td>ADO          </td><td>43           </td></tr>\n",
       "\t<tr><td>Heereveen    </td><td>42           </td></tr>\n",
       "\t<tr><td>Twente       </td><td>40           </td></tr>\n",
       "\t<tr><td>Roda         </td><td>34           </td></tr>\n",
       "\t<tr><td>Excelsior    </td><td>30           </td></tr>\n",
       "\t<tr><td>Willem II    </td><td>29           </td></tr>\n",
       "\t<tr><td>De Graafschap</td><td>23           </td></tr>\n",
       "\t<tr><td>Cambuur      </td><td>18           </td></tr>\n",
       "</tbody>\n",
       "</table>\n"
      ],
      "text/latex": [
       "\\begin{tabular}{r|ll}\n",
       " Club & Points\\\\\n",
       "\\hline\n",
       "\t PSV           & 84           \\\\\n",
       "\t Ajax          & 82           \\\\\n",
       "\t Feyenoord     & 63           \\\\\n",
       "\t AZ            & 59           \\\\\n",
       "\t Utrecht       & 53           \\\\\n",
       "\t Heracles      & 51           \\\\\n",
       "\t Groningen     & 50           \\\\\n",
       "\t PEC           & 48           \\\\\n",
       "\t Vitesse       & 46           \\\\\n",
       "\t NEC           & 46           \\\\\n",
       "\t ADO           & 43           \\\\\n",
       "\t Heereveen     & 42           \\\\\n",
       "\t Twente        & 40           \\\\\n",
       "\t Roda          & 34           \\\\\n",
       "\t Excelsior     & 30           \\\\\n",
       "\t Willem II     & 29           \\\\\n",
       "\t De Graafschap & 23           \\\\\n",
       "\t Cambuur       & 18           \\\\\n",
       "\\end{tabular}\n"
      ],
      "text/markdown": [
       "\n",
       "Club | Points | \n",
       "|---|---|---|---|---|---|---|---|---|---|---|---|---|---|---|---|---|---|\n",
       "| PSV           | 84            | \n",
       "| Ajax          | 82            | \n",
       "| Feyenoord     | 63            | \n",
       "| AZ            | 59            | \n",
       "| Utrecht       | 53            | \n",
       "| Heracles      | 51            | \n",
       "| Groningen     | 50            | \n",
       "| PEC           | 48            | \n",
       "| Vitesse       | 46            | \n",
       "| NEC           | 46            | \n",
       "| ADO           | 43            | \n",
       "| Heereveen     | 42            | \n",
       "| Twente        | 40            | \n",
       "| Roda          | 34            | \n",
       "| Excelsior     | 30            | \n",
       "| Willem II     | 29            | \n",
       "| De Graafschap | 23            | \n",
       "| Cambuur       | 18            | \n",
       "\n",
       "\n"
      ],
      "text/plain": [
       "   Club          Points\n",
       "1  PSV           84    \n",
       "2  Ajax          82    \n",
       "3  Feyenoord     63    \n",
       "4  AZ            59    \n",
       "5  Utrecht       53    \n",
       "6  Heracles      51    \n",
       "7  Groningen     50    \n",
       "8  PEC           48    \n",
       "9  Vitesse       46    \n",
       "10 NEC           46    \n",
       "11 ADO           43    \n",
       "12 Heereveen     42    \n",
       "13 Twente        40    \n",
       "14 Roda          34    \n",
       "15 Excelsior     30    \n",
       "16 Willem II     29    \n",
       "17 De Graafschap 23    \n",
       "18 Cambuur       18    "
      ]
     },
     "metadata": {},
     "output_type": "display_data"
    }
   ],
   "source": [
    "football\n"
   ]
  },
  {
   "cell_type": "markdown",
   "metadata": {},
   "source": [
    "To just get an impression of the data frame we could either use `head(name of the data frame)` or `tail(name of the data frame)`. Try both"
   ]
  },
  {
   "cell_type": "code",
   "execution_count": 6,
   "metadata": {},
   "outputs": [
    {
     "data": {
      "text/html": [
       "<table>\n",
       "<thead><tr><th></th><th scope=col>Club</th><th scope=col>Points</th></tr></thead>\n",
       "<tbody>\n",
       "\t<tr><th scope=row>13</th><td>Twente       </td><td>40           </td></tr>\n",
       "\t<tr><th scope=row>14</th><td>Roda         </td><td>34           </td></tr>\n",
       "\t<tr><th scope=row>15</th><td>Excelsior    </td><td>30           </td></tr>\n",
       "\t<tr><th scope=row>16</th><td>Willem II    </td><td>29           </td></tr>\n",
       "\t<tr><th scope=row>17</th><td>De Graafschap</td><td>23           </td></tr>\n",
       "\t<tr><th scope=row>18</th><td>Cambuur      </td><td>18           </td></tr>\n",
       "</tbody>\n",
       "</table>\n"
      ],
      "text/latex": [
       "\\begin{tabular}{r|ll}\n",
       "  & Club & Points\\\\\n",
       "\\hline\n",
       "\t13 & Twente        & 40           \\\\\n",
       "\t14 & Roda          & 34           \\\\\n",
       "\t15 & Excelsior     & 30           \\\\\n",
       "\t16 & Willem II     & 29           \\\\\n",
       "\t17 & De Graafschap & 23           \\\\\n",
       "\t18 & Cambuur       & 18           \\\\\n",
       "\\end{tabular}\n"
      ],
      "text/markdown": [
       "\n",
       "| <!--/--> | Club | Points | \n",
       "|---|---|---|---|---|---|\n",
       "| 13 | Twente        | 40            | \n",
       "| 14 | Roda          | 34            | \n",
       "| 15 | Excelsior     | 30            | \n",
       "| 16 | Willem II     | 29            | \n",
       "| 17 | De Graafschap | 23            | \n",
       "| 18 | Cambuur       | 18            | \n",
       "\n",
       "\n"
      ],
      "text/plain": [
       "   Club          Points\n",
       "13 Twente        40    \n",
       "14 Roda          34    \n",
       "15 Excelsior     30    \n",
       "16 Willem II     29    \n",
       "17 De Graafschap 23    \n",
       "18 Cambuur       18    "
      ]
     },
     "metadata": {},
     "output_type": "display_data"
    }
   ],
   "source": [
    "tail(football)\n",
    "\n",
    "\n"
   ]
  },
  {
   "cell_type": "code",
   "execution_count": 9,
   "metadata": {},
   "outputs": [
    {
     "data": {
      "text/html": [
       "<table>\n",
       "<thead><tr><th scope=col>Club</th><th scope=col>Points</th></tr></thead>\n",
       "<tbody>\n",
       "\t<tr><td>PSV      </td><td>84       </td></tr>\n",
       "\t<tr><td>Ajax     </td><td>82       </td></tr>\n",
       "\t<tr><td>Feyenoord</td><td>63       </td></tr>\n",
       "\t<tr><td>AZ       </td><td>59       </td></tr>\n",
       "\t<tr><td>Utrecht  </td><td>53       </td></tr>\n",
       "\t<tr><td>Heracles </td><td>51       </td></tr>\n",
       "</tbody>\n",
       "</table>\n"
      ],
      "text/latex": [
       "\\begin{tabular}{r|ll}\n",
       " Club & Points\\\\\n",
       "\\hline\n",
       "\t PSV       & 84       \\\\\n",
       "\t Ajax      & 82       \\\\\n",
       "\t Feyenoord & 63       \\\\\n",
       "\t AZ        & 59       \\\\\n",
       "\t Utrecht   & 53       \\\\\n",
       "\t Heracles  & 51       \\\\\n",
       "\\end{tabular}\n"
      ],
      "text/markdown": [
       "\n",
       "Club | Points | \n",
       "|---|---|---|---|---|---|\n",
       "| PSV       | 84        | \n",
       "| Ajax      | 82        | \n",
       "| Feyenoord | 63        | \n",
       "| AZ        | 59        | \n",
       "| Utrecht   | 53        | \n",
       "| Heracles  | 51        | \n",
       "\n",
       "\n"
      ],
      "text/plain": [
       "  Club      Points\n",
       "1 PSV       84    \n",
       "2 Ajax      82    \n",
       "3 Feyenoord 63    \n",
       "4 AZ        59    \n",
       "5 Utrecht   53    \n",
       "6 Heracles  51    "
      ]
     },
     "metadata": {},
     "output_type": "display_data"
    }
   ],
   "source": [
    "head(football)\n",
    "\n"
   ]
  },
  {
   "cell_type": "markdown",
   "metadata": {},
   "source": [
    "### a caveat\n",
    "\n",
    "Try to read in the `N1.csv` as done above and call the dataframe football1:\n",
    "\n",
    "\n"
   ]
  },
  {
   "cell_type": "code",
   "execution_count": 13,
   "metadata": {},
   "outputs": [
    {
     "data": {
      "text/html": [
       "<table>\n",
       "<thead><tr><th scope=col>Div</th><th scope=col>Date</th><th scope=col>HomeTeam</th><th scope=col>AwayTeam</th><th scope=col>FTHG</th><th scope=col>FTAG</th><th scope=col>FTR</th><th scope=col>HTHG</th><th scope=col>HTAG</th><th scope=col>HTR</th><th scope=col>...</th><th scope=col>BbAv.2.5.1</th><th scope=col>BbAH</th><th scope=col>BbAHh</th><th scope=col>BbMxAHH</th><th scope=col>BbAvAHH</th><th scope=col>BbMxAHA</th><th scope=col>BbAvAHA</th><th scope=col>PSCH</th><th scope=col>PSCD</th><th scope=col>PSCA</th></tr></thead>\n",
       "<tbody>\n",
       "\t<tr><td>N1              </td><td>11/08/17        </td><td>Den Haag        </td><td>Utrecht         </td><td>0               </td><td>3               </td><td>A               </td><td>0               </td><td>1               </td><td>A               </td><td>...             </td><td>1.84            </td><td>17              </td><td>0.5             </td><td>1.88            </td><td>1.84            </td><td>2.07            </td><td>2.02            </td><td>3.95            </td><td>3.57            </td><td>2.03            </td></tr>\n",
       "\t<tr><td>N1              </td><td>12/08/17        </td><td>Heracles        </td><td>Ajax            </td><td>2               </td><td>1               </td><td>H               </td><td>0               </td><td>0               </td><td>D               </td><td>...             </td><td>2.18            </td><td>17              </td><td>1.25            </td><td>2               </td><td>1.94            </td><td>1.96            </td><td>1.91            </td><td>9.72            </td><td>6.18            </td><td>1.32            </td></tr>\n",
       "\t<tr><td>N1              </td><td>12/08/17        </td><td>PSV Eindhoven   </td><td>AZ Alkmaar      </td><td>3               </td><td>2               </td><td>H               </td><td>1               </td><td>1               </td><td>D               </td><td>...             </td><td>2.64            </td><td>17              </td><td>-1.25           </td><td>1.98            </td><td>1.92            </td><td>1.96            </td><td>1.93            </td><td>1.47            </td><td>5.1             </td><td>6.64            </td></tr>\n",
       "\t<tr><td>N1              </td><td>12/08/17        </td><td>Vitesse         </td><td>NAC Breda       </td><td>4               </td><td>1               </td><td>H               </td><td>3               </td><td>0               </td><td>H               </td><td>...             </td><td>2.23            </td><td>18              </td><td>-1              </td><td>1.98            </td><td>1.92            </td><td>2               </td><td>1.93            </td><td>1.47            </td><td>4.82            </td><td>7.33            </td></tr>\n",
       "\t<tr><td>N1              </td><td>12/08/17        </td><td>VVV Venlo       </td><td>Sparta Rotterdam</td><td>3               </td><td>0               </td><td>H               </td><td>1               </td><td>0               </td><td>H               </td><td>...             </td><td>1.87            </td><td>18              </td><td>-0.25           </td><td>1.86            </td><td>1.83            </td><td>2.08            </td><td>2.03            </td><td>2.1             </td><td>3.52            </td><td>3.78            </td></tr>\n",
       "\t<tr><td>N1              </td><td>13/08/17        </td><td>Feyenoord       </td><td>Twente          </td><td>2               </td><td>1               </td><td>H               </td><td>1               </td><td>1               </td><td>D               </td><td>...             </td><td>2.47            </td><td>17              </td><td>-1.75           </td><td>1.92            </td><td>1.88            </td><td>2.01            </td><td>1.97            </td><td>1.24            </td><td>6.7             </td><td>13.99           </td></tr>\n",
       "\t<tr><td>N1              </td><td>13/08/17        </td><td>Groningen       </td><td>Heerenveen      </td><td>3               </td><td>3               </td><td>D               </td><td>0               </td><td>2               </td><td>A               </td><td>...             </td><td>2.28            </td><td>17              </td><td>-0.25           </td><td>1.97            </td><td>1.92            </td><td>1.97            </td><td>1.92            </td><td>2.24            </td><td>3.86            </td><td>3.13            </td></tr>\n",
       "\t<tr><td>N1              </td><td>13/08/17        </td><td>Willem II       </td><td>Excelsior       </td><td>1               </td><td>2               </td><td>A               </td><td>0               </td><td>1               </td><td>A               </td><td>...             </td><td>1.9             </td><td>16              </td><td>-0.5            </td><td>2.11            </td><td>2.06            </td><td>1.84            </td><td>1.8             </td><td>2.16            </td><td>3.54            </td><td>3.57            </td></tr>\n",
       "\t<tr><td>N1              </td><td>13/08/17        </td><td>Zwolle          </td><td>Roda            </td><td>4               </td><td>2               </td><td>H               </td><td>1               </td><td>1               </td><td>D               </td><td>...             </td><td>1.94            </td><td>16              </td><td>-0.5            </td><td>1.87            </td><td>1.83            </td><td>2.07            </td><td>2.02            </td><td>1.74            </td><td>4.01            </td><td>5.05            </td></tr>\n",
       "\t<tr><td>N1              </td><td>18/08/17        </td><td>Roda            </td><td>Vitesse         </td><td>1               </td><td>3               </td><td>A               </td><td>0               </td><td>1               </td><td>A               </td><td>...             </td><td>2.08            </td><td>16              </td><td>0.5             </td><td>2.03            </td><td>1.97            </td><td>1.94            </td><td>1.89            </td><td>4.1             </td><td>3.85            </td><td>1.92            </td></tr>\n",
       "\t<tr><td>N1              </td><td>19/08/17        </td><td>AZ Alkmaar      </td><td>Den Haag        </td><td>2               </td><td>0               </td><td>H               </td><td>1               </td><td>0               </td><td>H               </td><td>...             </td><td>2.67            </td><td>15              </td><td>-1.5            </td><td>2.07            </td><td>2.01            </td><td>1.88            </td><td>1.83            </td><td>1.42            </td><td>5.3             </td><td>7.5             </td></tr>\n",
       "\t<tr><td>N1              </td><td>19/08/17        </td><td>Heerenveen      </td><td>Heracles        </td><td>1               </td><td>1               </td><td>D               </td><td>0               </td><td>1               </td><td>A               </td><td>...             </td><td>2.53            </td><td>14              </td><td>-0.75           </td><td>1.86            </td><td>1.81            </td><td>2.09            </td><td>2.04            </td><td>1.59            </td><td>4.5             </td><td>5.71            </td></tr>\n",
       "\t<tr><td>N1              </td><td>19/08/17        </td><td>Twente          </td><td>VVV Venlo       </td><td>1               </td><td>2               </td><td>A               </td><td>0               </td><td>2               </td><td>A               </td><td>...             </td><td>2.13            </td><td>14              </td><td>-0.75           </td><td>2.08            </td><td>2               </td><td>1.89            </td><td>1.85            </td><td>1.95            </td><td>3.67            </td><td>4.15            </td></tr>\n",
       "\t<tr><td>N1              </td><td>20/08/17        </td><td>Ajax            </td><td>Groningen       </td><td>3               </td><td>1               </td><td>H               </td><td>1               </td><td>0               </td><td>H               </td><td>...             </td><td>2.88            </td><td>14              </td><td>-1.75           </td><td>2.05            </td><td>1.98            </td><td>1.94            </td><td>1.87            </td><td>1.25            </td><td>7.18            </td><td>11.32           </td></tr>\n",
       "\t<tr><td>N1              </td><td>20/08/17        </td><td>Excelsior       </td><td>Feyenoord       </td><td>0               </td><td>1               </td><td>A               </td><td>0               </td><td>1               </td><td>A               </td><td>...             </td><td>2.42            </td><td>14              </td><td>1.25            </td><td>1.97            </td><td>1.92            </td><td>1.97            </td><td>1.92            </td><td>7.86            </td><td>4.9             </td><td>1.44            </td></tr>\n",
       "\t<tr><td>N1              </td><td>20/08/17        </td><td>NAC Breda       </td><td>PSV Eindhoven   </td><td>1               </td><td>4               </td><td>A               </td><td>1               </td><td>1               </td><td>D               </td><td>...             </td><td>2.67            </td><td>15              </td><td>1.5             </td><td>1.99            </td><td>1.94            </td><td>1.94            </td><td>1.9             </td><td>10.61           </td><td>6.5             </td><td>1.29            </td></tr>\n",
       "\t<tr><td>N1              </td><td>20/08/17        </td><td>Sparta Rotterdam</td><td>Zwolle          </td><td>1               </td><td>1               </td><td>D               </td><td>1               </td><td>1               </td><td>D               </td><td>...             </td><td>2.1             </td><td>14              </td><td>0               </td><td>1.92            </td><td>1.87            </td><td>2               </td><td>1.96            </td><td>2.44            </td><td>3.53            </td><td>3.02            </td></tr>\n",
       "\t<tr><td>N1              </td><td>20/08/17        </td><td>Utrecht         </td><td>Willem II       </td><td>2               </td><td>0               </td><td>H               </td><td>2               </td><td>0               </td><td>H               </td><td>...             </td><td>1.97            </td><td>14              </td><td>-1              </td><td>1.94            </td><td>1.9             </td><td>1.99            </td><td>1.95            </td><td>1.48            </td><td>4.71            </td><td>7.34            </td></tr>\n",
       "\t<tr><td>N1              </td><td>25/08/17        </td><td>NAC Breda       </td><td>Sparta Rotterdam</td><td>2               </td><td>2               </td><td>D               </td><td>1               </td><td>0               </td><td>H               </td><td>...             </td><td>2.02            </td><td>15              </td><td>-0.25           </td><td>2.08            </td><td>2.05            </td><td>1.89            </td><td>1.83            </td><td>2.66            </td><td>3.53            </td><td>2.73            </td></tr>\n",
       "\t<tr><td>N1              </td><td>26/08/17        </td><td>Den Haag        </td><td>Heerenveen      </td><td>1               </td><td>2               </td><td>A               </td><td>0               </td><td>0               </td><td>D               </td><td>...             </td><td>2.15            </td><td>14              </td><td>0.25            </td><td>1.95            </td><td>1.89            </td><td>2.02            </td><td>1.98            </td><td>3.21            </td><td>3.72            </td><td>2.25            </td></tr>\n",
       "\t<tr><td>N1              </td><td>26/08/17        </td><td>Heracles        </td><td>Excelsior       </td><td>2               </td><td>2               </td><td>D               </td><td>1               </td><td>1               </td><td>D               </td><td>...             </td><td>2.23            </td><td>14              </td><td>-0.25           </td><td>1.91            </td><td>1.86            </td><td>2.08            </td><td>2.01            </td><td>2.23            </td><td>3.72            </td><td>3.26            </td></tr>\n",
       "\t<tr><td>N1              </td><td>26/08/17        </td><td>Vitesse         </td><td>AZ Alkmaar      </td><td>1               </td><td>2               </td><td>A               </td><td>0               </td><td>1               </td><td>A               </td><td>...             </td><td>2.32            </td><td>14              </td><td>-0.25           </td><td>1.95            </td><td>1.91            </td><td>2               </td><td>1.96            </td><td>2.26            </td><td>3.64            </td><td>3.25            </td></tr>\n",
       "\t<tr><td>N1              </td><td>26/08/17        </td><td>Zwolle          </td><td>Twente          </td><td>2               </td><td>0               </td><td>H               </td><td>1               </td><td>0               </td><td>H               </td><td>...             </td><td>2.24            </td><td>14              </td><td>-0.5            </td><td>2.05            </td><td>2.01            </td><td>1.92            </td><td>1.87            </td><td>2.02            </td><td>3.76            </td><td>3.78            </td></tr>\n",
       "\t<tr><td>N1              </td><td>27/08/17        </td><td>Feyenoord       </td><td>Willem II       </td><td>5               </td><td>0               </td><td>H               </td><td>4               </td><td>0               </td><td>H               </td><td>...             </td><td>2.79            </td><td>13              </td><td>-2              </td><td>1.96            </td><td>1.93            </td><td>1.99            </td><td>1.95            </td><td>1.22            </td><td>6.79            </td><td>17.93           </td></tr>\n",
       "\t<tr><td>N1              </td><td>27/08/17        </td><td>Groningen       </td><td>Utrecht         </td><td>2               </td><td>1               </td><td>H               </td><td>2               </td><td>0               </td><td>H               </td><td>...             </td><td>2.24            </td><td>13              </td><td>0               </td><td>2.02            </td><td>1.96            </td><td>1.94            </td><td>1.89            </td><td>2.74            </td><td>3.67            </td><td>2.58            </td></tr>\n",
       "\t<tr><td>N1              </td><td>27/08/17        </td><td>PSV Eindhoven   </td><td>Roda            </td><td>2               </td><td>0               </td><td>H               </td><td>2               </td><td>0               </td><td>H               </td><td>...             </td><td>3.5             </td><td>14              </td><td>-2.5            </td><td>1.92            </td><td>1.88            </td><td>2.02            </td><td>1.98            </td><td>1.12            </td><td>10.72           </td><td>24.44           </td></tr>\n",
       "\t<tr><td>N1              </td><td>27/08/17        </td><td>VVV Venlo       </td><td>Ajax            </td><td>0               </td><td>2               </td><td>A               </td><td>0               </td><td>0               </td><td>D               </td><td>...             </td><td>2.6             </td><td>13              </td><td>1.25            </td><td>2               </td><td>1.88            </td><td>2.04            </td><td>1.98            </td><td>8.42            </td><td>5.03            </td><td>1.41            </td></tr>\n",
       "</tbody>\n",
       "</table>\n"
      ],
      "text/latex": [
       "\\begin{tabular}{r|llllllllllllllllllllllllllllllllllllllllllllllllllll}\n",
       " Div & Date & HomeTeam & AwayTeam & FTHG & FTAG & FTR & HTHG & HTAG & HTR & ... & BbAv.2.5.1 & BbAH & BbAHh & BbMxAHH & BbAvAHH & BbMxAHA & BbAvAHA & PSCH & PSCD & PSCA\\\\\n",
       "\\hline\n",
       "\t N1               & 11/08/17         & Den Haag         & Utrecht          & 0                & 3                & A                & 0                & 1                & A                & ...              & 1.84             & 17               & 0.5              & 1.88             & 1.84             & 2.07             & 2.02             & 3.95             & 3.57             & 2.03            \\\\\n",
       "\t N1               & 12/08/17         & Heracles         & Ajax             & 2                & 1                & H                & 0                & 0                & D                & ...              & 2.18             & 17               & 1.25             & 2                & 1.94             & 1.96             & 1.91             & 9.72             & 6.18             & 1.32            \\\\\n",
       "\t N1               & 12/08/17         & PSV Eindhoven    & AZ Alkmaar       & 3                & 2                & H                & 1                & 1                & D                & ...              & 2.64             & 17               & -1.25            & 1.98             & 1.92             & 1.96             & 1.93             & 1.47             & 5.1              & 6.64            \\\\\n",
       "\t N1               & 12/08/17         & Vitesse          & NAC Breda        & 4                & 1                & H                & 3                & 0                & H                & ...              & 2.23             & 18               & -1               & 1.98             & 1.92             & 2                & 1.93             & 1.47             & 4.82             & 7.33            \\\\\n",
       "\t N1               & 12/08/17         & VVV Venlo        & Sparta Rotterdam & 3                & 0                & H                & 1                & 0                & H                & ...              & 1.87             & 18               & -0.25            & 1.86             & 1.83             & 2.08             & 2.03             & 2.1              & 3.52             & 3.78            \\\\\n",
       "\t N1               & 13/08/17         & Feyenoord        & Twente           & 2                & 1                & H                & 1                & 1                & D                & ...              & 2.47             & 17               & -1.75            & 1.92             & 1.88             & 2.01             & 1.97             & 1.24             & 6.7              & 13.99           \\\\\n",
       "\t N1               & 13/08/17         & Groningen        & Heerenveen       & 3                & 3                & D                & 0                & 2                & A                & ...              & 2.28             & 17               & -0.25            & 1.97             & 1.92             & 1.97             & 1.92             & 2.24             & 3.86             & 3.13            \\\\\n",
       "\t N1               & 13/08/17         & Willem II        & Excelsior        & 1                & 2                & A                & 0                & 1                & A                & ...              & 1.9              & 16               & -0.5             & 2.11             & 2.06             & 1.84             & 1.8              & 2.16             & 3.54             & 3.57            \\\\\n",
       "\t N1               & 13/08/17         & Zwolle           & Roda             & 4                & 2                & H                & 1                & 1                & D                & ...              & 1.94             & 16               & -0.5             & 1.87             & 1.83             & 2.07             & 2.02             & 1.74             & 4.01             & 5.05            \\\\\n",
       "\t N1               & 18/08/17         & Roda             & Vitesse          & 1                & 3                & A                & 0                & 1                & A                & ...              & 2.08             & 16               & 0.5              & 2.03             & 1.97             & 1.94             & 1.89             & 4.1              & 3.85             & 1.92            \\\\\n",
       "\t N1               & 19/08/17         & AZ Alkmaar       & Den Haag         & 2                & 0                & H                & 1                & 0                & H                & ...              & 2.67             & 15               & -1.5             & 2.07             & 2.01             & 1.88             & 1.83             & 1.42             & 5.3              & 7.5             \\\\\n",
       "\t N1               & 19/08/17         & Heerenveen       & Heracles         & 1                & 1                & D                & 0                & 1                & A                & ...              & 2.53             & 14               & -0.75            & 1.86             & 1.81             & 2.09             & 2.04             & 1.59             & 4.5              & 5.71            \\\\\n",
       "\t N1               & 19/08/17         & Twente           & VVV Venlo        & 1                & 2                & A                & 0                & 2                & A                & ...              & 2.13             & 14               & -0.75            & 2.08             & 2                & 1.89             & 1.85             & 1.95             & 3.67             & 4.15            \\\\\n",
       "\t N1               & 20/08/17         & Ajax             & Groningen        & 3                & 1                & H                & 1                & 0                & H                & ...              & 2.88             & 14               & -1.75            & 2.05             & 1.98             & 1.94             & 1.87             & 1.25             & 7.18             & 11.32           \\\\\n",
       "\t N1               & 20/08/17         & Excelsior        & Feyenoord        & 0                & 1                & A                & 0                & 1                & A                & ...              & 2.42             & 14               & 1.25             & 1.97             & 1.92             & 1.97             & 1.92             & 7.86             & 4.9              & 1.44            \\\\\n",
       "\t N1               & 20/08/17         & NAC Breda        & PSV Eindhoven    & 1                & 4                & A                & 1                & 1                & D                & ...              & 2.67             & 15               & 1.5              & 1.99             & 1.94             & 1.94             & 1.9              & 10.61            & 6.5              & 1.29            \\\\\n",
       "\t N1               & 20/08/17         & Sparta Rotterdam & Zwolle           & 1                & 1                & D                & 1                & 1                & D                & ...              & 2.1              & 14               & 0                & 1.92             & 1.87             & 2                & 1.96             & 2.44             & 3.53             & 3.02            \\\\\n",
       "\t N1               & 20/08/17         & Utrecht          & Willem II        & 2                & 0                & H                & 2                & 0                & H                & ...              & 1.97             & 14               & -1               & 1.94             & 1.9              & 1.99             & 1.95             & 1.48             & 4.71             & 7.34            \\\\\n",
       "\t N1               & 25/08/17         & NAC Breda        & Sparta Rotterdam & 2                & 2                & D                & 1                & 0                & H                & ...              & 2.02             & 15               & -0.25            & 2.08             & 2.05             & 1.89             & 1.83             & 2.66             & 3.53             & 2.73            \\\\\n",
       "\t N1               & 26/08/17         & Den Haag         & Heerenveen       & 1                & 2                & A                & 0                & 0                & D                & ...              & 2.15             & 14               & 0.25             & 1.95             & 1.89             & 2.02             & 1.98             & 3.21             & 3.72             & 2.25            \\\\\n",
       "\t N1               & 26/08/17         & Heracles         & Excelsior        & 2                & 2                & D                & 1                & 1                & D                & ...              & 2.23             & 14               & -0.25            & 1.91             & 1.86             & 2.08             & 2.01             & 2.23             & 3.72             & 3.26            \\\\\n",
       "\t N1               & 26/08/17         & Vitesse          & AZ Alkmaar       & 1                & 2                & A                & 0                & 1                & A                & ...              & 2.32             & 14               & -0.25            & 1.95             & 1.91             & 2                & 1.96             & 2.26             & 3.64             & 3.25            \\\\\n",
       "\t N1               & 26/08/17         & Zwolle           & Twente           & 2                & 0                & H                & 1                & 0                & H                & ...              & 2.24             & 14               & -0.5             & 2.05             & 2.01             & 1.92             & 1.87             & 2.02             & 3.76             & 3.78            \\\\\n",
       "\t N1               & 27/08/17         & Feyenoord        & Willem II        & 5                & 0                & H                & 4                & 0                & H                & ...              & 2.79             & 13               & -2               & 1.96             & 1.93             & 1.99             & 1.95             & 1.22             & 6.79             & 17.93           \\\\\n",
       "\t N1               & 27/08/17         & Groningen        & Utrecht          & 2                & 1                & H                & 2                & 0                & H                & ...              & 2.24             & 13               & 0                & 2.02             & 1.96             & 1.94             & 1.89             & 2.74             & 3.67             & 2.58            \\\\\n",
       "\t N1               & 27/08/17         & PSV Eindhoven    & Roda             & 2                & 0                & H                & 2                & 0                & H                & ...              & 3.5              & 14               & -2.5             & 1.92             & 1.88             & 2.02             & 1.98             & 1.12             & 10.72            & 24.44           \\\\\n",
       "\t N1               & 27/08/17         & VVV Venlo        & Ajax             & 0                & 2                & A                & 0                & 0                & D                & ...              & 2.6              & 13               & 1.25             & 2                & 1.88             & 2.04             & 1.98             & 8.42             & 5.03             & 1.41            \\\\\n",
       "\\end{tabular}\n"
      ],
      "text/markdown": [
       "\n",
       "Div | Date | HomeTeam | AwayTeam | FTHG | FTAG | FTR | HTHG | HTAG | HTR | ... | BbAv.2.5.1 | BbAH | BbAHh | BbMxAHH | BbAvAHH | BbMxAHA | BbAvAHA | PSCH | PSCD | PSCA | \n",
       "|---|---|---|---|---|---|---|---|---|---|---|---|---|---|---|---|---|---|---|---|---|---|---|---|---|---|---|\n",
       "| N1               | 11/08/17         | Den Haag         | Utrecht          | 0                | 3                | A                | 0                | 1                | A                | ...              | 1.84             | 17               | 0.5              | 1.88             | 1.84             | 2.07             | 2.02             | 3.95             | 3.57             | 2.03             | \n",
       "| N1               | 12/08/17         | Heracles         | Ajax             | 2                | 1                | H                | 0                | 0                | D                | ...              | 2.18             | 17               | 1.25             | 2                | 1.94             | 1.96             | 1.91             | 9.72             | 6.18             | 1.32             | \n",
       "| N1               | 12/08/17         | PSV Eindhoven    | AZ Alkmaar       | 3                | 2                | H                | 1                | 1                | D                | ...              | 2.64             | 17               | -1.25            | 1.98             | 1.92             | 1.96             | 1.93             | 1.47             | 5.1              | 6.64             | \n",
       "| N1               | 12/08/17         | Vitesse          | NAC Breda        | 4                | 1                | H                | 3                | 0                | H                | ...              | 2.23             | 18               | -1               | 1.98             | 1.92             | 2                | 1.93             | 1.47             | 4.82             | 7.33             | \n",
       "| N1               | 12/08/17         | VVV Venlo        | Sparta Rotterdam | 3                | 0                | H                | 1                | 0                | H                | ...              | 1.87             | 18               | -0.25            | 1.86             | 1.83             | 2.08             | 2.03             | 2.1              | 3.52             | 3.78             | \n",
       "| N1               | 13/08/17         | Feyenoord        | Twente           | 2                | 1                | H                | 1                | 1                | D                | ...              | 2.47             | 17               | -1.75            | 1.92             | 1.88             | 2.01             | 1.97             | 1.24             | 6.7              | 13.99            | \n",
       "| N1               | 13/08/17         | Groningen        | Heerenveen       | 3                | 3                | D                | 0                | 2                | A                | ...              | 2.28             | 17               | -0.25            | 1.97             | 1.92             | 1.97             | 1.92             | 2.24             | 3.86             | 3.13             | \n",
       "| N1               | 13/08/17         | Willem II        | Excelsior        | 1                | 2                | A                | 0                | 1                | A                | ...              | 1.9              | 16               | -0.5             | 2.11             | 2.06             | 1.84             | 1.8              | 2.16             | 3.54             | 3.57             | \n",
       "| N1               | 13/08/17         | Zwolle           | Roda             | 4                | 2                | H                | 1                | 1                | D                | ...              | 1.94             | 16               | -0.5             | 1.87             | 1.83             | 2.07             | 2.02             | 1.74             | 4.01             | 5.05             | \n",
       "| N1               | 18/08/17         | Roda             | Vitesse          | 1                | 3                | A                | 0                | 1                | A                | ...              | 2.08             | 16               | 0.5              | 2.03             | 1.97             | 1.94             | 1.89             | 4.1              | 3.85             | 1.92             | \n",
       "| N1               | 19/08/17         | AZ Alkmaar       | Den Haag         | 2                | 0                | H                | 1                | 0                | H                | ...              | 2.67             | 15               | -1.5             | 2.07             | 2.01             | 1.88             | 1.83             | 1.42             | 5.3              | 7.5              | \n",
       "| N1               | 19/08/17         | Heerenveen       | Heracles         | 1                | 1                | D                | 0                | 1                | A                | ...              | 2.53             | 14               | -0.75            | 1.86             | 1.81             | 2.09             | 2.04             | 1.59             | 4.5              | 5.71             | \n",
       "| N1               | 19/08/17         | Twente           | VVV Venlo        | 1                | 2                | A                | 0                | 2                | A                | ...              | 2.13             | 14               | -0.75            | 2.08             | 2                | 1.89             | 1.85             | 1.95             | 3.67             | 4.15             | \n",
       "| N1               | 20/08/17         | Ajax             | Groningen        | 3                | 1                | H                | 1                | 0                | H                | ...              | 2.88             | 14               | -1.75            | 2.05             | 1.98             | 1.94             | 1.87             | 1.25             | 7.18             | 11.32            | \n",
       "| N1               | 20/08/17         | Excelsior        | Feyenoord        | 0                | 1                | A                | 0                | 1                | A                | ...              | 2.42             | 14               | 1.25             | 1.97             | 1.92             | 1.97             | 1.92             | 7.86             | 4.9              | 1.44             | \n",
       "| N1               | 20/08/17         | NAC Breda        | PSV Eindhoven    | 1                | 4                | A                | 1                | 1                | D                | ...              | 2.67             | 15               | 1.5              | 1.99             | 1.94             | 1.94             | 1.9              | 10.61            | 6.5              | 1.29             | \n",
       "| N1               | 20/08/17         | Sparta Rotterdam | Zwolle           | 1                | 1                | D                | 1                | 1                | D                | ...              | 2.1              | 14               | 0                | 1.92             | 1.87             | 2                | 1.96             | 2.44             | 3.53             | 3.02             | \n",
       "| N1               | 20/08/17         | Utrecht          | Willem II        | 2                | 0                | H                | 2                | 0                | H                | ...              | 1.97             | 14               | -1               | 1.94             | 1.9              | 1.99             | 1.95             | 1.48             | 4.71             | 7.34             | \n",
       "| N1               | 25/08/17         | NAC Breda        | Sparta Rotterdam | 2                | 2                | D                | 1                | 0                | H                | ...              | 2.02             | 15               | -0.25            | 2.08             | 2.05             | 1.89             | 1.83             | 2.66             | 3.53             | 2.73             | \n",
       "| N1               | 26/08/17         | Den Haag         | Heerenveen       | 1                | 2                | A                | 0                | 0                | D                | ...              | 2.15             | 14               | 0.25             | 1.95             | 1.89             | 2.02             | 1.98             | 3.21             | 3.72             | 2.25             | \n",
       "| N1               | 26/08/17         | Heracles         | Excelsior        | 2                | 2                | D                | 1                | 1                | D                | ...              | 2.23             | 14               | -0.25            | 1.91             | 1.86             | 2.08             | 2.01             | 2.23             | 3.72             | 3.26             | \n",
       "| N1               | 26/08/17         | Vitesse          | AZ Alkmaar       | 1                | 2                | A                | 0                | 1                | A                | ...              | 2.32             | 14               | -0.25            | 1.95             | 1.91             | 2                | 1.96             | 2.26             | 3.64             | 3.25             | \n",
       "| N1               | 26/08/17         | Zwolle           | Twente           | 2                | 0                | H                | 1                | 0                | H                | ...              | 2.24             | 14               | -0.5             | 2.05             | 2.01             | 1.92             | 1.87             | 2.02             | 3.76             | 3.78             | \n",
       "| N1               | 27/08/17         | Feyenoord        | Willem II        | 5                | 0                | H                | 4                | 0                | H                | ...              | 2.79             | 13               | -2               | 1.96             | 1.93             | 1.99             | 1.95             | 1.22             | 6.79             | 17.93            | \n",
       "| N1               | 27/08/17         | Groningen        | Utrecht          | 2                | 1                | H                | 2                | 0                | H                | ...              | 2.24             | 13               | 0                | 2.02             | 1.96             | 1.94             | 1.89             | 2.74             | 3.67             | 2.58             | \n",
       "| N1               | 27/08/17         | PSV Eindhoven    | Roda             | 2                | 0                | H                | 2                | 0                | H                | ...              | 3.5              | 14               | -2.5             | 1.92             | 1.88             | 2.02             | 1.98             | 1.12             | 10.72            | 24.44            | \n",
       "| N1               | 27/08/17         | VVV Venlo        | Ajax             | 0                | 2                | A                | 0                | 0                | D                | ...              | 2.6              | 13               | 1.25             | 2                | 1.88             | 2.04             | 1.98             | 8.42             | 5.03             | 1.41             | \n",
       "\n",
       "\n"
      ],
      "text/plain": [
       "   Div Date     HomeTeam         AwayTeam         FTHG FTAG FTR HTHG HTAG HTR\n",
       "1  N1  11/08/17 Den Haag         Utrecht          0    3    A   0    1    A  \n",
       "2  N1  12/08/17 Heracles         Ajax             2    1    H   0    0    D  \n",
       "3  N1  12/08/17 PSV Eindhoven    AZ Alkmaar       3    2    H   1    1    D  \n",
       "4  N1  12/08/17 Vitesse          NAC Breda        4    1    H   3    0    H  \n",
       "5  N1  12/08/17 VVV Venlo        Sparta Rotterdam 3    0    H   1    0    H  \n",
       "6  N1  13/08/17 Feyenoord        Twente           2    1    H   1    1    D  \n",
       "7  N1  13/08/17 Groningen        Heerenveen       3    3    D   0    2    A  \n",
       "8  N1  13/08/17 Willem II        Excelsior        1    2    A   0    1    A  \n",
       "9  N1  13/08/17 Zwolle           Roda             4    2    H   1    1    D  \n",
       "10 N1  18/08/17 Roda             Vitesse          1    3    A   0    1    A  \n",
       "11 N1  19/08/17 AZ Alkmaar       Den Haag         2    0    H   1    0    H  \n",
       "12 N1  19/08/17 Heerenveen       Heracles         1    1    D   0    1    A  \n",
       "13 N1  19/08/17 Twente           VVV Venlo        1    2    A   0    2    A  \n",
       "14 N1  20/08/17 Ajax             Groningen        3    1    H   1    0    H  \n",
       "15 N1  20/08/17 Excelsior        Feyenoord        0    1    A   0    1    A  \n",
       "16 N1  20/08/17 NAC Breda        PSV Eindhoven    1    4    A   1    1    D  \n",
       "17 N1  20/08/17 Sparta Rotterdam Zwolle           1    1    D   1    1    D  \n",
       "18 N1  20/08/17 Utrecht          Willem II        2    0    H   2    0    H  \n",
       "19 N1  25/08/17 NAC Breda        Sparta Rotterdam 2    2    D   1    0    H  \n",
       "20 N1  26/08/17 Den Haag         Heerenveen       1    2    A   0    0    D  \n",
       "21 N1  26/08/17 Heracles         Excelsior        2    2    D   1    1    D  \n",
       "22 N1  26/08/17 Vitesse          AZ Alkmaar       1    2    A   0    1    A  \n",
       "23 N1  26/08/17 Zwolle           Twente           2    0    H   1    0    H  \n",
       "24 N1  27/08/17 Feyenoord        Willem II        5    0    H   4    0    H  \n",
       "25 N1  27/08/17 Groningen        Utrecht          2    1    H   2    0    H  \n",
       "26 N1  27/08/17 PSV Eindhoven    Roda             2    0    H   2    0    H  \n",
       "27 N1  27/08/17 VVV Venlo        Ajax             0    2    A   0    0    D  \n",
       "   ... BbAv.2.5.1 BbAH BbAHh BbMxAHH BbAvAHH BbMxAHA BbAvAHA PSCH  PSCD  PSCA \n",
       "1  ... 1.84       17   0.5   1.88    1.84    2.07    2.02    3.95  3.57  2.03 \n",
       "2  ... 2.18       17   1.25  2       1.94    1.96    1.91    9.72  6.18  1.32 \n",
       "3  ... 2.64       17   -1.25 1.98    1.92    1.96    1.93    1.47  5.1   6.64 \n",
       "4  ... 2.23       18   -1    1.98    1.92    2       1.93    1.47  4.82  7.33 \n",
       "5  ... 1.87       18   -0.25 1.86    1.83    2.08    2.03    2.1   3.52  3.78 \n",
       "6  ... 2.47       17   -1.75 1.92    1.88    2.01    1.97    1.24  6.7   13.99\n",
       "7  ... 2.28       17   -0.25 1.97    1.92    1.97    1.92    2.24  3.86  3.13 \n",
       "8  ... 1.9        16   -0.5  2.11    2.06    1.84    1.8     2.16  3.54  3.57 \n",
       "9  ... 1.94       16   -0.5  1.87    1.83    2.07    2.02    1.74  4.01  5.05 \n",
       "10 ... 2.08       16   0.5   2.03    1.97    1.94    1.89    4.1   3.85  1.92 \n",
       "11 ... 2.67       15   -1.5  2.07    2.01    1.88    1.83    1.42  5.3   7.5  \n",
       "12 ... 2.53       14   -0.75 1.86    1.81    2.09    2.04    1.59  4.5   5.71 \n",
       "13 ... 2.13       14   -0.75 2.08    2       1.89    1.85    1.95  3.67  4.15 \n",
       "14 ... 2.88       14   -1.75 2.05    1.98    1.94    1.87    1.25  7.18  11.32\n",
       "15 ... 2.42       14   1.25  1.97    1.92    1.97    1.92    7.86  4.9   1.44 \n",
       "16 ... 2.67       15   1.5   1.99    1.94    1.94    1.9     10.61 6.5   1.29 \n",
       "17 ... 2.1        14   0     1.92    1.87    2       1.96    2.44  3.53  3.02 \n",
       "18 ... 1.97       14   -1    1.94    1.9     1.99    1.95    1.48  4.71  7.34 \n",
       "19 ... 2.02       15   -0.25 2.08    2.05    1.89    1.83    2.66  3.53  2.73 \n",
       "20 ... 2.15       14   0.25  1.95    1.89    2.02    1.98    3.21  3.72  2.25 \n",
       "21 ... 2.23       14   -0.25 1.91    1.86    2.08    2.01    2.23  3.72  3.26 \n",
       "22 ... 2.32       14   -0.25 1.95    1.91    2       1.96    2.26  3.64  3.25 \n",
       "23 ... 2.24       14   -0.5  2.05    2.01    1.92    1.87    2.02  3.76  3.78 \n",
       "24 ... 2.79       13   -2    1.96    1.93    1.99    1.95    1.22  6.79  17.93\n",
       "25 ... 2.24       13   0     2.02    1.96    1.94    1.89    2.74  3.67  2.58 \n",
       "26 ... 3.5        14   -2.5  1.92    1.88    2.02    1.98    1.12  10.72 24.44\n",
       "27 ... 2.6        13   1.25  2       1.88    2.04    1.98    8.42  5.03  1.41 "
      ]
     },
     "metadata": {},
     "output_type": "display_data"
    }
   ],
   "source": [
    "football1 <- read.csv2(\"../sourcedata/N1.csv\", sep= ',')\n",
    "football1\n"
   ]
  },
  {
   "cell_type": "markdown",
   "metadata": {},
   "source": [
    "And have a look at the data with `head(football1)`"
   ]
  },
  {
   "cell_type": "code",
   "execution_count": 14,
   "metadata": {},
   "outputs": [
    {
     "data": {
      "text/html": [
       "<table>\n",
       "<thead><tr><th scope=col>Div</th><th scope=col>Date</th><th scope=col>HomeTeam</th><th scope=col>AwayTeam</th><th scope=col>FTHG</th><th scope=col>FTAG</th><th scope=col>FTR</th><th scope=col>HTHG</th><th scope=col>HTAG</th><th scope=col>HTR</th><th scope=col>...</th><th scope=col>BbAv.2.5.1</th><th scope=col>BbAH</th><th scope=col>BbAHh</th><th scope=col>BbMxAHH</th><th scope=col>BbAvAHH</th><th scope=col>BbMxAHA</th><th scope=col>BbAvAHA</th><th scope=col>PSCH</th><th scope=col>PSCD</th><th scope=col>PSCA</th></tr></thead>\n",
       "<tbody>\n",
       "\t<tr><td>N1              </td><td>11/08/17        </td><td>Den Haag        </td><td>Utrecht         </td><td>0               </td><td>3               </td><td>A               </td><td>0               </td><td>1               </td><td>A               </td><td>...             </td><td>1.84            </td><td>17              </td><td>0.5             </td><td>1.88            </td><td>1.84            </td><td>2.07            </td><td>2.02            </td><td>3.95            </td><td>3.57            </td><td>2.03            </td></tr>\n",
       "\t<tr><td>N1              </td><td>12/08/17        </td><td>Heracles        </td><td>Ajax            </td><td>2               </td><td>1               </td><td>H               </td><td>0               </td><td>0               </td><td>D               </td><td>...             </td><td>2.18            </td><td>17              </td><td>1.25            </td><td>2               </td><td>1.94            </td><td>1.96            </td><td>1.91            </td><td>9.72            </td><td>6.18            </td><td>1.32            </td></tr>\n",
       "\t<tr><td>N1              </td><td>12/08/17        </td><td>PSV Eindhoven   </td><td>AZ Alkmaar      </td><td>3               </td><td>2               </td><td>H               </td><td>1               </td><td>1               </td><td>D               </td><td>...             </td><td>2.64            </td><td>17              </td><td>-1.25           </td><td>1.98            </td><td>1.92            </td><td>1.96            </td><td>1.93            </td><td>1.47            </td><td>5.1             </td><td>6.64            </td></tr>\n",
       "\t<tr><td>N1              </td><td>12/08/17        </td><td>Vitesse         </td><td>NAC Breda       </td><td>4               </td><td>1               </td><td>H               </td><td>3               </td><td>0               </td><td>H               </td><td>...             </td><td>2.23            </td><td>18              </td><td>-1              </td><td>1.98            </td><td>1.92            </td><td>2               </td><td>1.93            </td><td>1.47            </td><td>4.82            </td><td>7.33            </td></tr>\n",
       "\t<tr><td>N1              </td><td>12/08/17        </td><td>VVV Venlo       </td><td>Sparta Rotterdam</td><td>3               </td><td>0               </td><td>H               </td><td>1               </td><td>0               </td><td>H               </td><td>...             </td><td>1.87            </td><td>18              </td><td>-0.25           </td><td>1.86            </td><td>1.83            </td><td>2.08            </td><td>2.03            </td><td>2.1             </td><td>3.52            </td><td>3.78            </td></tr>\n",
       "\t<tr><td>N1              </td><td>13/08/17        </td><td>Feyenoord       </td><td>Twente          </td><td>2               </td><td>1               </td><td>H               </td><td>1               </td><td>1               </td><td>D               </td><td>...             </td><td>2.47            </td><td>17              </td><td>-1.75           </td><td>1.92            </td><td>1.88            </td><td>2.01            </td><td>1.97            </td><td>1.24            </td><td>6.7             </td><td>13.99           </td></tr>\n",
       "</tbody>\n",
       "</table>\n"
      ],
      "text/latex": [
       "\\begin{tabular}{r|llllllllllllllllllllllllllllllllllllllllllllllllllll}\n",
       " Div & Date & HomeTeam & AwayTeam & FTHG & FTAG & FTR & HTHG & HTAG & HTR & ... & BbAv.2.5.1 & BbAH & BbAHh & BbMxAHH & BbAvAHH & BbMxAHA & BbAvAHA & PSCH & PSCD & PSCA\\\\\n",
       "\\hline\n",
       "\t N1               & 11/08/17         & Den Haag         & Utrecht          & 0                & 3                & A                & 0                & 1                & A                & ...              & 1.84             & 17               & 0.5              & 1.88             & 1.84             & 2.07             & 2.02             & 3.95             & 3.57             & 2.03            \\\\\n",
       "\t N1               & 12/08/17         & Heracles         & Ajax             & 2                & 1                & H                & 0                & 0                & D                & ...              & 2.18             & 17               & 1.25             & 2                & 1.94             & 1.96             & 1.91             & 9.72             & 6.18             & 1.32            \\\\\n",
       "\t N1               & 12/08/17         & PSV Eindhoven    & AZ Alkmaar       & 3                & 2                & H                & 1                & 1                & D                & ...              & 2.64             & 17               & -1.25            & 1.98             & 1.92             & 1.96             & 1.93             & 1.47             & 5.1              & 6.64            \\\\\n",
       "\t N1               & 12/08/17         & Vitesse          & NAC Breda        & 4                & 1                & H                & 3                & 0                & H                & ...              & 2.23             & 18               & -1               & 1.98             & 1.92             & 2                & 1.93             & 1.47             & 4.82             & 7.33            \\\\\n",
       "\t N1               & 12/08/17         & VVV Venlo        & Sparta Rotterdam & 3                & 0                & H                & 1                & 0                & H                & ...              & 1.87             & 18               & -0.25            & 1.86             & 1.83             & 2.08             & 2.03             & 2.1              & 3.52             & 3.78            \\\\\n",
       "\t N1               & 13/08/17         & Feyenoord        & Twente           & 2                & 1                & H                & 1                & 1                & D                & ...              & 2.47             & 17               & -1.75            & 1.92             & 1.88             & 2.01             & 1.97             & 1.24             & 6.7              & 13.99           \\\\\n",
       "\\end{tabular}\n"
      ],
      "text/markdown": [
       "\n",
       "Div | Date | HomeTeam | AwayTeam | FTHG | FTAG | FTR | HTHG | HTAG | HTR | ... | BbAv.2.5.1 | BbAH | BbAHh | BbMxAHH | BbAvAHH | BbMxAHA | BbAvAHA | PSCH | PSCD | PSCA | \n",
       "|---|---|---|---|---|---|\n",
       "| N1               | 11/08/17         | Den Haag         | Utrecht          | 0                | 3                | A                | 0                | 1                | A                | ...              | 1.84             | 17               | 0.5              | 1.88             | 1.84             | 2.07             | 2.02             | 3.95             | 3.57             | 2.03             | \n",
       "| N1               | 12/08/17         | Heracles         | Ajax             | 2                | 1                | H                | 0                | 0                | D                | ...              | 2.18             | 17               | 1.25             | 2                | 1.94             | 1.96             | 1.91             | 9.72             | 6.18             | 1.32             | \n",
       "| N1               | 12/08/17         | PSV Eindhoven    | AZ Alkmaar       | 3                | 2                | H                | 1                | 1                | D                | ...              | 2.64             | 17               | -1.25            | 1.98             | 1.92             | 1.96             | 1.93             | 1.47             | 5.1              | 6.64             | \n",
       "| N1               | 12/08/17         | Vitesse          | NAC Breda        | 4                | 1                | H                | 3                | 0                | H                | ...              | 2.23             | 18               | -1               | 1.98             | 1.92             | 2                | 1.93             | 1.47             | 4.82             | 7.33             | \n",
       "| N1               | 12/08/17         | VVV Venlo        | Sparta Rotterdam | 3                | 0                | H                | 1                | 0                | H                | ...              | 1.87             | 18               | -0.25            | 1.86             | 1.83             | 2.08             | 2.03             | 2.1              | 3.52             | 3.78             | \n",
       "| N1               | 13/08/17         | Feyenoord        | Twente           | 2                | 1                | H                | 1                | 1                | D                | ...              | 2.47             | 17               | -1.75            | 1.92             | 1.88             | 2.01             | 1.97             | 1.24             | 6.7              | 13.99            | \n",
       "\n",
       "\n"
      ],
      "text/plain": [
       "  Div Date     HomeTeam      AwayTeam         FTHG FTAG FTR HTHG HTAG HTR ...\n",
       "1 N1  11/08/17 Den Haag      Utrecht          0    3    A   0    1    A   ...\n",
       "2 N1  12/08/17 Heracles      Ajax             2    1    H   0    0    D   ...\n",
       "3 N1  12/08/17 PSV Eindhoven AZ Alkmaar       3    2    H   1    1    D   ...\n",
       "4 N1  12/08/17 Vitesse       NAC Breda        4    1    H   3    0    H   ...\n",
       "5 N1  12/08/17 VVV Venlo     Sparta Rotterdam 3    0    H   1    0    H   ...\n",
       "6 N1  13/08/17 Feyenoord     Twente           2    1    H   1    1    D   ...\n",
       "  BbAv.2.5.1 BbAH BbAHh BbMxAHH BbAvAHH BbMxAHA BbAvAHA PSCH PSCD PSCA \n",
       "1 1.84       17   0.5   1.88    1.84    2.07    2.02    3.95 3.57 2.03 \n",
       "2 2.18       17   1.25  2       1.94    1.96    1.91    9.72 6.18 1.32 \n",
       "3 2.64       17   -1.25 1.98    1.92    1.96    1.93    1.47 5.1  6.64 \n",
       "4 2.23       18   -1    1.98    1.92    2       1.93    1.47 4.82 7.33 \n",
       "5 1.87       18   -0.25 1.86    1.83    2.08    2.03    2.1  3.52 3.78 \n",
       "6 2.47       17   -1.75 1.92    1.88    2.01    1.97    1.24 6.7  13.99"
      ]
     },
     "metadata": {},
     "output_type": "display_data"
    }
   ],
   "source": [
    "head(football1)"
   ]
  },
  {
   "cell_type": "markdown",
   "metadata": {},
   "source": [
    "All data seem to be stored in 1 cell!\n",
    "\n",
    "CSV means 'Comma Separated Value'. At the time this format started to be implemented, observations were separated by a comma. In the Netherlands, a comma is often used a decimal point. Therefore, observations in the Netherlands tend to be separated by a semi column ';'. Read.csv2 is developed for the Dutch situation. However, in many other countries a '.' is used as a decimal point and observations in csv files are separated by ','.\n",
    "\n",
    "There are different solutions to this problem. The solution presented here, should always work. With the argument `sep` we can indicated with separator is used. In this case we can see that the comma is used as separator. \n",
    "\n",
    "\n",
    "Try the following code:\n",
    "\n",
    "`football2 <- read.csv2(\"../sourcedata/N1.csv\", sep=\",\")`\n",
    "\n",
    "and view the data if it looks correct."
   ]
  },
  {
   "cell_type": "code",
   "execution_count": 15,
   "metadata": {},
   "outputs": [],
   "source": [
    "football2 <- read.csv2(\"../sourcedata/N1.csv\", sep=\",\")\n",
    "\n"
   ]
  },
  {
   "cell_type": "code",
   "execution_count": 16,
   "metadata": {},
   "outputs": [
    {
     "data": {
      "text/html": [
       "<table>\n",
       "<thead><tr><th scope=col>Div</th><th scope=col>Date</th><th scope=col>HomeTeam</th><th scope=col>AwayTeam</th><th scope=col>FTHG</th><th scope=col>FTAG</th><th scope=col>FTR</th><th scope=col>HTHG</th><th scope=col>HTAG</th><th scope=col>HTR</th><th scope=col>...</th><th scope=col>BbAv.2.5.1</th><th scope=col>BbAH</th><th scope=col>BbAHh</th><th scope=col>BbMxAHH</th><th scope=col>BbAvAHH</th><th scope=col>BbMxAHA</th><th scope=col>BbAvAHA</th><th scope=col>PSCH</th><th scope=col>PSCD</th><th scope=col>PSCA</th></tr></thead>\n",
       "<tbody>\n",
       "\t<tr><td>N1              </td><td>11/08/17        </td><td>Den Haag        </td><td>Utrecht         </td><td>0               </td><td>3               </td><td>A               </td><td>0               </td><td>1               </td><td>A               </td><td>...             </td><td>1.84            </td><td>17              </td><td>0.5             </td><td>1.88            </td><td>1.84            </td><td>2.07            </td><td>2.02            </td><td>3.95            </td><td>3.57            </td><td>2.03            </td></tr>\n",
       "\t<tr><td>N1              </td><td>12/08/17        </td><td>Heracles        </td><td>Ajax            </td><td>2               </td><td>1               </td><td>H               </td><td>0               </td><td>0               </td><td>D               </td><td>...             </td><td>2.18            </td><td>17              </td><td>1.25            </td><td>2               </td><td>1.94            </td><td>1.96            </td><td>1.91            </td><td>9.72            </td><td>6.18            </td><td>1.32            </td></tr>\n",
       "\t<tr><td>N1              </td><td>12/08/17        </td><td>PSV Eindhoven   </td><td>AZ Alkmaar      </td><td>3               </td><td>2               </td><td>H               </td><td>1               </td><td>1               </td><td>D               </td><td>...             </td><td>2.64            </td><td>17              </td><td>-1.25           </td><td>1.98            </td><td>1.92            </td><td>1.96            </td><td>1.93            </td><td>1.47            </td><td>5.1             </td><td>6.64            </td></tr>\n",
       "\t<tr><td>N1              </td><td>12/08/17        </td><td>Vitesse         </td><td>NAC Breda       </td><td>4               </td><td>1               </td><td>H               </td><td>3               </td><td>0               </td><td>H               </td><td>...             </td><td>2.23            </td><td>18              </td><td>-1              </td><td>1.98            </td><td>1.92            </td><td>2               </td><td>1.93            </td><td>1.47            </td><td>4.82            </td><td>7.33            </td></tr>\n",
       "\t<tr><td>N1              </td><td>12/08/17        </td><td>VVV Venlo       </td><td>Sparta Rotterdam</td><td>3               </td><td>0               </td><td>H               </td><td>1               </td><td>0               </td><td>H               </td><td>...             </td><td>1.87            </td><td>18              </td><td>-0.25           </td><td>1.86            </td><td>1.83            </td><td>2.08            </td><td>2.03            </td><td>2.1             </td><td>3.52            </td><td>3.78            </td></tr>\n",
       "\t<tr><td>N1              </td><td>13/08/17        </td><td>Feyenoord       </td><td>Twente          </td><td>2               </td><td>1               </td><td>H               </td><td>1               </td><td>1               </td><td>D               </td><td>...             </td><td>2.47            </td><td>17              </td><td>-1.75           </td><td>1.92            </td><td>1.88            </td><td>2.01            </td><td>1.97            </td><td>1.24            </td><td>6.7             </td><td>13.99           </td></tr>\n",
       "\t<tr><td>N1              </td><td>13/08/17        </td><td>Groningen       </td><td>Heerenveen      </td><td>3               </td><td>3               </td><td>D               </td><td>0               </td><td>2               </td><td>A               </td><td>...             </td><td>2.28            </td><td>17              </td><td>-0.25           </td><td>1.97            </td><td>1.92            </td><td>1.97            </td><td>1.92            </td><td>2.24            </td><td>3.86            </td><td>3.13            </td></tr>\n",
       "\t<tr><td>N1              </td><td>13/08/17        </td><td>Willem II       </td><td>Excelsior       </td><td>1               </td><td>2               </td><td>A               </td><td>0               </td><td>1               </td><td>A               </td><td>...             </td><td>1.9             </td><td>16              </td><td>-0.5            </td><td>2.11            </td><td>2.06            </td><td>1.84            </td><td>1.8             </td><td>2.16            </td><td>3.54            </td><td>3.57            </td></tr>\n",
       "\t<tr><td>N1              </td><td>13/08/17        </td><td>Zwolle          </td><td>Roda            </td><td>4               </td><td>2               </td><td>H               </td><td>1               </td><td>1               </td><td>D               </td><td>...             </td><td>1.94            </td><td>16              </td><td>-0.5            </td><td>1.87            </td><td>1.83            </td><td>2.07            </td><td>2.02            </td><td>1.74            </td><td>4.01            </td><td>5.05            </td></tr>\n",
       "\t<tr><td>N1              </td><td>18/08/17        </td><td>Roda            </td><td>Vitesse         </td><td>1               </td><td>3               </td><td>A               </td><td>0               </td><td>1               </td><td>A               </td><td>...             </td><td>2.08            </td><td>16              </td><td>0.5             </td><td>2.03            </td><td>1.97            </td><td>1.94            </td><td>1.89            </td><td>4.1             </td><td>3.85            </td><td>1.92            </td></tr>\n",
       "\t<tr><td>N1              </td><td>19/08/17        </td><td>AZ Alkmaar      </td><td>Den Haag        </td><td>2               </td><td>0               </td><td>H               </td><td>1               </td><td>0               </td><td>H               </td><td>...             </td><td>2.67            </td><td>15              </td><td>-1.5            </td><td>2.07            </td><td>2.01            </td><td>1.88            </td><td>1.83            </td><td>1.42            </td><td>5.3             </td><td>7.5             </td></tr>\n",
       "\t<tr><td>N1              </td><td>19/08/17        </td><td>Heerenveen      </td><td>Heracles        </td><td>1               </td><td>1               </td><td>D               </td><td>0               </td><td>1               </td><td>A               </td><td>...             </td><td>2.53            </td><td>14              </td><td>-0.75           </td><td>1.86            </td><td>1.81            </td><td>2.09            </td><td>2.04            </td><td>1.59            </td><td>4.5             </td><td>5.71            </td></tr>\n",
       "\t<tr><td>N1              </td><td>19/08/17        </td><td>Twente          </td><td>VVV Venlo       </td><td>1               </td><td>2               </td><td>A               </td><td>0               </td><td>2               </td><td>A               </td><td>...             </td><td>2.13            </td><td>14              </td><td>-0.75           </td><td>2.08            </td><td>2               </td><td>1.89            </td><td>1.85            </td><td>1.95            </td><td>3.67            </td><td>4.15            </td></tr>\n",
       "\t<tr><td>N1              </td><td>20/08/17        </td><td>Ajax            </td><td>Groningen       </td><td>3               </td><td>1               </td><td>H               </td><td>1               </td><td>0               </td><td>H               </td><td>...             </td><td>2.88            </td><td>14              </td><td>-1.75           </td><td>2.05            </td><td>1.98            </td><td>1.94            </td><td>1.87            </td><td>1.25            </td><td>7.18            </td><td>11.32           </td></tr>\n",
       "\t<tr><td>N1              </td><td>20/08/17        </td><td>Excelsior       </td><td>Feyenoord       </td><td>0               </td><td>1               </td><td>A               </td><td>0               </td><td>1               </td><td>A               </td><td>...             </td><td>2.42            </td><td>14              </td><td>1.25            </td><td>1.97            </td><td>1.92            </td><td>1.97            </td><td>1.92            </td><td>7.86            </td><td>4.9             </td><td>1.44            </td></tr>\n",
       "\t<tr><td>N1              </td><td>20/08/17        </td><td>NAC Breda       </td><td>PSV Eindhoven   </td><td>1               </td><td>4               </td><td>A               </td><td>1               </td><td>1               </td><td>D               </td><td>...             </td><td>2.67            </td><td>15              </td><td>1.5             </td><td>1.99            </td><td>1.94            </td><td>1.94            </td><td>1.9             </td><td>10.61           </td><td>6.5             </td><td>1.29            </td></tr>\n",
       "\t<tr><td>N1              </td><td>20/08/17        </td><td>Sparta Rotterdam</td><td>Zwolle          </td><td>1               </td><td>1               </td><td>D               </td><td>1               </td><td>1               </td><td>D               </td><td>...             </td><td>2.1             </td><td>14              </td><td>0               </td><td>1.92            </td><td>1.87            </td><td>2               </td><td>1.96            </td><td>2.44            </td><td>3.53            </td><td>3.02            </td></tr>\n",
       "\t<tr><td>N1              </td><td>20/08/17        </td><td>Utrecht         </td><td>Willem II       </td><td>2               </td><td>0               </td><td>H               </td><td>2               </td><td>0               </td><td>H               </td><td>...             </td><td>1.97            </td><td>14              </td><td>-1              </td><td>1.94            </td><td>1.9             </td><td>1.99            </td><td>1.95            </td><td>1.48            </td><td>4.71            </td><td>7.34            </td></tr>\n",
       "\t<tr><td>N1              </td><td>25/08/17        </td><td>NAC Breda       </td><td>Sparta Rotterdam</td><td>2               </td><td>2               </td><td>D               </td><td>1               </td><td>0               </td><td>H               </td><td>...             </td><td>2.02            </td><td>15              </td><td>-0.25           </td><td>2.08            </td><td>2.05            </td><td>1.89            </td><td>1.83            </td><td>2.66            </td><td>3.53            </td><td>2.73            </td></tr>\n",
       "\t<tr><td>N1              </td><td>26/08/17        </td><td>Den Haag        </td><td>Heerenveen      </td><td>1               </td><td>2               </td><td>A               </td><td>0               </td><td>0               </td><td>D               </td><td>...             </td><td>2.15            </td><td>14              </td><td>0.25            </td><td>1.95            </td><td>1.89            </td><td>2.02            </td><td>1.98            </td><td>3.21            </td><td>3.72            </td><td>2.25            </td></tr>\n",
       "\t<tr><td>N1              </td><td>26/08/17        </td><td>Heracles        </td><td>Excelsior       </td><td>2               </td><td>2               </td><td>D               </td><td>1               </td><td>1               </td><td>D               </td><td>...             </td><td>2.23            </td><td>14              </td><td>-0.25           </td><td>1.91            </td><td>1.86            </td><td>2.08            </td><td>2.01            </td><td>2.23            </td><td>3.72            </td><td>3.26            </td></tr>\n",
       "\t<tr><td>N1              </td><td>26/08/17        </td><td>Vitesse         </td><td>AZ Alkmaar      </td><td>1               </td><td>2               </td><td>A               </td><td>0               </td><td>1               </td><td>A               </td><td>...             </td><td>2.32            </td><td>14              </td><td>-0.25           </td><td>1.95            </td><td>1.91            </td><td>2               </td><td>1.96            </td><td>2.26            </td><td>3.64            </td><td>3.25            </td></tr>\n",
       "\t<tr><td>N1              </td><td>26/08/17        </td><td>Zwolle          </td><td>Twente          </td><td>2               </td><td>0               </td><td>H               </td><td>1               </td><td>0               </td><td>H               </td><td>...             </td><td>2.24            </td><td>14              </td><td>-0.5            </td><td>2.05            </td><td>2.01            </td><td>1.92            </td><td>1.87            </td><td>2.02            </td><td>3.76            </td><td>3.78            </td></tr>\n",
       "\t<tr><td>N1              </td><td>27/08/17        </td><td>Feyenoord       </td><td>Willem II       </td><td>5               </td><td>0               </td><td>H               </td><td>4               </td><td>0               </td><td>H               </td><td>...             </td><td>2.79            </td><td>13              </td><td>-2              </td><td>1.96            </td><td>1.93            </td><td>1.99            </td><td>1.95            </td><td>1.22            </td><td>6.79            </td><td>17.93           </td></tr>\n",
       "\t<tr><td>N1              </td><td>27/08/17        </td><td>Groningen       </td><td>Utrecht         </td><td>2               </td><td>1               </td><td>H               </td><td>2               </td><td>0               </td><td>H               </td><td>...             </td><td>2.24            </td><td>13              </td><td>0               </td><td>2.02            </td><td>1.96            </td><td>1.94            </td><td>1.89            </td><td>2.74            </td><td>3.67            </td><td>2.58            </td></tr>\n",
       "\t<tr><td>N1              </td><td>27/08/17        </td><td>PSV Eindhoven   </td><td>Roda            </td><td>2               </td><td>0               </td><td>H               </td><td>2               </td><td>0               </td><td>H               </td><td>...             </td><td>3.5             </td><td>14              </td><td>-2.5            </td><td>1.92            </td><td>1.88            </td><td>2.02            </td><td>1.98            </td><td>1.12            </td><td>10.72           </td><td>24.44           </td></tr>\n",
       "\t<tr><td>N1              </td><td>27/08/17        </td><td>VVV Venlo       </td><td>Ajax            </td><td>0               </td><td>2               </td><td>A               </td><td>0               </td><td>0               </td><td>D               </td><td>...             </td><td>2.6             </td><td>13              </td><td>1.25            </td><td>2               </td><td>1.88            </td><td>2.04            </td><td>1.98            </td><td>8.42            </td><td>5.03            </td><td>1.41            </td></tr>\n",
       "</tbody>\n",
       "</table>\n"
      ],
      "text/latex": [
       "\\begin{tabular}{r|llllllllllllllllllllllllllllllllllllllllllllllllllll}\n",
       " Div & Date & HomeTeam & AwayTeam & FTHG & FTAG & FTR & HTHG & HTAG & HTR & ... & BbAv.2.5.1 & BbAH & BbAHh & BbMxAHH & BbAvAHH & BbMxAHA & BbAvAHA & PSCH & PSCD & PSCA\\\\\n",
       "\\hline\n",
       "\t N1               & 11/08/17         & Den Haag         & Utrecht          & 0                & 3                & A                & 0                & 1                & A                & ...              & 1.84             & 17               & 0.5              & 1.88             & 1.84             & 2.07             & 2.02             & 3.95             & 3.57             & 2.03            \\\\\n",
       "\t N1               & 12/08/17         & Heracles         & Ajax             & 2                & 1                & H                & 0                & 0                & D                & ...              & 2.18             & 17               & 1.25             & 2                & 1.94             & 1.96             & 1.91             & 9.72             & 6.18             & 1.32            \\\\\n",
       "\t N1               & 12/08/17         & PSV Eindhoven    & AZ Alkmaar       & 3                & 2                & H                & 1                & 1                & D                & ...              & 2.64             & 17               & -1.25            & 1.98             & 1.92             & 1.96             & 1.93             & 1.47             & 5.1              & 6.64            \\\\\n",
       "\t N1               & 12/08/17         & Vitesse          & NAC Breda        & 4                & 1                & H                & 3                & 0                & H                & ...              & 2.23             & 18               & -1               & 1.98             & 1.92             & 2                & 1.93             & 1.47             & 4.82             & 7.33            \\\\\n",
       "\t N1               & 12/08/17         & VVV Venlo        & Sparta Rotterdam & 3                & 0                & H                & 1                & 0                & H                & ...              & 1.87             & 18               & -0.25            & 1.86             & 1.83             & 2.08             & 2.03             & 2.1              & 3.52             & 3.78            \\\\\n",
       "\t N1               & 13/08/17         & Feyenoord        & Twente           & 2                & 1                & H                & 1                & 1                & D                & ...              & 2.47             & 17               & -1.75            & 1.92             & 1.88             & 2.01             & 1.97             & 1.24             & 6.7              & 13.99           \\\\\n",
       "\t N1               & 13/08/17         & Groningen        & Heerenveen       & 3                & 3                & D                & 0                & 2                & A                & ...              & 2.28             & 17               & -0.25            & 1.97             & 1.92             & 1.97             & 1.92             & 2.24             & 3.86             & 3.13            \\\\\n",
       "\t N1               & 13/08/17         & Willem II        & Excelsior        & 1                & 2                & A                & 0                & 1                & A                & ...              & 1.9              & 16               & -0.5             & 2.11             & 2.06             & 1.84             & 1.8              & 2.16             & 3.54             & 3.57            \\\\\n",
       "\t N1               & 13/08/17         & Zwolle           & Roda             & 4                & 2                & H                & 1                & 1                & D                & ...              & 1.94             & 16               & -0.5             & 1.87             & 1.83             & 2.07             & 2.02             & 1.74             & 4.01             & 5.05            \\\\\n",
       "\t N1               & 18/08/17         & Roda             & Vitesse          & 1                & 3                & A                & 0                & 1                & A                & ...              & 2.08             & 16               & 0.5              & 2.03             & 1.97             & 1.94             & 1.89             & 4.1              & 3.85             & 1.92            \\\\\n",
       "\t N1               & 19/08/17         & AZ Alkmaar       & Den Haag         & 2                & 0                & H                & 1                & 0                & H                & ...              & 2.67             & 15               & -1.5             & 2.07             & 2.01             & 1.88             & 1.83             & 1.42             & 5.3              & 7.5             \\\\\n",
       "\t N1               & 19/08/17         & Heerenveen       & Heracles         & 1                & 1                & D                & 0                & 1                & A                & ...              & 2.53             & 14               & -0.75            & 1.86             & 1.81             & 2.09             & 2.04             & 1.59             & 4.5              & 5.71            \\\\\n",
       "\t N1               & 19/08/17         & Twente           & VVV Venlo        & 1                & 2                & A                & 0                & 2                & A                & ...              & 2.13             & 14               & -0.75            & 2.08             & 2                & 1.89             & 1.85             & 1.95             & 3.67             & 4.15            \\\\\n",
       "\t N1               & 20/08/17         & Ajax             & Groningen        & 3                & 1                & H                & 1                & 0                & H                & ...              & 2.88             & 14               & -1.75            & 2.05             & 1.98             & 1.94             & 1.87             & 1.25             & 7.18             & 11.32           \\\\\n",
       "\t N1               & 20/08/17         & Excelsior        & Feyenoord        & 0                & 1                & A                & 0                & 1                & A                & ...              & 2.42             & 14               & 1.25             & 1.97             & 1.92             & 1.97             & 1.92             & 7.86             & 4.9              & 1.44            \\\\\n",
       "\t N1               & 20/08/17         & NAC Breda        & PSV Eindhoven    & 1                & 4                & A                & 1                & 1                & D                & ...              & 2.67             & 15               & 1.5              & 1.99             & 1.94             & 1.94             & 1.9              & 10.61            & 6.5              & 1.29            \\\\\n",
       "\t N1               & 20/08/17         & Sparta Rotterdam & Zwolle           & 1                & 1                & D                & 1                & 1                & D                & ...              & 2.1              & 14               & 0                & 1.92             & 1.87             & 2                & 1.96             & 2.44             & 3.53             & 3.02            \\\\\n",
       "\t N1               & 20/08/17         & Utrecht          & Willem II        & 2                & 0                & H                & 2                & 0                & H                & ...              & 1.97             & 14               & -1               & 1.94             & 1.9              & 1.99             & 1.95             & 1.48             & 4.71             & 7.34            \\\\\n",
       "\t N1               & 25/08/17         & NAC Breda        & Sparta Rotterdam & 2                & 2                & D                & 1                & 0                & H                & ...              & 2.02             & 15               & -0.25            & 2.08             & 2.05             & 1.89             & 1.83             & 2.66             & 3.53             & 2.73            \\\\\n",
       "\t N1               & 26/08/17         & Den Haag         & Heerenveen       & 1                & 2                & A                & 0                & 0                & D                & ...              & 2.15             & 14               & 0.25             & 1.95             & 1.89             & 2.02             & 1.98             & 3.21             & 3.72             & 2.25            \\\\\n",
       "\t N1               & 26/08/17         & Heracles         & Excelsior        & 2                & 2                & D                & 1                & 1                & D                & ...              & 2.23             & 14               & -0.25            & 1.91             & 1.86             & 2.08             & 2.01             & 2.23             & 3.72             & 3.26            \\\\\n",
       "\t N1               & 26/08/17         & Vitesse          & AZ Alkmaar       & 1                & 2                & A                & 0                & 1                & A                & ...              & 2.32             & 14               & -0.25            & 1.95             & 1.91             & 2                & 1.96             & 2.26             & 3.64             & 3.25            \\\\\n",
       "\t N1               & 26/08/17         & Zwolle           & Twente           & 2                & 0                & H                & 1                & 0                & H                & ...              & 2.24             & 14               & -0.5             & 2.05             & 2.01             & 1.92             & 1.87             & 2.02             & 3.76             & 3.78            \\\\\n",
       "\t N1               & 27/08/17         & Feyenoord        & Willem II        & 5                & 0                & H                & 4                & 0                & H                & ...              & 2.79             & 13               & -2               & 1.96             & 1.93             & 1.99             & 1.95             & 1.22             & 6.79             & 17.93           \\\\\n",
       "\t N1               & 27/08/17         & Groningen        & Utrecht          & 2                & 1                & H                & 2                & 0                & H                & ...              & 2.24             & 13               & 0                & 2.02             & 1.96             & 1.94             & 1.89             & 2.74             & 3.67             & 2.58            \\\\\n",
       "\t N1               & 27/08/17         & PSV Eindhoven    & Roda             & 2                & 0                & H                & 2                & 0                & H                & ...              & 3.5              & 14               & -2.5             & 1.92             & 1.88             & 2.02             & 1.98             & 1.12             & 10.72            & 24.44           \\\\\n",
       "\t N1               & 27/08/17         & VVV Venlo        & Ajax             & 0                & 2                & A                & 0                & 0                & D                & ...              & 2.6              & 13               & 1.25             & 2                & 1.88             & 2.04             & 1.98             & 8.42             & 5.03             & 1.41            \\\\\n",
       "\\end{tabular}\n"
      ],
      "text/markdown": [
       "\n",
       "Div | Date | HomeTeam | AwayTeam | FTHG | FTAG | FTR | HTHG | HTAG | HTR | ... | BbAv.2.5.1 | BbAH | BbAHh | BbMxAHH | BbAvAHH | BbMxAHA | BbAvAHA | PSCH | PSCD | PSCA | \n",
       "|---|---|---|---|---|---|---|---|---|---|---|---|---|---|---|---|---|---|---|---|---|---|---|---|---|---|---|\n",
       "| N1               | 11/08/17         | Den Haag         | Utrecht          | 0                | 3                | A                | 0                | 1                | A                | ...              | 1.84             | 17               | 0.5              | 1.88             | 1.84             | 2.07             | 2.02             | 3.95             | 3.57             | 2.03             | \n",
       "| N1               | 12/08/17         | Heracles         | Ajax             | 2                | 1                | H                | 0                | 0                | D                | ...              | 2.18             | 17               | 1.25             | 2                | 1.94             | 1.96             | 1.91             | 9.72             | 6.18             | 1.32             | \n",
       "| N1               | 12/08/17         | PSV Eindhoven    | AZ Alkmaar       | 3                | 2                | H                | 1                | 1                | D                | ...              | 2.64             | 17               | -1.25            | 1.98             | 1.92             | 1.96             | 1.93             | 1.47             | 5.1              | 6.64             | \n",
       "| N1               | 12/08/17         | Vitesse          | NAC Breda        | 4                | 1                | H                | 3                | 0                | H                | ...              | 2.23             | 18               | -1               | 1.98             | 1.92             | 2                | 1.93             | 1.47             | 4.82             | 7.33             | \n",
       "| N1               | 12/08/17         | VVV Venlo        | Sparta Rotterdam | 3                | 0                | H                | 1                | 0                | H                | ...              | 1.87             | 18               | -0.25            | 1.86             | 1.83             | 2.08             | 2.03             | 2.1              | 3.52             | 3.78             | \n",
       "| N1               | 13/08/17         | Feyenoord        | Twente           | 2                | 1                | H                | 1                | 1                | D                | ...              | 2.47             | 17               | -1.75            | 1.92             | 1.88             | 2.01             | 1.97             | 1.24             | 6.7              | 13.99            | \n",
       "| N1               | 13/08/17         | Groningen        | Heerenveen       | 3                | 3                | D                | 0                | 2                | A                | ...              | 2.28             | 17               | -0.25            | 1.97             | 1.92             | 1.97             | 1.92             | 2.24             | 3.86             | 3.13             | \n",
       "| N1               | 13/08/17         | Willem II        | Excelsior        | 1                | 2                | A                | 0                | 1                | A                | ...              | 1.9              | 16               | -0.5             | 2.11             | 2.06             | 1.84             | 1.8              | 2.16             | 3.54             | 3.57             | \n",
       "| N1               | 13/08/17         | Zwolle           | Roda             | 4                | 2                | H                | 1                | 1                | D                | ...              | 1.94             | 16               | -0.5             | 1.87             | 1.83             | 2.07             | 2.02             | 1.74             | 4.01             | 5.05             | \n",
       "| N1               | 18/08/17         | Roda             | Vitesse          | 1                | 3                | A                | 0                | 1                | A                | ...              | 2.08             | 16               | 0.5              | 2.03             | 1.97             | 1.94             | 1.89             | 4.1              | 3.85             | 1.92             | \n",
       "| N1               | 19/08/17         | AZ Alkmaar       | Den Haag         | 2                | 0                | H                | 1                | 0                | H                | ...              | 2.67             | 15               | -1.5             | 2.07             | 2.01             | 1.88             | 1.83             | 1.42             | 5.3              | 7.5              | \n",
       "| N1               | 19/08/17         | Heerenveen       | Heracles         | 1                | 1                | D                | 0                | 1                | A                | ...              | 2.53             | 14               | -0.75            | 1.86             | 1.81             | 2.09             | 2.04             | 1.59             | 4.5              | 5.71             | \n",
       "| N1               | 19/08/17         | Twente           | VVV Venlo        | 1                | 2                | A                | 0                | 2                | A                | ...              | 2.13             | 14               | -0.75            | 2.08             | 2                | 1.89             | 1.85             | 1.95             | 3.67             | 4.15             | \n",
       "| N1               | 20/08/17         | Ajax             | Groningen        | 3                | 1                | H                | 1                | 0                | H                | ...              | 2.88             | 14               | -1.75            | 2.05             | 1.98             | 1.94             | 1.87             | 1.25             | 7.18             | 11.32            | \n",
       "| N1               | 20/08/17         | Excelsior        | Feyenoord        | 0                | 1                | A                | 0                | 1                | A                | ...              | 2.42             | 14               | 1.25             | 1.97             | 1.92             | 1.97             | 1.92             | 7.86             | 4.9              | 1.44             | \n",
       "| N1               | 20/08/17         | NAC Breda        | PSV Eindhoven    | 1                | 4                | A                | 1                | 1                | D                | ...              | 2.67             | 15               | 1.5              | 1.99             | 1.94             | 1.94             | 1.9              | 10.61            | 6.5              | 1.29             | \n",
       "| N1               | 20/08/17         | Sparta Rotterdam | Zwolle           | 1                | 1                | D                | 1                | 1                | D                | ...              | 2.1              | 14               | 0                | 1.92             | 1.87             | 2                | 1.96             | 2.44             | 3.53             | 3.02             | \n",
       "| N1               | 20/08/17         | Utrecht          | Willem II        | 2                | 0                | H                | 2                | 0                | H                | ...              | 1.97             | 14               | -1               | 1.94             | 1.9              | 1.99             | 1.95             | 1.48             | 4.71             | 7.34             | \n",
       "| N1               | 25/08/17         | NAC Breda        | Sparta Rotterdam | 2                | 2                | D                | 1                | 0                | H                | ...              | 2.02             | 15               | -0.25            | 2.08             | 2.05             | 1.89             | 1.83             | 2.66             | 3.53             | 2.73             | \n",
       "| N1               | 26/08/17         | Den Haag         | Heerenveen       | 1                | 2                | A                | 0                | 0                | D                | ...              | 2.15             | 14               | 0.25             | 1.95             | 1.89             | 2.02             | 1.98             | 3.21             | 3.72             | 2.25             | \n",
       "| N1               | 26/08/17         | Heracles         | Excelsior        | 2                | 2                | D                | 1                | 1                | D                | ...              | 2.23             | 14               | -0.25            | 1.91             | 1.86             | 2.08             | 2.01             | 2.23             | 3.72             | 3.26             | \n",
       "| N1               | 26/08/17         | Vitesse          | AZ Alkmaar       | 1                | 2                | A                | 0                | 1                | A                | ...              | 2.32             | 14               | -0.25            | 1.95             | 1.91             | 2                | 1.96             | 2.26             | 3.64             | 3.25             | \n",
       "| N1               | 26/08/17         | Zwolle           | Twente           | 2                | 0                | H                | 1                | 0                | H                | ...              | 2.24             | 14               | -0.5             | 2.05             | 2.01             | 1.92             | 1.87             | 2.02             | 3.76             | 3.78             | \n",
       "| N1               | 27/08/17         | Feyenoord        | Willem II        | 5                | 0                | H                | 4                | 0                | H                | ...              | 2.79             | 13               | -2               | 1.96             | 1.93             | 1.99             | 1.95             | 1.22             | 6.79             | 17.93            | \n",
       "| N1               | 27/08/17         | Groningen        | Utrecht          | 2                | 1                | H                | 2                | 0                | H                | ...              | 2.24             | 13               | 0                | 2.02             | 1.96             | 1.94             | 1.89             | 2.74             | 3.67             | 2.58             | \n",
       "| N1               | 27/08/17         | PSV Eindhoven    | Roda             | 2                | 0                | H                | 2                | 0                | H                | ...              | 3.5              | 14               | -2.5             | 1.92             | 1.88             | 2.02             | 1.98             | 1.12             | 10.72            | 24.44            | \n",
       "| N1               | 27/08/17         | VVV Venlo        | Ajax             | 0                | 2                | A                | 0                | 0                | D                | ...              | 2.6              | 13               | 1.25             | 2                | 1.88             | 2.04             | 1.98             | 8.42             | 5.03             | 1.41             | \n",
       "\n",
       "\n"
      ],
      "text/plain": [
       "   Div Date     HomeTeam         AwayTeam         FTHG FTAG FTR HTHG HTAG HTR\n",
       "1  N1  11/08/17 Den Haag         Utrecht          0    3    A   0    1    A  \n",
       "2  N1  12/08/17 Heracles         Ajax             2    1    H   0    0    D  \n",
       "3  N1  12/08/17 PSV Eindhoven    AZ Alkmaar       3    2    H   1    1    D  \n",
       "4  N1  12/08/17 Vitesse          NAC Breda        4    1    H   3    0    H  \n",
       "5  N1  12/08/17 VVV Venlo        Sparta Rotterdam 3    0    H   1    0    H  \n",
       "6  N1  13/08/17 Feyenoord        Twente           2    1    H   1    1    D  \n",
       "7  N1  13/08/17 Groningen        Heerenveen       3    3    D   0    2    A  \n",
       "8  N1  13/08/17 Willem II        Excelsior        1    2    A   0    1    A  \n",
       "9  N1  13/08/17 Zwolle           Roda             4    2    H   1    1    D  \n",
       "10 N1  18/08/17 Roda             Vitesse          1    3    A   0    1    A  \n",
       "11 N1  19/08/17 AZ Alkmaar       Den Haag         2    0    H   1    0    H  \n",
       "12 N1  19/08/17 Heerenveen       Heracles         1    1    D   0    1    A  \n",
       "13 N1  19/08/17 Twente           VVV Venlo        1    2    A   0    2    A  \n",
       "14 N1  20/08/17 Ajax             Groningen        3    1    H   1    0    H  \n",
       "15 N1  20/08/17 Excelsior        Feyenoord        0    1    A   0    1    A  \n",
       "16 N1  20/08/17 NAC Breda        PSV Eindhoven    1    4    A   1    1    D  \n",
       "17 N1  20/08/17 Sparta Rotterdam Zwolle           1    1    D   1    1    D  \n",
       "18 N1  20/08/17 Utrecht          Willem II        2    0    H   2    0    H  \n",
       "19 N1  25/08/17 NAC Breda        Sparta Rotterdam 2    2    D   1    0    H  \n",
       "20 N1  26/08/17 Den Haag         Heerenveen       1    2    A   0    0    D  \n",
       "21 N1  26/08/17 Heracles         Excelsior        2    2    D   1    1    D  \n",
       "22 N1  26/08/17 Vitesse          AZ Alkmaar       1    2    A   0    1    A  \n",
       "23 N1  26/08/17 Zwolle           Twente           2    0    H   1    0    H  \n",
       "24 N1  27/08/17 Feyenoord        Willem II        5    0    H   4    0    H  \n",
       "25 N1  27/08/17 Groningen        Utrecht          2    1    H   2    0    H  \n",
       "26 N1  27/08/17 PSV Eindhoven    Roda             2    0    H   2    0    H  \n",
       "27 N1  27/08/17 VVV Venlo        Ajax             0    2    A   0    0    D  \n",
       "   ... BbAv.2.5.1 BbAH BbAHh BbMxAHH BbAvAHH BbMxAHA BbAvAHA PSCH  PSCD  PSCA \n",
       "1  ... 1.84       17   0.5   1.88    1.84    2.07    2.02    3.95  3.57  2.03 \n",
       "2  ... 2.18       17   1.25  2       1.94    1.96    1.91    9.72  6.18  1.32 \n",
       "3  ... 2.64       17   -1.25 1.98    1.92    1.96    1.93    1.47  5.1   6.64 \n",
       "4  ... 2.23       18   -1    1.98    1.92    2       1.93    1.47  4.82  7.33 \n",
       "5  ... 1.87       18   -0.25 1.86    1.83    2.08    2.03    2.1   3.52  3.78 \n",
       "6  ... 2.47       17   -1.75 1.92    1.88    2.01    1.97    1.24  6.7   13.99\n",
       "7  ... 2.28       17   -0.25 1.97    1.92    1.97    1.92    2.24  3.86  3.13 \n",
       "8  ... 1.9        16   -0.5  2.11    2.06    1.84    1.8     2.16  3.54  3.57 \n",
       "9  ... 1.94       16   -0.5  1.87    1.83    2.07    2.02    1.74  4.01  5.05 \n",
       "10 ... 2.08       16   0.5   2.03    1.97    1.94    1.89    4.1   3.85  1.92 \n",
       "11 ... 2.67       15   -1.5  2.07    2.01    1.88    1.83    1.42  5.3   7.5  \n",
       "12 ... 2.53       14   -0.75 1.86    1.81    2.09    2.04    1.59  4.5   5.71 \n",
       "13 ... 2.13       14   -0.75 2.08    2       1.89    1.85    1.95  3.67  4.15 \n",
       "14 ... 2.88       14   -1.75 2.05    1.98    1.94    1.87    1.25  7.18  11.32\n",
       "15 ... 2.42       14   1.25  1.97    1.92    1.97    1.92    7.86  4.9   1.44 \n",
       "16 ... 2.67       15   1.5   1.99    1.94    1.94    1.9     10.61 6.5   1.29 \n",
       "17 ... 2.1        14   0     1.92    1.87    2       1.96    2.44  3.53  3.02 \n",
       "18 ... 1.97       14   -1    1.94    1.9     1.99    1.95    1.48  4.71  7.34 \n",
       "19 ... 2.02       15   -0.25 2.08    2.05    1.89    1.83    2.66  3.53  2.73 \n",
       "20 ... 2.15       14   0.25  1.95    1.89    2.02    1.98    3.21  3.72  2.25 \n",
       "21 ... 2.23       14   -0.25 1.91    1.86    2.08    2.01    2.23  3.72  3.26 \n",
       "22 ... 2.32       14   -0.25 1.95    1.91    2       1.96    2.26  3.64  3.25 \n",
       "23 ... 2.24       14   -0.5  2.05    2.01    1.92    1.87    2.02  3.76  3.78 \n",
       "24 ... 2.79       13   -2    1.96    1.93    1.99    1.95    1.22  6.79  17.93\n",
       "25 ... 2.24       13   0     2.02    1.96    1.94    1.89    2.74  3.67  2.58 \n",
       "26 ... 3.5        14   -2.5  1.92    1.88    2.02    1.98    1.12  10.72 24.44\n",
       "27 ... 2.6        13   1.25  2       1.88    2.04    1.98    8.42  5.03  1.41 "
      ]
     },
     "metadata": {},
     "output_type": "display_data"
    }
   ],
   "source": [
    "football2\n",
    "\n"
   ]
  },
  {
   "cell_type": "markdown",
   "metadata": {},
   "source": [
    "\n",
    "\n",
    "We beginnen met hetzelfde voorbeeld als voetbal, maar dan in de vorm van een excelsheet. Als je het package `readxl` hebt gerund (zie helemaal bovenaan), dan kun je de data inlezen. Het maakt daarbij niet uit of het een xls of xlsx bestand is.\n",
    "\n",
    "Probeer de file \"football.xlsx\" in te lezen. Gebruik daarvoor dezelfde structuur als bij de csv bestanden. \n",
    "Hint: google  op de package readxl\n",
    "\n",
    "\n",
    "## Read Excel files\n",
    "\n",
    "Often you will get your data in the form of an _Excel_ sheet. There are several packages available to read _Excel_ files in `R`. For this course, we will use the package `readxl`.\n",
    "\n",
    "We will use the same data as above, only in a different format.\n",
    "We have loaded the package `readxl` at the top of this notebook. using that package, the `Excel` sheet can be loaded.\n",
    "\n",
    "Try to google how to read in the excel file *football.xlsx* in the folder sourcedata as a dataframe with the name *football_points* and use `head()` to view the data.\n"
   ]
  },
  {
   "cell_type": "code",
   "execution_count": 18,
   "metadata": {},
   "outputs": [
    {
     "data": {
      "text/html": [
       "<table>\n",
       "<thead><tr><th scope=col>Eredivisie 2015/2016</th><th scope=col>X__1</th></tr></thead>\n",
       "<tbody>\n",
       "\t<tr><td>NA       </td><td>NA       </td></tr>\n",
       "\t<tr><td>NA       </td><td>NA       </td></tr>\n",
       "\t<tr><td>Club     </td><td>Points   </td></tr>\n",
       "\t<tr><td>PSV      </td><td>84       </td></tr>\n",
       "\t<tr><td>Ajax     </td><td>82       </td></tr>\n",
       "\t<tr><td>Feyenoord</td><td>63       </td></tr>\n",
       "</tbody>\n",
       "</table>\n"
      ],
      "text/latex": [
       "\\begin{tabular}{r|ll}\n",
       " Eredivisie 2015/2016 & X\\_\\_1\\\\\n",
       "\\hline\n",
       "\t NA        & NA       \\\\\n",
       "\t NA        & NA       \\\\\n",
       "\t Club      & Points   \\\\\n",
       "\t PSV       & 84       \\\\\n",
       "\t Ajax      & 82       \\\\\n",
       "\t Feyenoord & 63       \\\\\n",
       "\\end{tabular}\n"
      ],
      "text/markdown": [
       "\n",
       "Eredivisie 2015/2016 | X__1 | \n",
       "|---|---|---|---|---|---|\n",
       "| NA        | NA        | \n",
       "| NA        | NA        | \n",
       "| Club      | Points    | \n",
       "| PSV       | 84        | \n",
       "| Ajax      | 82        | \n",
       "| Feyenoord | 63        | \n",
       "\n",
       "\n"
      ],
      "text/plain": [
       "  Eredivisie 2015/2016 X__1  \n",
       "1 NA                   NA    \n",
       "2 NA                   NA    \n",
       "3 Club                 Points\n",
       "4 PSV                  84    \n",
       "5 Ajax                 82    \n",
       "6 Feyenoord            63    "
      ]
     },
     "metadata": {},
     "output_type": "display_data"
    }
   ],
   "source": [
    "football_points <- read_xlsx(\"../sourcedata/football.xlsx\")\n",
    "head(football_points)"
   ]
  },
  {
   "cell_type": "markdown",
   "metadata": {},
   "source": [
    "Looking at the data, we see that the _Excel_ sheet is read in to a dataframe including empty rows and a name that is not necessary. We can repair this using the package `dplyr` (which is part of the package `tidyverse` we will use later in the course), but we can also use the argument `skip()`. In this case we do not want to read the first 3 rows into our dataframe."
   ]
  },
  {
   "cell_type": "code",
   "execution_count": 19,
   "metadata": {},
   "outputs": [
    {
     "data": {
      "text/html": [
       "<table>\n",
       "<thead><tr><th scope=col>Club</th><th scope=col>Points</th></tr></thead>\n",
       "<tbody>\n",
       "\t<tr><td>PSV      </td><td>84       </td></tr>\n",
       "\t<tr><td>Ajax     </td><td>82       </td></tr>\n",
       "\t<tr><td>Feyenoord</td><td>63       </td></tr>\n",
       "\t<tr><td>AZ       </td><td>59       </td></tr>\n",
       "\t<tr><td>Utrecht  </td><td>53       </td></tr>\n",
       "\t<tr><td>Heracles </td><td>51       </td></tr>\n",
       "</tbody>\n",
       "</table>\n"
      ],
      "text/latex": [
       "\\begin{tabular}{r|ll}\n",
       " Club & Points\\\\\n",
       "\\hline\n",
       "\t PSV       & 84       \\\\\n",
       "\t Ajax      & 82       \\\\\n",
       "\t Feyenoord & 63       \\\\\n",
       "\t AZ        & 59       \\\\\n",
       "\t Utrecht   & 53       \\\\\n",
       "\t Heracles  & 51       \\\\\n",
       "\\end{tabular}\n"
      ],
      "text/markdown": [
       "\n",
       "Club | Points | \n",
       "|---|---|---|---|---|---|\n",
       "| PSV       | 84        | \n",
       "| Ajax      | 82        | \n",
       "| Feyenoord | 63        | \n",
       "| AZ        | 59        | \n",
       "| Utrecht   | 53        | \n",
       "| Heracles  | 51        | \n",
       "\n",
       "\n"
      ],
      "text/plain": [
       "  Club      Points\n",
       "1 PSV       84    \n",
       "2 Ajax      82    \n",
       "3 Feyenoord 63    \n",
       "4 AZ        59    \n",
       "5 Utrecht   53    \n",
       "6 Heracles  51    "
      ]
     },
     "metadata": {},
     "output_type": "display_data"
    }
   ],
   "source": [
    "football_points <- read_xlsx(\"../sourcedata/football.xlsx\", skip=3)\n",
    "head(football_points)\n",
    "\n"
   ]
  },
  {
   "cell_type": "markdown",
   "metadata": {},
   "source": [
    "## Read separate sheets\n",
    "\n",
    "If you have opened the _Excel_ sheet, you might have noticed that it has two worksheets. We only read the first sheet, but we can also read the second worksheet:"
   ]
  },
  {
   "cell_type": "code",
   "execution_count": 21,
   "metadata": {},
   "outputs": [
    {
     "data": {
      "text/html": [
       "<table>\n",
       "<thead><tr><th scope=col>Club</th><th scope=col>Budget</th></tr></thead>\n",
       "<tbody>\n",
       "\t<tr><td>PSV      </td><td>63       </td></tr>\n",
       "\t<tr><td>Ajax     </td><td>65       </td></tr>\n",
       "\t<tr><td>Feyenoord</td><td>50       </td></tr>\n",
       "\t<tr><td>AZ       </td><td>28       </td></tr>\n",
       "\t<tr><td>Utrecht  </td><td>17       </td></tr>\n",
       "\t<tr><td>Heracles </td><td>10       </td></tr>\n",
       "</tbody>\n",
       "</table>\n"
      ],
      "text/latex": [
       "\\begin{tabular}{r|ll}\n",
       " Club & Budget\\\\\n",
       "\\hline\n",
       "\t PSV       & 63       \\\\\n",
       "\t Ajax      & 65       \\\\\n",
       "\t Feyenoord & 50       \\\\\n",
       "\t AZ        & 28       \\\\\n",
       "\t Utrecht   & 17       \\\\\n",
       "\t Heracles  & 10       \\\\\n",
       "\\end{tabular}\n"
      ],
      "text/markdown": [
       "\n",
       "Club | Budget | \n",
       "|---|---|---|---|---|---|\n",
       "| PSV       | 63        | \n",
       "| Ajax      | 65        | \n",
       "| Feyenoord | 50        | \n",
       "| AZ        | 28        | \n",
       "| Utrecht   | 17        | \n",
       "| Heracles  | 10        | \n",
       "\n",
       "\n"
      ],
      "text/plain": [
       "  Club      Budget\n",
       "1 PSV       63    \n",
       "2 Ajax      65    \n",
       "3 Feyenoord 50    \n",
       "4 AZ        28    \n",
       "5 Utrecht   17    \n",
       "6 Heracles  10    "
      ]
     },
     "metadata": {},
     "output_type": "display_data"
    }
   ],
   "source": [
    "football_budget <- read_xlsx(\"../sourcedata/football.xlsx\", sheet = \"Budgets\", skip = 3)\n",
    "head(football_budget)"
   ]
  },
  {
   "cell_type": "markdown",
   "metadata": {},
   "source": [
    "Note: instead of `sheet = \"Budgets\"`, we could have used `sheet = 2`"
   ]
  },
  {
   "cell_type": "markdown",
   "metadata": {},
   "source": [
    "# Writing data\n",
    "\n",
    "It is possible to write a dataframe as a _csv_ file by using the command `write.csv2()`. This is not often needed, because all the data editing is reproducible within the script. But sometimes you may want to write your dataframe as a _csv_ file and you can do that with:"
   ]
  },
  {
   "cell_type": "code",
   "execution_count": 22,
   "metadata": {},
   "outputs": [],
   "source": [
    "write.csv2(football, file = \"../sourcedata/Myfootballdata.csv\")"
   ]
  },
  {
   "cell_type": "markdown",
   "metadata": {},
   "source": [
    "# The structure of the dataset\n",
    "\n",
    "In `R`, there are only a few common types of data:\n",
    "\n",
    "* `character` (strings)\n",
    "* `numeric` (real numbers)\n",
    "* `integer` (integer numbers)\n",
    "* `complex` (complexe numbers, e.g. 2+3i, not often used)\n",
    "* `logical` (binary `TRUE` / `FALSE` and `NA`)\n",
    "* `factors` (categorical data: e.g. _male_, _female_)\n",
    "\n",
    "And with the command `str(name_dataframe)` you will get the structure of your dataframe.\n",
    "\n",
    "First, read in *gender.csv* from the folder *sourcedata* as a dataframe with the name `gender`\n"
   ]
  },
  {
   "cell_type": "code",
   "execution_count": 23,
   "metadata": {},
   "outputs": [],
   "source": [
    "gender<- read.csv2(\"../sourcedata/gender.csv\")\n"
   ]
  },
  {
   "cell_type": "markdown",
   "metadata": {},
   "source": [
    "and then check the structure of the dataframe `gender`"
   ]
  },
  {
   "cell_type": "code",
   "execution_count": 25,
   "metadata": {},
   "outputs": [
    {
     "name": "stdout",
     "output_type": "stream",
     "text": [
      "'data.frame':\t3 obs. of  2 variables:\n",
      " $ Gender: Factor w/ 3 levels \"Female\",\"Male\",..: 2 1 3\n",
      " $ Number: int  3 5 3\n"
     ]
    },
    {
     "data": {
      "text/html": [
       "<table>\n",
       "<thead><tr><th scope=col>Gender</th><th scope=col>Number</th></tr></thead>\n",
       "<tbody>\n",
       "\t<tr><td>Male  </td><td>3     </td></tr>\n",
       "\t<tr><td>Female</td><td>5     </td></tr>\n",
       "\t<tr><td>Unkown</td><td>3     </td></tr>\n",
       "</tbody>\n",
       "</table>\n"
      ],
      "text/latex": [
       "\\begin{tabular}{r|ll}\n",
       " Gender & Number\\\\\n",
       "\\hline\n",
       "\t Male   & 3     \\\\\n",
       "\t Female & 5     \\\\\n",
       "\t Unkown & 3     \\\\\n",
       "\\end{tabular}\n"
      ],
      "text/markdown": [
       "\n",
       "Gender | Number | \n",
       "|---|---|---|\n",
       "| Male   | 3      | \n",
       "| Female | 5      | \n",
       "| Unkown | 3      | \n",
       "\n",
       "\n"
      ],
      "text/plain": [
       "  Gender Number\n",
       "1 Male   3     \n",
       "2 Female 5     \n",
       "3 Unkown 3     "
      ]
     },
     "metadata": {},
     "output_type": "display_data"
    }
   ],
   "source": [
    "str(gender)\n",
    "gender\n",
    "\n"
   ]
  },
  {
   "cell_type": "markdown",
   "metadata": {},
   "source": [
    "## Change the structure of your dataframe\n",
    "\n",
    "We can change the nature of the variables in several ways. Here we will show you a simple way.\n",
    "\n",
    "Suppose you want to change the variable _Gender_ in to a string of characters and"
   ]
  },
  {
   "cell_type": "code",
   "execution_count": 26,
   "metadata": {},
   "outputs": [],
   "source": [
    "gender$Gender <- as.character(gender$Gender)"
   ]
  },
  {
   "cell_type": "markdown",
   "metadata": {},
   "source": [
    "And suppose we want to change Number into a factor we can do this the same way:\n",
    "\n",
    "\n"
   ]
  },
  {
   "cell_type": "code",
   "execution_count": 27,
   "metadata": {},
   "outputs": [],
   "source": [
    "gender$Number <- as.factor(gender$Number)"
   ]
  },
  {
   "cell_type": "markdown",
   "metadata": {},
   "source": [
    "By using `str()` again we can check if we succeeded:"
   ]
  },
  {
   "cell_type": "code",
   "execution_count": 28,
   "metadata": {},
   "outputs": [
    {
     "name": "stdout",
     "output_type": "stream",
     "text": [
      "'data.frame':\t3 obs. of  2 variables:\n",
      " $ Gender: chr  \"Male\" \"Female\" \"Unkown\"\n",
      " $ Number: Factor w/ 2 levels \"3\",\"5\": 1 2 1\n"
     ]
    }
   ],
   "source": [
    "str(gender)"
   ]
  },
  {
   "cell_type": "markdown",
   "metadata": {},
   "source": [
    "## A caveat!\n",
    "\n",
    "Change the variable *Number* in to a new and numeric variable *Number1*. \n",
    "with\n",
    "\n",
    "'gender$Number1 <- `\n",
    "\n",
    "and then check the structure of your data and view the data"
   ]
  },
  {
   "cell_type": "code",
   "execution_count": 29,
   "metadata": {},
   "outputs": [
    {
     "name": "stdout",
     "output_type": "stream",
     "text": [
      "'data.frame':\t3 obs. of  3 variables:\n",
      " $ Gender : chr  \"Male\" \"Female\" \"Unkown\"\n",
      " $ Number : Factor w/ 2 levels \"3\",\"5\": 1 2 1\n",
      " $ Number1: num  1 2 1\n"
     ]
    }
   ],
   "source": [
    "gender$Number1 <- as.numeric(gender$Number)\n",
    "str(gender)"
   ]
  },
  {
   "cell_type": "code",
   "execution_count": 31,
   "metadata": {},
   "outputs": [
    {
     "data": {
      "text/html": [
       "<table>\n",
       "<thead><tr><th scope=col>Gender</th><th scope=col>Number</th><th scope=col>Number1</th></tr></thead>\n",
       "<tbody>\n",
       "\t<tr><td>Male  </td><td>3     </td><td>1     </td></tr>\n",
       "\t<tr><td>Female</td><td>5     </td><td>2     </td></tr>\n",
       "\t<tr><td>Unkown</td><td>3     </td><td>1     </td></tr>\n",
       "</tbody>\n",
       "</table>\n"
      ],
      "text/latex": [
       "\\begin{tabular}{r|lll}\n",
       " Gender & Number & Number1\\\\\n",
       "\\hline\n",
       "\t Male   & 3      & 1     \\\\\n",
       "\t Female & 5      & 2     \\\\\n",
       "\t Unkown & 3      & 1     \\\\\n",
       "\\end{tabular}\n"
      ],
      "text/markdown": [
       "\n",
       "Gender | Number | Number1 | \n",
       "|---|---|---|\n",
       "| Male   | 3      | 1      | \n",
       "| Female | 5      | 2      | \n",
       "| Unkown | 3      | 1      | \n",
       "\n",
       "\n"
      ],
      "text/plain": [
       "  Gender Number Number1\n",
       "1 Male   3      1      \n",
       "2 Female 5      2      \n",
       "3 Unkown 3      1      "
      ]
     },
     "metadata": {},
     "output_type": "display_data"
    }
   ],
   "source": [
    "gender\n"
   ]
  },
  {
   "cell_type": "markdown",
   "metadata": {},
   "source": [
    "R returns a vector of 1's and 2's, because a vector of factor is not a vector of numbers, but a vector with _levels_. To do this correctly we need to change the factor into a _character_ vector first and then into a _numeric_ vector:"
   ]
  },
  {
   "cell_type": "code",
   "execution_count": 33,
   "metadata": {},
   "outputs": [
    {
     "data": {
      "text/html": [
       "<table>\n",
       "<thead><tr><th scope=col>Gender</th><th scope=col>Number</th><th scope=col>Number1</th><th scope=col>Number2</th></tr></thead>\n",
       "<tbody>\n",
       "\t<tr><td>Male  </td><td>3     </td><td>1     </td><td>3     </td></tr>\n",
       "\t<tr><td>Female</td><td>5     </td><td>2     </td><td>5     </td></tr>\n",
       "\t<tr><td>Unkown</td><td>3     </td><td>1     </td><td>3     </td></tr>\n",
       "</tbody>\n",
       "</table>\n"
      ],
      "text/latex": [
       "\\begin{tabular}{r|llll}\n",
       " Gender & Number & Number1 & Number2\\\\\n",
       "\\hline\n",
       "\t Male   & 3      & 1      & 3     \\\\\n",
       "\t Female & 5      & 2      & 5     \\\\\n",
       "\t Unkown & 3      & 1      & 3     \\\\\n",
       "\\end{tabular}\n"
      ],
      "text/markdown": [
       "\n",
       "Gender | Number | Number1 | Number2 | \n",
       "|---|---|---|\n",
       "| Male   | 3      | 1      | 3      | \n",
       "| Female | 5      | 2      | 5      | \n",
       "| Unkown | 3      | 1      | 3      | \n",
       "\n",
       "\n"
      ],
      "text/plain": [
       "  Gender Number Number1 Number2\n",
       "1 Male   3      1       3      \n",
       "2 Female 5      2       5      \n",
       "3 Unkown 3      1       3      "
      ]
     },
     "metadata": {},
     "output_type": "display_data"
    }
   ],
   "source": [
    "gender$Number2 <- as.numeric(as.character(gender$Number))\n",
    "gender"
   ]
  },
  {
   "cell_type": "markdown",
   "metadata": {},
   "source": [
    "Tip: Please remember *never* change a factor variable directly into a numeric!"
   ]
  },
  {
   "cell_type": "markdown",
   "metadata": {},
   "source": [
    "## Summary of the data\n",
    "\n",
    "With the command `summary(name_dataframe)`, you will get a summary of your dataset:"
   ]
  },
  {
   "cell_type": "code",
   "execution_count": 34,
   "metadata": {},
   "outputs": [
    {
     "data": {
      "text/plain": [
       "    Gender          Number    Number1         Number2     \n",
       " Length:3           3:2    Min.   :1.000   Min.   :3.000  \n",
       " Class :character   5:1    1st Qu.:1.000   1st Qu.:3.000  \n",
       " Mode  :character          Median :1.000   Median :3.000  \n",
       "                           Mean   :1.333   Mean   :3.667  \n",
       "                           3rd Qu.:1.500   3rd Qu.:4.000  \n",
       "                           Max.   :2.000   Max.   :5.000  "
      ]
     },
     "metadata": {},
     "output_type": "display_data"
    }
   ],
   "source": [
    "summary(gender)\n"
   ]
  },
  {
   "cell_type": "markdown",
   "metadata": {},
   "source": [
    "End of Notebook"
   ]
  }
 ],
 "metadata": {
  "kernelspec": {
   "display_name": "R",
   "language": "R",
   "name": "ir"
  },
  "language_info": {
   "codemirror_mode": "r",
   "file_extension": ".r",
   "mimetype": "text/x-r-source",
   "name": "R",
   "pygments_lexer": "r",
   "version": "3.3.3"
  }
 },
 "nbformat": 4,
 "nbformat_minor": 2
}

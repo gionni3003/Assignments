{
 "cells": [
  {
   "cell_type": "markdown",
   "metadata": {},
   "source": [
    "# Merging data\n",
    "Mark Klik & Misja Mikkers\n",
    "\n",
    "# Introduction\n",
    "\n",
    "\n",
    "In many cases you need to merge data from two or more data frames. In this notebook we will show you how that can be done using only a few powerful commands.\n",
    "\n",
    "Commands that can be used for merging are:\n",
    "\n",
    "* `merge()`\n",
    "* `join()` (from package `dplyr`).\n",
    "* `rbind()`  en `cbind()`.\n",
    "\n",
    "# Packages\n",
    "\n",
    "To merge we only need the package `dplyr` (but as usual, we will load `tidyverse`)."
   ]
  },
  {
   "cell_type": "code",
   "execution_count": 2,
   "metadata": {},
   "outputs": [
    {
     "name": "stderr",
     "output_type": "stream",
     "text": [
      "-- Attaching packages --------------------------------------- tidyverse 1.2.1 --\n",
      "<U+221A> ggplot2 2.2.1     <U+221A> purrr   0.2.4\n",
      "<U+221A> tibble  1.4.2     <U+221A> dplyr   0.7.4\n",
      "<U+221A> tidyr   0.8.0     <U+221A> stringr 1.3.0\n",
      "<U+221A> readr   1.1.1     <U+221A> forcats 0.3.0\n",
      "-- Conflicts ------------------------------------------ tidyverse_conflicts() --\n",
      "x dplyr::filter() masks stats::filter()\n",
      "x dplyr::lag()    masks stats::lag()\n"
     ]
    }
   ],
   "source": [
    "library(tidyverse)\n",
    "\n"
   ]
  },
  {
   "cell_type": "markdown",
   "metadata": {},
   "source": [
    "# Dataframes\n",
    "\n",
    "\n",
    "# Dataframes\n",
    "\n",
    "First we construct two small `data.frame`'s. Because they are small, the effects of the different merge commands can be easily observed."
   ]
  },
  {
   "cell_type": "code",
   "execution_count": 4,
   "metadata": {},
   "outputs": [
    {
     "name": "stdout",
     "output_type": "stream",
     "text": [
      "  Hospital Revenue\n",
      "1   Gigant     100\n",
      "2   Moloch      95\n",
      "3     Mega      90\n",
      "  Hospital Profit\n",
      "1   Gigant     10\n",
      "2   Moloch     11\n",
      "3      ZBC      5\n"
     ]
    }
   ],
   "source": [
    "data1 <- data.frame(\n",
    "  Hospital = c(\"Gigant\", \"Moloch\", \"Mega\"),\n",
    "  Revenue = c(100, 95, 90),\n",
    "  stringsAsFactors = FALSE\n",
    ")\n",
    "print(data1)\n",
    "\n",
    "data2 <- data.frame(\n",
    "  Hospital = c(\"Gigant\", \"Moloch\", \"ZBC\"),\n",
    "  Profit = c(10, 11, 5),\n",
    "  stringsAsFactors = FALSE\n",
    ")\n",
    "print(data2)"
   ]
  },
  {
   "cell_type": "markdown",
   "metadata": {},
   "source": [
    "# Merging\n",
    "\n",
    "We can now merge the two dataframes.\n",
    "\n",
    "# using the command `merge()`\n",
    "\n",
    "Will start with the command `merged_dataframe <- merge(your_first_data_frame, your_second_dataframe, by = the_key)`. \n",
    "\n",
    "Try to do this and look at the result:"
   ]
  },
  {
   "cell_type": "code",
   "execution_count": 6,
   "metadata": {},
   "outputs": [
    {
     "name": "stdout",
     "output_type": "stream",
     "text": [
      "  Hospital Revenue Profit\n",
      "1   Gigant     100     10\n",
      "2   Moloch      95     11\n"
     ]
    }
   ],
   "source": [
    "data3 <- merge(data1,data2,by ='Hospital')\n",
    "print(data3)\n"
   ]
  },
  {
   "cell_type": "markdown",
   "metadata": {},
   "source": [
    "As you will probably notice: the command `merge()` only returns the hospitals that are part of both data frames.\n",
    "\n",
    "## The `join` command of `dplyr`\n",
    "\n",
    "We advise you to use the join commands of `dplyr`.  With these commands it's easier to control what happens during a merge.\n",
    "\n",
    "### full_join\n",
    "\n",
    "Try `merged_dataframe <- full_join(your_first_data_frame, your_second_dataframe, by = the_key)` and inspect the result:\n",
    "\n"
   ]
  },
  {
   "cell_type": "code",
   "execution_count": 7,
   "metadata": {
    "scrolled": true
   },
   "outputs": [
    {
     "name": "stdout",
     "output_type": "stream",
     "text": [
      "  Hospital Revenue Profit\n",
      "1   Gigant     100     10\n",
      "2   Moloch      95     11\n",
      "3     Mega      90     NA\n",
      "4      ZBC      NA      5\n"
     ]
    }
   ],
   "source": [
    "fulljoin <- full_join(data1,data2, by= 'Hospital')\n",
    "print(fulljoin)\n"
   ]
  },
  {
   "cell_type": "markdown",
   "metadata": {},
   "source": [
    "When you use `full_join()`, all data points from both dataframes will be merged. Missing values will be represented by `NA`'s .\n",
    "\n",
    "### inner_join\n",
    "\n",
    "Now try the command  `inner_join()` and inspect the results:"
   ]
  },
  {
   "cell_type": "code",
   "execution_count": 8,
   "metadata": {},
   "outputs": [
    {
     "name": "stdout",
     "output_type": "stream",
     "text": [
      "  Hospital Revenue Profit\n",
      "1   Gigant     100     10\n",
      "2   Moloch      95     11\n"
     ]
    }
   ],
   "source": [
    "innerjoin = inner_join(data1,data2, by= 'Hospital')\n",
    "print(innerjoin)\n",
    "\n"
   ]
  },
  {
   "cell_type": "markdown",
   "metadata": {},
   "source": [
    "`inner_join` is comparable to the command `merge()`.\n",
    "\n",
    "### left-join \n",
    "\n",
    "Inspect the results of `left_join()` and try to see what happens if you change the order of your dataframes before merging the data."
   ]
  },
  {
   "cell_type": "code",
   "execution_count": 9,
   "metadata": {},
   "outputs": [
    {
     "name": "stdout",
     "output_type": "stream",
     "text": [
      "  Hospital Revenue Profit\n",
      "1   Gigant     100     10\n",
      "2   Moloch      95     11\n",
      "3     Mega      90     NA\n"
     ]
    }
   ],
   "source": [
    "leftjoin<- left_join(data1,data2, by= 'Hospital')\n",
    "print(leftjoin)\n",
    "\n",
    "\n"
   ]
  },
  {
   "cell_type": "markdown",
   "metadata": {},
   "source": [
    "#### right-join\n",
    "\n",
    "Try `right_join()` as the mirror of `left_join()` ."
   ]
  },
  {
   "cell_type": "code",
   "execution_count": 10,
   "metadata": {},
   "outputs": [
    {
     "name": "stdout",
     "output_type": "stream",
     "text": [
      "  Hospital Revenue Profit\n",
      "1   Gigant     100     10\n",
      "2   Moloch      95     11\n",
      "3      ZBC      NA      5\n"
     ]
    }
   ],
   "source": [
    "rightjoin <- right_join(data1,data2, by= 'Hospital')\n",
    "print(rightjoin)\n",
    "\n",
    "\n"
   ]
  },
  {
   "cell_type": "markdown",
   "metadata": {},
   "source": [
    "### Information about missings\n",
    "\n",
    "There are 2 special functions that tell you something about the merged data.\n",
    "\n",
    "#### anti-join\n",
    "\n",
    "Inspect the results of `anti_join()`"
   ]
  },
  {
   "cell_type": "code",
   "execution_count": 13,
   "metadata": {},
   "outputs": [
    {
     "name": "stdout",
     "output_type": "stream",
     "text": [
      "  Hospital Revenue\n",
      "1     Mega      90\n"
     ]
    }
   ],
   "source": [
    "antijoin <- anti_join(data1,data2, by= 'Hospital')\n",
    "print(antijoin)\n",
    "\n",
    "\n"
   ]
  },
  {
   "cell_type": "markdown",
   "metadata": {},
   "source": [
    "The command `anti_join` returns the hospitals that are present in the first dataframe, but not in the second. When you want to know which hospitals are present in the second, but not in the first dataframe, you can just switch the order of the dataframes.\n",
    "\n",
    "#### semi-join\n",
    "\n",
    "The `semi_join()` command returns all hospitals present in the first and the second dataframe."
   ]
  },
  {
   "cell_type": "code",
   "execution_count": 16,
   "metadata": {},
   "outputs": [
    {
     "name": "stdout",
     "output_type": "stream",
     "text": [
      "  Hospital Revenue\n",
      "1   Gigant     100\n",
      "2   Moloch      95\n"
     ]
    }
   ],
   "source": [
    "semijoin <- semi_join(data1,data2, by= 'Hospital')\n",
    "print(semijoin)\n"
   ]
  },
  {
   "cell_type": "markdown",
   "metadata": {},
   "source": [
    "## rbind en cbind\n",
    "\n",
    "Finally, the commands `cbind()`(column bind) and `rbind()` (row bind) are usefull for adding data. Only use these commands when you'r sure about the effects. Generally, we advise you not to use these commands.\n",
    "\n",
    "## cbind\n",
    "\n",
    "With `cbind()` you paste the data from the second data as a new column to the first dataframe. Please: `cbind()` does not match! Which means that the order of the data is important.\n",
    "\n",
    "To illustrate this we will first change the order of the second dataframe"
   ]
  },
  {
   "cell_type": "code",
   "execution_count": 19,
   "metadata": {},
   "outputs": [
    {
     "name": "stdout",
     "output_type": "stream",
     "text": [
      "  Hospital Profit\n",
      "1   Moloch     11\n",
      "2   Gigant     10\n",
      "3      ZBC      5\n"
     ]
    }
   ],
   "source": [
    "data2a <- data2 %>%\n",
    "  arrange(-Profit)\n",
    "print(data2a)"
   ]
  },
  {
   "cell_type": "markdown",
   "metadata": {},
   "source": [
    "And now try to use `name_of_your_merged_dataframe <- cbind(data1, data2a)`"
   ]
  },
  {
   "cell_type": "code",
   "execution_count": 21,
   "metadata": {},
   "outputs": [
    {
     "name": "stdout",
     "output_type": "stream",
     "text": [
      "  Hospital Revenue Hospital Profit\n",
      "1   Gigant     100   Gigant     10\n",
      "2   Moloch      95   Moloch     11\n",
      "3     Mega      90      ZBC      5\n"
     ]
    }
   ],
   "source": [
    "column <- cbind(data1,data2)\n",
    "print(column)\n"
   ]
  },
  {
   "cell_type": "markdown",
   "metadata": {},
   "source": [
    "\n",
    "## rbind\n",
    "\n",
    "With the command `rbind()` you paste the data from the second dataframe under the data of the first dataframe. The second dataframe needs the same columns as the first dataframe. To illustrate this, we will first create some new data.\n"
   ]
  },
  {
   "cell_type": "code",
   "execution_count": 22,
   "metadata": {},
   "outputs": [
    {
     "name": "stdout",
     "output_type": "stream",
     "text": [
      "  Hospital Revenue\n",
      "1     Giga    1000\n"
     ]
    }
   ],
   "source": [
    "data1a <- data.frame(\n",
    "  Hospital = c(\"Giga\"),\n",
    "  Revenue = c(\"1000\")\n",
    ")\n",
    "print(data1a)"
   ]
  },
  {
   "cell_type": "markdown",
   "metadata": {},
   "source": [
    "Now try to paste the second dataframe to the first one, using `rbind()`."
   ]
  },
  {
   "cell_type": "code",
   "execution_count": 24,
   "metadata": {},
   "outputs": [
    {
     "name": "stdout",
     "output_type": "stream",
     "text": [
      "  Hospital Revenue\n",
      "1   Gigant     100\n",
      "2   Moloch      95\n",
      "3     Mega      90\n",
      "4     Giga    1000\n"
     ]
    }
   ],
   "source": [
    "row <- rbind(data1,data1a)\n",
    "print(row)\n",
    "\n"
   ]
  },
  {
   "cell_type": "markdown",
   "metadata": {},
   "source": [
    "End of notebook"
   ]
  }
 ],
 "metadata": {
  "anaconda-cloud": {},
  "kernelspec": {
   "display_name": "R",
   "language": "R",
   "name": "ir"
  },
  "language_info": {
   "codemirror_mode": "r",
   "file_extension": ".r",
   "mimetype": "text/x-r-source",
   "name": "R",
   "pygments_lexer": "r",
   "version": "3.3.3"
  }
 },
 "nbformat": 4,
 "nbformat_minor": 1
}
